{
 "cells": [
  {
   "cell_type": "code",
   "execution_count": 1,
   "metadata": {},
   "outputs": [],
   "source": [
    "%load_ext autoreload\n",
    "%autoreload 2\n",
    "\n",
    "from fundusClassif.data.data_factory import get_datamodule_from_config\n",
    "from nntools.utils import Config"
   ]
  },
  {
   "cell_type": "code",
   "execution_count": 6,
   "metadata": {},
   "outputs": [
    {
     "name": "stdout",
     "output_type": "stream",
     "text": [
      "<fundus_data_toolkit.datamodules.classification.EyePACSDataModule object at 0x714c908632f0>\n",
      "Train 28101 Val 7025 Test 53576\n",
      "<fundus_data_toolkit.datamodules.classification.AptosDataModule object at 0x714c90861b20>\n",
      "Train 2930 Val 732 <fundus_data_toolkit.datamodules.classification.IDRiDDataModule object at 0x714c90860830>\n",
      "Train 331 Val 82 Test 103\n",
      "<fundus_data_toolkit.datamodules.classification.DDRDataModule object at 0x714c90862cf0>\n",
      "Train 6260 Val 2503 Test 3759\n"
     ]
    }
   ],
   "source": [
    "c = Config(\"../configs/config.yaml\")\n",
    "datamodule = get_datamodule_from_config(c[\"datasets\"], c[\"data\"])"
   ]
  },
  {
   "cell_type": "code",
   "execution_count": 10,
   "metadata": {},
   "outputs": [
    {
     "data": {
      "text/plain": [
       "10342"
      ]
     },
     "execution_count": 10,
     "metadata": {},
     "output_type": "execute_result"
    }
   ],
   "source": [
    "7025 + 732 + 82 + 2503"
   ]
  },
  {
   "cell_type": "code",
   "execution_count": 18,
   "metadata": {},
   "outputs": [
    {
     "data": {
      "text/plain": [
       "3759"
      ]
     },
     "execution_count": 18,
     "metadata": {},
     "output_type": "execute_result"
    }
   ],
   "source": [
    "len(datamodule.test[2])"
   ]
  }
 ],
 "metadata": {
  "kernelspec": {
   "display_name": "Python 3",
   "language": "python",
   "name": "python3"
  },
  "language_info": {
   "codemirror_mode": {
    "name": "ipython",
    "version": 3
   },
   "file_extension": ".py",
   "mimetype": "text/x-python",
   "name": "python",
   "nbconvert_exporter": "python",
   "pygments_lexer": "ipython3",
   "version": "3.12.3"
  }
 },
 "nbformat": 4,
 "nbformat_minor": 2
}
