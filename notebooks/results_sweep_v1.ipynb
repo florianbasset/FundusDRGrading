{
 "cells": [
  {
   "cell_type": "code",
   "execution_count": null,
   "metadata": {},
   "outputs": [],
   "source": [
    "import wandb\n",
    "import pandas as pd\n",
    "import numpy as np\n",
    "import bokeh\n",
    "from bokeh.plotting import figure, show\n",
    "from bokeh.io import output_notebook\n",
    "from bokeh.models import ColumnDataSource, Whisker\n",
    "from bokeh.transform import factor_cmap, jitter\n",
    "from bokeh.layouts import gridplot\n",
    "\n",
    "from fundusClassif.data.data_factory import get_datamodule_from_config\n",
    "from nntools.utils import Config\n"
   ]
  },
  {
   "cell_type": "code",
   "execution_count": null,
   "metadata": {},
   "outputs": [],
   "source": [
    "api = wandb.Api()\n",
    "runs = api.runs(\"hmr24/FundusDRGrading-src_fundusClassif_scripts\")\n",
    "\n",
    "important_keys = ['lr','preprocessing', 'data_augmentation_type']\n",
    "list_configs = []\n",
    "for i, r in enumerate(runs):\n",
    "    if i < 74:\n",
    "        pass\n",
    "    else :\n",
    "        kappa = r.summary_metrics.get(\"Validation Quadratic Kappa\", None)\n",
    "        kappa_ddr = r.summary_metrics.get(\"Quadratic Kappa_DDR_test\", None)\n",
    "        kappa_eyepacs = r.summary_metrics.get(\"Quadratic Kappa_EYEPACS_test\", None)\n",
    "        kappa_idrid = r.summary_metrics.get(\"Quadratic Kappa_IDRID_test\", None)\n",
    "        if kappa is None:\n",
    "            continue\n",
    "        config = {k: v for k, v in r.config.items() if k in important_keys}\n",
    "        config['name'] = r.name\n",
    "        config['kappa'] = kappa\n",
    "        config['kappa_ddr'] = kappa_ddr\n",
    "        config['kappa_eyepacs'] = kappa_eyepacs\n",
    "        config['kappa_idrid'] = kappa_idrid\n",
    "    \n",
    "        list_configs.append(config)\n",
    "\n",
    "df = pd.DataFrame(list_configs)\n",
    "df"
   ]
  },
  {
   "cell_type": "code",
   "execution_count": null,
   "metadata": {},
   "outputs": [],
   "source": [
    "df_preprocessing_type = df[df['preprocessing'] == 'sarki']\n",
    "\n",
    "config = Config('../configs/config.yaml')\n",
    "datamodule = get_datamodule_from_config(config['datasets'], config['data'])\n",
    "test_dataloader = datamodule.test_dataloader()\n",
    "test_datasets_ids = [d.dataset.id for i, d in enumerate(test_dataloader)]\n",
    "dataloader0_weight = 0\n",
    "dataloader1_weight = 0\n",
    "dataloader2_weight = 0\n",
    "lenght_total_test = 0\n",
    "for i, d in enumerate(test_dataloader):\n",
    "    lenght_total_test += len(d.dataset)\n",
    "#print(lenght_total_test)\n",
    "\n",
    "for i, d in enumerate(test_dataloader):\n",
    "    if d.dataset.id == test_datasets_ids[0]:\n",
    "        dataloader0_weight = len(d.dataset)/lenght_total_test\n",
    "        #print(dataloader0_weight)\n",
    "        #print(d.dataset.id)\n",
    "    elif d.dataset.id == test_datasets_ids[1]:\n",
    "        dataloader1_weight += len(d.dataset)/lenght_total_test\n",
    "        #print(dataloader1_weight)\n",
    "        #print(d.dataset.id)\n",
    "    elif d.dataset.id == test_datasets_ids[2]:\n",
    "        dataloader2_weight += len(d.dataset)/lenght_total_test\n",
    "        #print(dataloader2_weight)\n",
    "        #print(d.dataset.id)\n",
    "\n",
    "df_preprocessing_type['kappa_weighted'] = 0 \n",
    "for i in range(len(df_preprocessing_type)):\n",
    "    eyepacs = df_preprocessing_type['kappa_eyepacs'].iloc[i]*dataloader0_weight\n",
    "    idrid = df_preprocessing_type['kappa_idrid'].iloc[i]*dataloader1_weight\n",
    "    ddr = df_preprocessing_type['kappa_ddr'].iloc[i]*dataloader2_weight\n",
    "    df_preprocessing_type['kappa_weighted'].iloc[i] =  eyepacs + idrid + ddr\n",
    "df_preprocessing_type\n",
    "\n"
   ]
  }
 ],
 "metadata": {
  "kernelspec": {
   "display_name": "DL",
   "language": "python",
   "name": "python3"
  },
  "language_info": {
   "codemirror_mode": {
    "name": "ipython",
    "version": 3
   },
   "file_extension": ".py",
   "mimetype": "text/x-python",
   "name": "python",
   "nbconvert_exporter": "python",
   "pygments_lexer": "ipython3",
   "version": "3.12.4"
  }
 },
 "nbformat": 4,
 "nbformat_minor": 2
}
