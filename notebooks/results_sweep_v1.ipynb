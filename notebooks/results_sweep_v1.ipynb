{
 "cells": [
  {
   "cell_type": "code",
   "execution_count": 29,
   "metadata": {},
   "outputs": [],
   "source": [
    "import wandb\n",
    "import pandas as pd\n",
    "import numpy as np\n",
    "import bokeh\n",
    "from bokeh.plotting import figure, show\n",
    "from bokeh.io import output_notebook\n",
    "from bokeh.models import ColumnDataSource, Whisker\n",
    "from bokeh.transform import factor_cmap, jitter\n",
    "from bokeh.layouts import gridplot\n"
   ]
  },
  {
   "cell_type": "code",
   "execution_count": 30,
   "metadata": {},
   "outputs": [
    {
     "data": {
      "text/html": [
       "<div>\n",
       "<style scoped>\n",
       "    .dataframe tbody tr th:only-of-type {\n",
       "        vertical-align: middle;\n",
       "    }\n",
       "\n",
       "    .dataframe tbody tr th {\n",
       "        vertical-align: top;\n",
       "    }\n",
       "\n",
       "    .dataframe thead th {\n",
       "        text-align: right;\n",
       "    }\n",
       "</style>\n",
       "<table border=\"1\" class=\"dataframe\">\n",
       "  <thead>\n",
       "    <tr style=\"text-align: right;\">\n",
       "      <th></th>\n",
       "      <th>lr</th>\n",
       "      <th>preprocessing</th>\n",
       "      <th>data_augmentation_type</th>\n",
       "      <th>name</th>\n",
       "      <th>kappa</th>\n",
       "    </tr>\n",
       "  </thead>\n",
       "  <tbody>\n",
       "    <tr>\n",
       "      <th>0</th>\n",
       "      <td>0.00001</td>\n",
       "      <td>absent</td>\n",
       "      <td>light</td>\n",
       "      <td>celestial-sweep-1</td>\n",
       "      <td>0.947246</td>\n",
       "    </tr>\n",
       "    <tr>\n",
       "      <th>1</th>\n",
       "      <td>0.00001</td>\n",
       "      <td>autobalance</td>\n",
       "      <td>light</td>\n",
       "      <td>scarlet-sweep-2</td>\n",
       "      <td>0.939814</td>\n",
       "    </tr>\n",
       "    <tr>\n",
       "      <th>2</th>\n",
       "      <td>0.00001</td>\n",
       "      <td>clahe_lab</td>\n",
       "      <td>light</td>\n",
       "      <td>rare-sweep-3</td>\n",
       "      <td>0.948831</td>\n",
       "    </tr>\n",
       "    <tr>\n",
       "      <th>3</th>\n",
       "      <td>0.00001</td>\n",
       "      <td>clahe_rgb</td>\n",
       "      <td>light</td>\n",
       "      <td>flowing-sweep-4</td>\n",
       "      <td>0.947908</td>\n",
       "    </tr>\n",
       "    <tr>\n",
       "      <th>4</th>\n",
       "      <td>0.00001</td>\n",
       "      <td>clahe_max_green_gsc</td>\n",
       "      <td>light</td>\n",
       "      <td>icy-sweep-5</td>\n",
       "      <td>0.944480</td>\n",
       "    </tr>\n",
       "    <tr>\n",
       "      <th>5</th>\n",
       "      <td>0.00001</td>\n",
       "      <td>seoud</td>\n",
       "      <td>light</td>\n",
       "      <td>fresh-sweep-6</td>\n",
       "      <td>0.928836</td>\n",
       "    </tr>\n",
       "    <tr>\n",
       "      <th>6</th>\n",
       "      <td>0.00001</td>\n",
       "      <td>sarki</td>\n",
       "      <td>light</td>\n",
       "      <td>fanciful-sweep-7</td>\n",
       "      <td>0.941713</td>\n",
       "    </tr>\n",
       "    <tr>\n",
       "      <th>7</th>\n",
       "      <td>0.00005</td>\n",
       "      <td>absent</td>\n",
       "      <td>light</td>\n",
       "      <td>fallen-sweep-8</td>\n",
       "      <td>0.919412</td>\n",
       "    </tr>\n",
       "    <tr>\n",
       "      <th>8</th>\n",
       "      <td>0.00005</td>\n",
       "      <td>autobalance</td>\n",
       "      <td>light</td>\n",
       "      <td>brisk-sweep-9</td>\n",
       "      <td>0.948844</td>\n",
       "    </tr>\n",
       "    <tr>\n",
       "      <th>9</th>\n",
       "      <td>0.00005</td>\n",
       "      <td>clahe_lab</td>\n",
       "      <td>light</td>\n",
       "      <td>curious-sweep-10</td>\n",
       "      <td>0.956653</td>\n",
       "    </tr>\n",
       "    <tr>\n",
       "      <th>10</th>\n",
       "      <td>0.00005</td>\n",
       "      <td>clahe_rgb</td>\n",
       "      <td>light</td>\n",
       "      <td>exalted-sweep-11</td>\n",
       "      <td>0.900617</td>\n",
       "    </tr>\n",
       "  </tbody>\n",
       "</table>\n",
       "</div>"
      ],
      "text/plain": [
       "         lr        preprocessing data_augmentation_type               name  \\\n",
       "0   0.00001               absent                  light  celestial-sweep-1   \n",
       "1   0.00001          autobalance                  light    scarlet-sweep-2   \n",
       "2   0.00001            clahe_lab                  light       rare-sweep-3   \n",
       "3   0.00001            clahe_rgb                  light    flowing-sweep-4   \n",
       "4   0.00001  clahe_max_green_gsc                  light        icy-sweep-5   \n",
       "5   0.00001                seoud                  light      fresh-sweep-6   \n",
       "6   0.00001                sarki                  light   fanciful-sweep-7   \n",
       "7   0.00005               absent                  light     fallen-sweep-8   \n",
       "8   0.00005          autobalance                  light      brisk-sweep-9   \n",
       "9   0.00005            clahe_lab                  light   curious-sweep-10   \n",
       "10  0.00005            clahe_rgb                  light   exalted-sweep-11   \n",
       "\n",
       "       kappa  \n",
       "0   0.947246  \n",
       "1   0.939814  \n",
       "2   0.948831  \n",
       "3   0.947908  \n",
       "4   0.944480  \n",
       "5   0.928836  \n",
       "6   0.941713  \n",
       "7   0.919412  \n",
       "8   0.948844  \n",
       "9   0.956653  \n",
       "10  0.900617  "
      ]
     },
     "execution_count": 30,
     "metadata": {},
     "output_type": "execute_result"
    }
   ],
   "source": [
    "api = wandb.Api()\n",
    "runs = api.runs(\"hmr24/FundusDRGrading-src_fundusClassif_scripts\")\n",
    "\n",
    "important_keys = ['lr','preprocessing', 'data_augmentation_type']\n",
    "list_configs = []\n",
    "for i, r in enumerate(runs):\n",
    "    if i < 55:\n",
    "        pass\n",
    "    else :\n",
    "        kappa = r.summary_metrics.get(\"Validation Quadratic Kappa\", None)\n",
    "        if kappa is None:\n",
    "            continue\n",
    "        config = {k: v for k, v in r.config.items() if k in important_keys}\n",
    "        config['name'] = r.name\n",
    "        config['kappa'] = kappa\n",
    "    \n",
    "        list_configs.append(config)\n",
    "\n",
    "df = pd.DataFrame(list_configs)\n",
    "df"
   ]
  },
  {
   "cell_type": "code",
   "execution_count": 31,
   "metadata": {},
   "outputs": [
    {
     "name": "stdout",
     "output_type": "stream",
     "text": [
      "Ordre des groupes : ['light']\n"
     ]
    },
    {
     "data": {
      "text/html": [
       "    <style>\n",
       "        .bk-notebook-logo {\n",
       "            display: block;\n",
       "            width: 20px;\n",
       "            height: 20px;\n",
       "            background-image: url(data:image/png;base64,iVBORw0KGgoAAAANSUhEUgAAABQAAAAUCAYAAACNiR0NAAAABHNCSVQICAgIfAhkiAAAAAlwSFlzAAALEgAACxIB0t1+/AAAABx0RVh0U29mdHdhcmUAQWRvYmUgRmlyZXdvcmtzIENTNui8sowAAAOkSURBVDiNjZRtaJVlGMd/1/08zzln5zjP1LWcU9N0NkN8m2CYjpgQYQXqSs0I84OLIC0hkEKoPtiH3gmKoiJDU7QpLgoLjLIQCpEsNJ1vqUOdO7ppbuec5+V+rj4ctwzd8IIbbi6u+8f1539dt3A78eXC7QizUF7gyV1fD1Yqg4JWz84yffhm0qkFqBogB9rM8tZdtwVsPUhWhGcFJngGeWrPzHm5oaMmkfEg1usvLFyc8jLRqDOMru7AyC8saQr7GG7f5fvDeH7Ej8CM66nIF+8yngt6HWaKh7k49Soy9nXurCi1o3qUbS3zWfrYeQDTB/Qj6kX6Ybhw4B+bOYoLKCC9H3Nu/leUTZ1JdRWkkn2ldcCamzrcf47KKXdAJllSlxAOkRgyHsGC/zRday5Qld9DyoM4/q/rUoy/CXh3jzOu3bHUVZeU+DEn8FInkPBFlu3+nW3Nw0mk6vCDiWg8CeJaxEwuHS3+z5RgY+YBR6V1Z1nxSOfoaPa4LASWxxdNp+VWTk7+4vzaou8v8PN+xo+KY2xsw6une2frhw05CTYOmQvsEhjhWjn0bmXPjpE1+kplmmkP3suftwTubK9Vq22qKmrBhpY4jvd5afdRA3wGjFAgcnTK2s4hY0/GPNIb0nErGMCRxWOOX64Z8RAC4oCXdklmEvcL8o0BfkNK4lUg9HTl+oPlQxdNo3Mg4Nv175e/1LDGzZen30MEjRUtmXSfiTVu1kK8W4txyV6BMKlbgk3lMwYCiusNy9fVfvvwMxv8Ynl6vxoByANLTWplvuj/nF9m2+PDtt1eiHPBr1oIfhCChQMBw6Aw0UulqTKZdfVvfG7VcfIqLG9bcldL/+pdWTLxLUy8Qq38heUIjh4XlzZxzQm19lLFlr8vdQ97rjZVOLf8nclzckbcD4wxXMidpX30sFd37Fv/GtwwhzhxGVAprjbg0gCAEeIgwCZyTV2Z1REEW8O4py0wsjeloKoMr6iCY6dP92H6Vw/oTyICIthibxjm/DfN9lVz8IqtqKYLUXfoKVMVQVVJOElGjrnnUt9T9wbgp8AyYKaGlqingHZU/uG2NTZSVqwHQTWkx9hxjkpWDaCg6Ckj5qebgBVbT3V3NNXMSiWSDdGV3hrtzla7J+duwPOToIg42ChPQOQjspnSlp1V+Gjdged7+8UN5CRAV7a5EdFNwCjEaBR27b3W890TE7g24NAP/mMDXRWrGoFPQI9ls/MWO2dWFAar/xcOIImbbpA3zgAAAABJRU5ErkJggg==);\n",
       "        }\n",
       "    </style>\n",
       "    <div>\n",
       "        <a href=\"https://bokeh.org\" target=\"_blank\" class=\"bk-notebook-logo\"></a>\n",
       "        <span id=\"d057e88b-f623-4801-b054-b93992a850e2\">Loading BokehJS ...</span>\n",
       "    </div>\n"
      ]
     },
     "metadata": {},
     "output_type": "display_data"
    },
    {
     "data": {
      "application/javascript": "'use strict';\n(function(root) {\n  function now() {\n    return new Date();\n  }\n\n  const force = true;\n\n  if (typeof root._bokeh_onload_callbacks === \"undefined\" || force === true) {\n    root._bokeh_onload_callbacks = [];\n    root._bokeh_is_loading = undefined;\n  }\n\nconst JS_MIME_TYPE = 'application/javascript';\n  const HTML_MIME_TYPE = 'text/html';\n  const EXEC_MIME_TYPE = 'application/vnd.bokehjs_exec.v0+json';\n  const CLASS_NAME = 'output_bokeh rendered_html';\n\n  /**\n   * Render data to the DOM node\n   */\n  function render(props, node) {\n    const script = document.createElement(\"script\");\n    node.appendChild(script);\n  }\n\n  /**\n   * Handle when an output is cleared or removed\n   */\n  function handleClearOutput(event, handle) {\n    function drop(id) {\n      const view = Bokeh.index.get_by_id(id)\n      if (view != null) {\n        view.model.document.clear()\n        Bokeh.index.delete(view)\n      }\n    }\n\n    const cell = handle.cell;\n\n    const id = cell.output_area._bokeh_element_id;\n    const server_id = cell.output_area._bokeh_server_id;\n\n    // Clean up Bokeh references\n    if (id != null) {\n      drop(id)\n    }\n\n    if (server_id !== undefined) {\n      // Clean up Bokeh references\n      const cmd_clean = \"from bokeh.io.state import curstate; print(curstate().uuid_to_server['\" + server_id + \"'].get_sessions()[0].document.roots[0]._id)\";\n      cell.notebook.kernel.execute(cmd_clean, {\n        iopub: {\n          output: function(msg) {\n            const id = msg.content.text.trim()\n            drop(id)\n          }\n        }\n      });\n      // Destroy server and session\n      const cmd_destroy = \"import bokeh.io.notebook as ion; ion.destroy_server('\" + server_id + \"')\";\n      cell.notebook.kernel.execute(cmd_destroy);\n    }\n  }\n\n  /**\n   * Handle when a new output is added\n   */\n  function handleAddOutput(event, handle) {\n    const output_area = handle.output_area;\n    const output = handle.output;\n\n    // limit handleAddOutput to display_data with EXEC_MIME_TYPE content only\n    if ((output.output_type != \"display_data\") || (!Object.prototype.hasOwnProperty.call(output.data, EXEC_MIME_TYPE))) {\n      return\n    }\n\n    const toinsert = output_area.element.find(\".\" + CLASS_NAME.split(' ')[0]);\n\n    if (output.metadata[EXEC_MIME_TYPE][\"id\"] !== undefined) {\n      toinsert[toinsert.length - 1].firstChild.textContent = output.data[JS_MIME_TYPE];\n      // store reference to embed id on output_area\n      output_area._bokeh_element_id = output.metadata[EXEC_MIME_TYPE][\"id\"];\n    }\n    if (output.metadata[EXEC_MIME_TYPE][\"server_id\"] !== undefined) {\n      const bk_div = document.createElement(\"div\");\n      bk_div.innerHTML = output.data[HTML_MIME_TYPE];\n      const script_attrs = bk_div.children[0].attributes;\n      for (let i = 0; i < script_attrs.length; i++) {\n        toinsert[toinsert.length - 1].firstChild.setAttribute(script_attrs[i].name, script_attrs[i].value);\n        toinsert[toinsert.length - 1].firstChild.textContent = bk_div.children[0].textContent\n      }\n      // store reference to server id on output_area\n      output_area._bokeh_server_id = output.metadata[EXEC_MIME_TYPE][\"server_id\"];\n    }\n  }\n\n  function register_renderer(events, OutputArea) {\n\n    function append_mime(data, metadata, element) {\n      // create a DOM node to render to\n      const toinsert = this.create_output_subarea(\n        metadata,\n        CLASS_NAME,\n        EXEC_MIME_TYPE\n      );\n      this.keyboard_manager.register_events(toinsert);\n      // Render to node\n      const props = {data: data, metadata: metadata[EXEC_MIME_TYPE]};\n      render(props, toinsert[toinsert.length - 1]);\n      element.append(toinsert);\n      return toinsert\n    }\n\n    /* Handle when an output is cleared or removed */\n    events.on('clear_output.CodeCell', handleClearOutput);\n    events.on('delete.Cell', handleClearOutput);\n\n    /* Handle when a new output is added */\n    events.on('output_added.OutputArea', handleAddOutput);\n\n    /**\n     * Register the mime type and append_mime function with output_area\n     */\n    OutputArea.prototype.register_mime_type(EXEC_MIME_TYPE, append_mime, {\n      /* Is output safe? */\n      safe: true,\n      /* Index of renderer in `output_area.display_order` */\n      index: 0\n    });\n  }\n\n  // register the mime type if in Jupyter Notebook environment and previously unregistered\n  if (root.Jupyter !== undefined) {\n    const events = require('base/js/events');\n    const OutputArea = require('notebook/js/outputarea').OutputArea;\n\n    if (OutputArea.prototype.mime_types().indexOf(EXEC_MIME_TYPE) == -1) {\n      register_renderer(events, OutputArea);\n    }\n  }\n  if (typeof (root._bokeh_timeout) === \"undefined\" || force === true) {\n    root._bokeh_timeout = Date.now() + 5000;\n    root._bokeh_failed_load = false;\n  }\n\n  const NB_LOAD_WARNING = {'data': {'text/html':\n     \"<div style='background-color: #fdd'>\\n\"+\n     \"<p>\\n\"+\n     \"BokehJS does not appear to have successfully loaded. If loading BokehJS from CDN, this \\n\"+\n     \"may be due to a slow or bad network connection. Possible fixes:\\n\"+\n     \"</p>\\n\"+\n     \"<ul>\\n\"+\n     \"<li>re-rerun `output_notebook()` to attempt to load from CDN again, or</li>\\n\"+\n     \"<li>use INLINE resources instead, as so:</li>\\n\"+\n     \"</ul>\\n\"+\n     \"<code>\\n\"+\n     \"from bokeh.resources import INLINE\\n\"+\n     \"output_notebook(resources=INLINE)\\n\"+\n     \"</code>\\n\"+\n     \"</div>\"}};\n\n  function display_loaded(error = null) {\n    const el = document.getElementById(\"d057e88b-f623-4801-b054-b93992a850e2\");\n    if (el != null) {\n      const html = (() => {\n        if (typeof root.Bokeh === \"undefined\") {\n          if (error == null) {\n            return \"BokehJS is loading ...\";\n          } else {\n            return \"BokehJS failed to load.\";\n          }\n        } else {\n          const prefix = `BokehJS ${root.Bokeh.version}`;\n          if (error == null) {\n            return `${prefix} successfully loaded.`;\n          } else {\n            return `${prefix} <b>encountered errors</b> while loading and may not function as expected.`;\n          }\n        }\n      })();\n      el.innerHTML = html;\n\n      if (error != null) {\n        const wrapper = document.createElement(\"div\");\n        wrapper.style.overflow = \"auto\";\n        wrapper.style.height = \"5em\";\n        wrapper.style.resize = \"vertical\";\n        const content = document.createElement(\"div\");\n        content.style.fontFamily = \"monospace\";\n        content.style.whiteSpace = \"pre-wrap\";\n        content.style.backgroundColor = \"rgb(255, 221, 221)\";\n        content.textContent = error.stack ?? error.toString();\n        wrapper.append(content);\n        el.append(wrapper);\n      }\n    } else if (Date.now() < root._bokeh_timeout) {\n      setTimeout(() => display_loaded(error), 100);\n    }\n  }\n\n  function run_callbacks() {\n    try {\n      root._bokeh_onload_callbacks.forEach(function(callback) {\n        if (callback != null)\n          callback();\n      });\n    } finally {\n      delete root._bokeh_onload_callbacks\n    }\n    console.debug(\"Bokeh: all callbacks have finished\");\n  }\n\n  function load_libs(css_urls, js_urls, callback) {\n    if (css_urls == null) css_urls = [];\n    if (js_urls == null) js_urls = [];\n\n    root._bokeh_onload_callbacks.push(callback);\n    if (root._bokeh_is_loading > 0) {\n      console.debug(\"Bokeh: BokehJS is being loaded, scheduling callback at\", now());\n      return null;\n    }\n    if (js_urls == null || js_urls.length === 0) {\n      run_callbacks();\n      return null;\n    }\n    console.debug(\"Bokeh: BokehJS not loaded, scheduling load and callback at\", now());\n    root._bokeh_is_loading = css_urls.length + js_urls.length;\n\n    function on_load() {\n      root._bokeh_is_loading--;\n      if (root._bokeh_is_loading === 0) {\n        console.debug(\"Bokeh: all BokehJS libraries/stylesheets loaded\");\n        run_callbacks()\n      }\n    }\n\n    function on_error(url) {\n      console.error(\"failed to load \" + url);\n    }\n\n    for (let i = 0; i < css_urls.length; i++) {\n      const url = css_urls[i];\n      const element = document.createElement(\"link\");\n      element.onload = on_load;\n      element.onerror = on_error.bind(null, url);\n      element.rel = \"stylesheet\";\n      element.type = \"text/css\";\n      element.href = url;\n      console.debug(\"Bokeh: injecting link tag for BokehJS stylesheet: \", url);\n      document.body.appendChild(element);\n    }\n\n    for (let i = 0; i < js_urls.length; i++) {\n      const url = js_urls[i];\n      const element = document.createElement('script');\n      element.onload = on_load;\n      element.onerror = on_error.bind(null, url);\n      element.async = false;\n      element.src = url;\n      console.debug(\"Bokeh: injecting script tag for BokehJS library: \", url);\n      document.head.appendChild(element);\n    }\n  };\n\n  function inject_raw_css(css) {\n    const element = document.createElement(\"style\");\n    element.appendChild(document.createTextNode(css));\n    document.body.appendChild(element);\n  }\n\n  const js_urls = [\"https://cdn.bokeh.org/bokeh/release/bokeh-3.5.0.min.js\", \"https://cdn.bokeh.org/bokeh/release/bokeh-gl-3.5.0.min.js\", \"https://cdn.bokeh.org/bokeh/release/bokeh-widgets-3.5.0.min.js\", \"https://cdn.bokeh.org/bokeh/release/bokeh-tables-3.5.0.min.js\", \"https://cdn.bokeh.org/bokeh/release/bokeh-mathjax-3.5.0.min.js\"];\n  const css_urls = [];\n\n  const inline_js = [    function(Bokeh) {\n      Bokeh.set_log_level(\"info\");\n    },\nfunction(Bokeh) {\n    }\n  ];\n\n  function run_inline_js() {\n    if (root.Bokeh !== undefined || force === true) {\n      try {\n            for (let i = 0; i < inline_js.length; i++) {\n      inline_js[i].call(root, root.Bokeh);\n    }\n\n      } catch (error) {display_loaded(error);throw error;\n      }if (force === true) {\n        display_loaded();\n      }} else if (Date.now() < root._bokeh_timeout) {\n      setTimeout(run_inline_js, 100);\n    } else if (!root._bokeh_failed_load) {\n      console.log(\"Bokeh: BokehJS failed to load within specified timeout.\");\n      root._bokeh_failed_load = true;\n    } else if (force !== true) {\n      const cell = $(document.getElementById(\"d057e88b-f623-4801-b054-b93992a850e2\")).parents('.cell').data().cell;\n      cell.output_area.append_execute_result(NB_LOAD_WARNING)\n    }\n  }\n\n  if (root._bokeh_is_loading === 0) {\n    console.debug(\"Bokeh: BokehJS loaded, going straight to plotting\");\n    run_inline_js();\n  } else {\n    load_libs(css_urls, js_urls, function() {\n      console.debug(\"Bokeh: BokehJS plotting callback run at\", now());\n      run_inline_js();\n    });\n  }\n}(window));",
      "application/vnd.bokehjs_load.v0+json": ""
     },
     "metadata": {},
     "output_type": "display_data"
    },
    {
     "name": "stdout",
     "output_type": "stream",
     "text": [
      "['light']\n"
     ]
    },
    {
     "data": {
      "text/html": [
       "\n",
       "  <div id=\"c7f0ceb4-a41b-4898-911e-bb7915419444\" data-root-id=\"p1509\" style=\"display: contents;\"></div>\n"
      ]
     },
     "metadata": {},
     "output_type": "display_data"
    },
    {
     "data": {
      "application/javascript": "(function(root) {\n  function embed_document(root) {\n  const docs_json = {\"e8702ac3-9659-4c1c-b667-e72c85815f3a\":{\"version\":\"3.5.0\",\"title\":\"Bokeh Application\",\"roots\":[{\"type\":\"object\",\"name\":\"GridPlot\",\"id\":\"p1509\",\"attributes\":{\"rows\":null,\"cols\":null,\"toolbar\":{\"type\":\"object\",\"name\":\"Toolbar\",\"id\":\"p1508\"},\"children\":[[{\"type\":\"object\",\"name\":\"Figure\",\"id\":\"p1459\",\"attributes\":{\"height\":500,\"x_range\":{\"type\":\"object\",\"name\":\"FactorRange\",\"id\":\"p1469\",\"attributes\":{\"factors\":[\"light\"]}},\"y_range\":{\"type\":\"object\",\"name\":\"DataRange1d\",\"id\":\"p1461\"},\"x_scale\":{\"type\":\"object\",\"name\":\"CategoricalScale\",\"id\":\"p1470\"},\"y_scale\":{\"type\":\"object\",\"name\":\"LinearScale\",\"id\":\"p1471\"},\"title\":{\"type\":\"object\",\"name\":\"Title\",\"id\":\"p1462\",\"attributes\":{\"text\":\"Kappa by DATA_AUGMENTATION_TYPE\"}},\"renderers\":[{\"type\":\"object\",\"name\":\"GlyphRenderer\",\"id\":\"p1505\",\"attributes\":{\"data_source\":{\"type\":\"object\",\"name\":\"ColumnDataSource\",\"id\":\"p1456\",\"attributes\":{\"selected\":{\"type\":\"object\",\"name\":\"Selection\",\"id\":\"p1457\",\"attributes\":{\"indices\":[],\"line_indices\":[]}},\"selection_policy\":{\"type\":\"object\",\"name\":\"UnionRenderers\",\"id\":\"p1458\"},\"data\":{\"type\":\"map\",\"entries\":[[\"index\",{\"type\":\"ndarray\",\"array\":{\"type\":\"bytes\",\"data\":\"AAAAAAEAAAACAAAAAwAAAAQAAAAFAAAABgAAAAcAAAAIAAAACQAAAAoAAAA=\"},\"shape\":[11],\"dtype\":\"int32\",\"order\":\"little\"}],[\"lr\",{\"type\":\"ndarray\",\"array\":{\"type\":\"bytes\",\"data\":\"8WjjiLX45D7xaOOItfjkPvFo44i1+OQ+8WjjiLX45D7xaOOItfjkPvFo44i1+OQ+8WjjiLX45D4tQxzr4jYKPy1DHOviNgo/LUMc6+I2Cj8tQxzr4jYKPw==\"},\"shape\":[11],\"dtype\":\"float64\",\"order\":\"little\"}],[\"preprocessing\",{\"type\":\"ndarray\",\"array\":[\"absent\",\"autobalance\",\"clahe_lab\",\"clahe_rgb\",\"clahe_max_green_gsc\",\"seoud\",\"sarki\",\"absent\",\"autobalance\",\"clahe_lab\",\"clahe_rgb\"],\"shape\":[11],\"dtype\":\"object\",\"order\":\"little\"}],[\"data_augmentation_type\",{\"type\":\"ndarray\",\"array\":[\"light\",\"light\",\"light\",\"light\",\"light\",\"light\",\"light\",\"light\",\"light\",\"light\",\"light\"],\"shape\":[11],\"dtype\":\"object\",\"order\":\"little\"}],[\"name\",{\"type\":\"ndarray\",\"array\":[\"celestial-sweep-1\",\"scarlet-sweep-2\",\"rare-sweep-3\",\"flowing-sweep-4\",\"icy-sweep-5\",\"fresh-sweep-6\",\"fanciful-sweep-7\",\"fallen-sweep-8\",\"brisk-sweep-9\",\"curious-sweep-10\",\"exalted-sweep-11\"],\"shape\":[11],\"dtype\":\"object\",\"order\":\"little\"}],[\"kappa\",{\"type\":\"ndarray\",\"array\":{\"type\":\"bytes\",\"data\":\"AAAAYNdP7j8BAABA9BLuPwAAACDSXO4/AQAAYENV7j8BAABgLTnuPwAAAEAHue0/AAAAQIMi7j8AAACA02vtPwAAAKDtXO4/////3+ac7j8AAABA29HsPw==\"},\"shape\":[11],\"dtype\":\"float64\",\"order\":\"little\"}]]}}},\"view\":{\"type\":\"object\",\"name\":\"CDSView\",\"id\":\"p1506\",\"attributes\":{\"filter\":{\"type\":\"object\",\"name\":\"AllIndices\",\"id\":\"p1507\"}}},\"glyph\":{\"type\":\"object\",\"name\":\"Scatter\",\"id\":\"p1502\",\"attributes\":{\"x\":{\"type\":\"field\",\"field\":\"data_augmentation_type\",\"transform\":{\"type\":\"object\",\"name\":\"Jitter\",\"id\":\"p1497\",\"attributes\":{\"width\":0.1,\"range\":{\"id\":\"p1469\"}}}},\"y\":{\"type\":\"field\",\"field\":\"kappa\"},\"size\":{\"type\":\"value\",\"value\":10},\"line_color\":{\"type\":\"value\",\"value\":\"white\"},\"line_alpha\":{\"type\":\"value\",\"value\":0.8},\"fill_color\":{\"type\":\"field\",\"field\":\"data_augmentation_type\",\"transform\":{\"type\":\"object\",\"name\":\"CategoricalColorMapper\",\"id\":\"p1498\",\"attributes\":{\"palette\":[\"#77AADD\",\"#EE8866\",\"#EEDD88\",\"#FFAABB\",\"#99DDFF\",\"#44BB99\",\"#BBCC33\"],\"factors\":[\"light\"]}}},\"fill_alpha\":{\"type\":\"value\",\"value\":0.8},\"hatch_color\":{\"type\":\"field\",\"field\":\"data_augmentation_type\",\"transform\":{\"id\":\"p1498\"}},\"hatch_alpha\":{\"type\":\"value\",\"value\":0.8}}},\"nonselection_glyph\":{\"type\":\"object\",\"name\":\"Scatter\",\"id\":\"p1503\",\"attributes\":{\"x\":{\"type\":\"field\",\"field\":\"data_augmentation_type\",\"transform\":{\"id\":\"p1497\"}},\"y\":{\"type\":\"field\",\"field\":\"kappa\"},\"size\":{\"type\":\"value\",\"value\":10},\"line_color\":{\"type\":\"value\",\"value\":\"white\"},\"line_alpha\":{\"type\":\"value\",\"value\":0.1},\"fill_color\":{\"type\":\"field\",\"field\":\"data_augmentation_type\",\"transform\":{\"id\":\"p1498\"}},\"fill_alpha\":{\"type\":\"value\",\"value\":0.1},\"hatch_color\":{\"type\":\"field\",\"field\":\"data_augmentation_type\",\"transform\":{\"id\":\"p1498\"}},\"hatch_alpha\":{\"type\":\"value\",\"value\":0.1}}},\"muted_glyph\":{\"type\":\"object\",\"name\":\"Scatter\",\"id\":\"p1504\",\"attributes\":{\"x\":{\"type\":\"field\",\"field\":\"data_augmentation_type\",\"transform\":{\"id\":\"p1497\"}},\"y\":{\"type\":\"field\",\"field\":\"kappa\"},\"size\":{\"type\":\"value\",\"value\":10},\"line_color\":{\"type\":\"value\",\"value\":\"white\"},\"line_alpha\":{\"type\":\"value\",\"value\":0.2},\"fill_color\":{\"type\":\"field\",\"field\":\"data_augmentation_type\",\"transform\":{\"id\":\"p1498\"}},\"fill_alpha\":{\"type\":\"value\",\"value\":0.2},\"hatch_color\":{\"type\":\"field\",\"field\":\"data_augmentation_type\",\"transform\":{\"id\":\"p1498\"}},\"hatch_alpha\":{\"type\":\"value\",\"value\":0.2}}}}}],\"toolbar\":{\"type\":\"object\",\"name\":\"Toolbar\",\"id\":\"p1468\"},\"toolbar_location\":null,\"left\":[{\"type\":\"object\",\"name\":\"LinearAxis\",\"id\":\"p1477\",\"attributes\":{\"ticker\":{\"type\":\"object\",\"name\":\"BasicTicker\",\"id\":\"p1478\",\"attributes\":{\"mantissas\":[1,2,5]}},\"formatter\":{\"type\":\"object\",\"name\":\"BasicTickFormatter\",\"id\":\"p1479\"},\"major_label_policy\":{\"type\":\"object\",\"name\":\"AllLabels\",\"id\":\"p1480\"}}}],\"below\":[{\"type\":\"object\",\"name\":\"CategoricalAxis\",\"id\":\"p1472\",\"attributes\":{\"ticker\":{\"type\":\"object\",\"name\":\"CategoricalTicker\",\"id\":\"p1473\"},\"formatter\":{\"type\":\"object\",\"name\":\"CategoricalTickFormatter\",\"id\":\"p1474\"},\"major_label_policy\":{\"type\":\"object\",\"name\":\"AllLabels\",\"id\":\"p1475\"}}}],\"center\":[{\"type\":\"object\",\"name\":\"Grid\",\"id\":\"p1476\",\"attributes\":{\"axis\":{\"id\":\"p1472\"}}},{\"type\":\"object\",\"name\":\"Grid\",\"id\":\"p1481\",\"attributes\":{\"dimension\":1,\"axis\":{\"id\":\"p1477\"}}},{\"type\":\"object\",\"name\":\"Whisker\",\"id\":\"p1491\",\"attributes\":{\"source\":{\"type\":\"object\",\"name\":\"ColumnDataSource\",\"id\":\"p1482\",\"attributes\":{\"selected\":{\"type\":\"object\",\"name\":\"Selection\",\"id\":\"p1483\",\"attributes\":{\"indices\":[],\"line_indices\":[]}},\"selection_policy\":{\"type\":\"object\",\"name\":\"UnionRenderers\",\"id\":\"p1484\"},\"data\":{\"type\":\"map\",\"entries\":[[\"base\",[\"light\"]],[\"upper\",{\"type\":\"ndarray\",\"array\":{\"type\":\"bytes\",\"data\":\"AAAAoO1c7j8=\"},\"shape\":[1],\"dtype\":\"float64\",\"order\":\"little\"}],[\"lower\",{\"type\":\"ndarray\",\"array\":{\"type\":\"bytes\",\"data\":\"AAAAgNNr7T8=\"},\"shape\":[1],\"dtype\":\"float64\",\"order\":\"little\"}],[\"middle\",{\"type\":\"ndarray\",\"array\":{\"type\":\"bytes\",\"data\":\"XXTRBdQI7j8=\"},\"shape\":[1],\"dtype\":\"float64\",\"order\":\"little\"}]]}}},\"lower\":{\"type\":\"field\",\"field\":\"middle\"},\"lower_head\":{\"type\":\"object\",\"name\":\"TeeHead\",\"id\":\"p1495\",\"attributes\":{\"size\":{\"type\":\"value\",\"value\":20}}},\"upper\":{\"type\":\"field\",\"field\":\"middle\"},\"upper_head\":{\"type\":\"object\",\"name\":\"TeeHead\",\"id\":\"p1496\",\"attributes\":{\"size\":{\"type\":\"value\",\"value\":20}}},\"base\":{\"type\":\"field\",\"field\":\"base\"},\"line_alpha\":{\"type\":\"value\",\"value\":0.5},\"line_width\":{\"type\":\"value\",\"value\":4}}},{\"type\":\"object\",\"name\":\"Whisker\",\"id\":\"p1485\",\"attributes\":{\"level\":\"annotation\",\"source\":{\"id\":\"p1482\"},\"lower\":{\"type\":\"field\",\"field\":\"lower\"},\"lower_head\":{\"type\":\"object\",\"name\":\"TeeHead\",\"id\":\"p1489\",\"attributes\":{\"size\":{\"type\":\"value\",\"value\":10}}},\"upper\":{\"type\":\"field\",\"field\":\"upper\"},\"upper_head\":{\"type\":\"object\",\"name\":\"TeeHead\",\"id\":\"p1490\",\"attributes\":{\"size\":{\"type\":\"value\",\"value\":10}}},\"base\":{\"type\":\"field\",\"field\":\"base\"},\"line_alpha\":{\"type\":\"value\",\"value\":0.5},\"line_width\":{\"type\":\"value\",\"value\":2}}}]}},0,0]]}}]}};\n  const render_items = [{\"docid\":\"e8702ac3-9659-4c1c-b667-e72c85815f3a\",\"roots\":{\"p1509\":\"c7f0ceb4-a41b-4898-911e-bb7915419444\"},\"root_ids\":[\"p1509\"]}];\n  void root.Bokeh.embed.embed_items_notebook(docs_json, render_items);\n  }\n  if (root.Bokeh !== undefined) {\n    embed_document(root);\n  } else {\n    let attempts = 0;\n    const timer = setInterval(function(root) {\n      if (root.Bokeh !== undefined) {\n        clearInterval(timer);\n        embed_document(root);\n      } else {\n        attempts++;\n        if (attempts > 100) {\n          clearInterval(timer);\n          console.log(\"Bokeh: ERROR: Unable to run BokehJS code because BokehJS library is missing\");\n        }\n      }\n    }, 10, root)\n  }\n})(window);",
      "application/vnd.bokehjs_exec.v0+json": ""
     },
     "metadata": {
      "application/vnd.bokehjs_exec.v0+json": {
       "id": "p1509"
      }
     },
     "output_type": "display_data"
    }
   ],
   "source": [
    "import statsmodels\n",
    "import statsmodels.api as sm\n",
    "import statsmodels.api\n",
    "import statsmodels.formula\n",
    "import statsmodels.formula.api\n",
    "\n",
    "\n",
    "def get_graph(df, key):\n",
    "    df.sort_values(key, inplace=True)\n",
    "    result = statsmodels.formula.api.ols(f'kappa ~ {key}', data=df).fit()\n",
    "    table = statsmodels.api.stats.anova_lm(result)\n",
    "    stats_test = table.loc[key, 'PR(>F)']\n",
    "    g = df.groupby(key)\n",
    "    groups = g.groups\n",
    "    order_of_groups = list(groups.keys())\n",
    "    print(\"Ordre des groupes :\", order_of_groups)\n",
    "\n",
    "    upper = g.kappa.quantile(0.90)\n",
    "    lower = g.kappa.quantile(0.10)\n",
    "\n",
    "    datasource = ColumnDataSource(df)\n",
    "    output_notebook()\n",
    "    \n",
    "    classes = list(df[key].unique())\n",
    "    classes.sort()\n",
    "    print(classes)\n",
    "    \n",
    "\n",
    "    p = figure(height=500, x_range=classes, title=f\"Kappa by {key.upper()}\", tools='')\n",
    "\n",
    "    source = ColumnDataSource(data=dict(base=classes,upper=upper, lower=lower, middle=g.kappa.mean()))\n",
    "\n",
    "    error = Whisker(base=\"base\", upper=\"upper\", lower=\"lower\", source=source,\n",
    "                    level=\"annotation\", line_width=2, line_alpha=.5)\n",
    "    middle = Whisker(base=\"base\", upper=\"middle\", lower=\"middle\", source=source, line_width=4, line_alpha=0.5)\n",
    "    \n",
    "    middle.upper_head.size=20\n",
    "    middle.lower_head.size=20\n",
    "    \n",
    "    p.add_layout(middle)\n",
    "    \n",
    "    error.upper_head.size=10\n",
    "    error.lower_head.size=10\n",
    "    \n",
    "    p.add_layout(error)\n",
    "\n",
    "    p.scatter(jitter(key, 0.1, range=p.x_range), y='kappa', \n",
    "            source=datasource, \n",
    "            size=10, \n",
    "            line_color=\"white\",\n",
    "            color=factor_cmap(key, \"Light7\", classes),\n",
    "            alpha=0.8)\n",
    "    return p\n",
    "\n",
    "\n",
    "p_ema = get_graph(df, 'data_augmentation_type')\n",
    "\n",
    "\n",
    "grid = gridplot([[p_ema]])\n",
    "show(grid)"
   ]
  },
  {
   "cell_type": "code",
   "execution_count": 32,
   "metadata": {},
   "outputs": [
    {
     "name": "stdout",
     "output_type": "stream",
     "text": [
      "Ordre des groupes : ['absent', 'autobalance', 'clahe_lab', 'clahe_max_green_gsc', 'clahe_rgb', 'sarki', 'seoud']\n"
     ]
    },
    {
     "data": {
      "text/html": [
       "    <style>\n",
       "        .bk-notebook-logo {\n",
       "            display: block;\n",
       "            width: 20px;\n",
       "            height: 20px;\n",
       "            background-image: url(data:image/png;base64,iVBORw0KGgoAAAANSUhEUgAAABQAAAAUCAYAAACNiR0NAAAABHNCSVQICAgIfAhkiAAAAAlwSFlzAAALEgAACxIB0t1+/AAAABx0RVh0U29mdHdhcmUAQWRvYmUgRmlyZXdvcmtzIENTNui8sowAAAOkSURBVDiNjZRtaJVlGMd/1/08zzln5zjP1LWcU9N0NkN8m2CYjpgQYQXqSs0I84OLIC0hkEKoPtiH3gmKoiJDU7QpLgoLjLIQCpEsNJ1vqUOdO7ppbuec5+V+rj4ctwzd8IIbbi6u+8f1539dt3A78eXC7QizUF7gyV1fD1Yqg4JWz84yffhm0qkFqBogB9rM8tZdtwVsPUhWhGcFJngGeWrPzHm5oaMmkfEg1usvLFyc8jLRqDOMru7AyC8saQr7GG7f5fvDeH7Ej8CM66nIF+8yngt6HWaKh7k49Soy9nXurCi1o3qUbS3zWfrYeQDTB/Qj6kX6Ybhw4B+bOYoLKCC9H3Nu/leUTZ1JdRWkkn2ldcCamzrcf47KKXdAJllSlxAOkRgyHsGC/zRday5Qld9DyoM4/q/rUoy/CXh3jzOu3bHUVZeU+DEn8FInkPBFlu3+nW3Nw0mk6vCDiWg8CeJaxEwuHS3+z5RgY+YBR6V1Z1nxSOfoaPa4LASWxxdNp+VWTk7+4vzaou8v8PN+xo+KY2xsw6une2frhw05CTYOmQvsEhjhWjn0bmXPjpE1+kplmmkP3suftwTubK9Vq22qKmrBhpY4jvd5afdRA3wGjFAgcnTK2s4hY0/GPNIb0nErGMCRxWOOX64Z8RAC4oCXdklmEvcL8o0BfkNK4lUg9HTl+oPlQxdNo3Mg4Nv175e/1LDGzZen30MEjRUtmXSfiTVu1kK8W4txyV6BMKlbgk3lMwYCiusNy9fVfvvwMxv8Ynl6vxoByANLTWplvuj/nF9m2+PDtt1eiHPBr1oIfhCChQMBw6Aw0UulqTKZdfVvfG7VcfIqLG9bcldL/+pdWTLxLUy8Qq38heUIjh4XlzZxzQm19lLFlr8vdQ97rjZVOLf8nclzckbcD4wxXMidpX30sFd37Fv/GtwwhzhxGVAprjbg0gCAEeIgwCZyTV2Z1REEW8O4py0wsjeloKoMr6iCY6dP92H6Vw/oTyICIthibxjm/DfN9lVz8IqtqKYLUXfoKVMVQVVJOElGjrnnUt9T9wbgp8AyYKaGlqingHZU/uG2NTZSVqwHQTWkx9hxjkpWDaCg6Ckj5qebgBVbT3V3NNXMSiWSDdGV3hrtzla7J+duwPOToIg42ChPQOQjspnSlp1V+Gjdged7+8UN5CRAV7a5EdFNwCjEaBR27b3W890TE7g24NAP/mMDXRWrGoFPQI9ls/MWO2dWFAar/xcOIImbbpA3zgAAAABJRU5ErkJggg==);\n",
       "        }\n",
       "    </style>\n",
       "    <div>\n",
       "        <a href=\"https://bokeh.org\" target=\"_blank\" class=\"bk-notebook-logo\"></a>\n",
       "        <span id=\"f71a874f-f7c4-4cd5-ae61-5c77a85d41cd\">Loading BokehJS ...</span>\n",
       "    </div>\n"
      ]
     },
     "metadata": {},
     "output_type": "display_data"
    },
    {
     "data": {
      "application/javascript": "'use strict';\n(function(root) {\n  function now() {\n    return new Date();\n  }\n\n  const force = true;\n\n  if (typeof root._bokeh_onload_callbacks === \"undefined\" || force === true) {\n    root._bokeh_onload_callbacks = [];\n    root._bokeh_is_loading = undefined;\n  }\n\nconst JS_MIME_TYPE = 'application/javascript';\n  const HTML_MIME_TYPE = 'text/html';\n  const EXEC_MIME_TYPE = 'application/vnd.bokehjs_exec.v0+json';\n  const CLASS_NAME = 'output_bokeh rendered_html';\n\n  /**\n   * Render data to the DOM node\n   */\n  function render(props, node) {\n    const script = document.createElement(\"script\");\n    node.appendChild(script);\n  }\n\n  /**\n   * Handle when an output is cleared or removed\n   */\n  function handleClearOutput(event, handle) {\n    function drop(id) {\n      const view = Bokeh.index.get_by_id(id)\n      if (view != null) {\n        view.model.document.clear()\n        Bokeh.index.delete(view)\n      }\n    }\n\n    const cell = handle.cell;\n\n    const id = cell.output_area._bokeh_element_id;\n    const server_id = cell.output_area._bokeh_server_id;\n\n    // Clean up Bokeh references\n    if (id != null) {\n      drop(id)\n    }\n\n    if (server_id !== undefined) {\n      // Clean up Bokeh references\n      const cmd_clean = \"from bokeh.io.state import curstate; print(curstate().uuid_to_server['\" + server_id + \"'].get_sessions()[0].document.roots[0]._id)\";\n      cell.notebook.kernel.execute(cmd_clean, {\n        iopub: {\n          output: function(msg) {\n            const id = msg.content.text.trim()\n            drop(id)\n          }\n        }\n      });\n      // Destroy server and session\n      const cmd_destroy = \"import bokeh.io.notebook as ion; ion.destroy_server('\" + server_id + \"')\";\n      cell.notebook.kernel.execute(cmd_destroy);\n    }\n  }\n\n  /**\n   * Handle when a new output is added\n   */\n  function handleAddOutput(event, handle) {\n    const output_area = handle.output_area;\n    const output = handle.output;\n\n    // limit handleAddOutput to display_data with EXEC_MIME_TYPE content only\n    if ((output.output_type != \"display_data\") || (!Object.prototype.hasOwnProperty.call(output.data, EXEC_MIME_TYPE))) {\n      return\n    }\n\n    const toinsert = output_area.element.find(\".\" + CLASS_NAME.split(' ')[0]);\n\n    if (output.metadata[EXEC_MIME_TYPE][\"id\"] !== undefined) {\n      toinsert[toinsert.length - 1].firstChild.textContent = output.data[JS_MIME_TYPE];\n      // store reference to embed id on output_area\n      output_area._bokeh_element_id = output.metadata[EXEC_MIME_TYPE][\"id\"];\n    }\n    if (output.metadata[EXEC_MIME_TYPE][\"server_id\"] !== undefined) {\n      const bk_div = document.createElement(\"div\");\n      bk_div.innerHTML = output.data[HTML_MIME_TYPE];\n      const script_attrs = bk_div.children[0].attributes;\n      for (let i = 0; i < script_attrs.length; i++) {\n        toinsert[toinsert.length - 1].firstChild.setAttribute(script_attrs[i].name, script_attrs[i].value);\n        toinsert[toinsert.length - 1].firstChild.textContent = bk_div.children[0].textContent\n      }\n      // store reference to server id on output_area\n      output_area._bokeh_server_id = output.metadata[EXEC_MIME_TYPE][\"server_id\"];\n    }\n  }\n\n  function register_renderer(events, OutputArea) {\n\n    function append_mime(data, metadata, element) {\n      // create a DOM node to render to\n      const toinsert = this.create_output_subarea(\n        metadata,\n        CLASS_NAME,\n        EXEC_MIME_TYPE\n      );\n      this.keyboard_manager.register_events(toinsert);\n      // Render to node\n      const props = {data: data, metadata: metadata[EXEC_MIME_TYPE]};\n      render(props, toinsert[toinsert.length - 1]);\n      element.append(toinsert);\n      return toinsert\n    }\n\n    /* Handle when an output is cleared or removed */\n    events.on('clear_output.CodeCell', handleClearOutput);\n    events.on('delete.Cell', handleClearOutput);\n\n    /* Handle when a new output is added */\n    events.on('output_added.OutputArea', handleAddOutput);\n\n    /**\n     * Register the mime type and append_mime function with output_area\n     */\n    OutputArea.prototype.register_mime_type(EXEC_MIME_TYPE, append_mime, {\n      /* Is output safe? */\n      safe: true,\n      /* Index of renderer in `output_area.display_order` */\n      index: 0\n    });\n  }\n\n  // register the mime type if in Jupyter Notebook environment and previously unregistered\n  if (root.Jupyter !== undefined) {\n    const events = require('base/js/events');\n    const OutputArea = require('notebook/js/outputarea').OutputArea;\n\n    if (OutputArea.prototype.mime_types().indexOf(EXEC_MIME_TYPE) == -1) {\n      register_renderer(events, OutputArea);\n    }\n  }\n  if (typeof (root._bokeh_timeout) === \"undefined\" || force === true) {\n    root._bokeh_timeout = Date.now() + 5000;\n    root._bokeh_failed_load = false;\n  }\n\n  const NB_LOAD_WARNING = {'data': {'text/html':\n     \"<div style='background-color: #fdd'>\\n\"+\n     \"<p>\\n\"+\n     \"BokehJS does not appear to have successfully loaded. If loading BokehJS from CDN, this \\n\"+\n     \"may be due to a slow or bad network connection. Possible fixes:\\n\"+\n     \"</p>\\n\"+\n     \"<ul>\\n\"+\n     \"<li>re-rerun `output_notebook()` to attempt to load from CDN again, or</li>\\n\"+\n     \"<li>use INLINE resources instead, as so:</li>\\n\"+\n     \"</ul>\\n\"+\n     \"<code>\\n\"+\n     \"from bokeh.resources import INLINE\\n\"+\n     \"output_notebook(resources=INLINE)\\n\"+\n     \"</code>\\n\"+\n     \"</div>\"}};\n\n  function display_loaded(error = null) {\n    const el = document.getElementById(\"f71a874f-f7c4-4cd5-ae61-5c77a85d41cd\");\n    if (el != null) {\n      const html = (() => {\n        if (typeof root.Bokeh === \"undefined\") {\n          if (error == null) {\n            return \"BokehJS is loading ...\";\n          } else {\n            return \"BokehJS failed to load.\";\n          }\n        } else {\n          const prefix = `BokehJS ${root.Bokeh.version}`;\n          if (error == null) {\n            return `${prefix} successfully loaded.`;\n          } else {\n            return `${prefix} <b>encountered errors</b> while loading and may not function as expected.`;\n          }\n        }\n      })();\n      el.innerHTML = html;\n\n      if (error != null) {\n        const wrapper = document.createElement(\"div\");\n        wrapper.style.overflow = \"auto\";\n        wrapper.style.height = \"5em\";\n        wrapper.style.resize = \"vertical\";\n        const content = document.createElement(\"div\");\n        content.style.fontFamily = \"monospace\";\n        content.style.whiteSpace = \"pre-wrap\";\n        content.style.backgroundColor = \"rgb(255, 221, 221)\";\n        content.textContent = error.stack ?? error.toString();\n        wrapper.append(content);\n        el.append(wrapper);\n      }\n    } else if (Date.now() < root._bokeh_timeout) {\n      setTimeout(() => display_loaded(error), 100);\n    }\n  }\n\n  function run_callbacks() {\n    try {\n      root._bokeh_onload_callbacks.forEach(function(callback) {\n        if (callback != null)\n          callback();\n      });\n    } finally {\n      delete root._bokeh_onload_callbacks\n    }\n    console.debug(\"Bokeh: all callbacks have finished\");\n  }\n\n  function load_libs(css_urls, js_urls, callback) {\n    if (css_urls == null) css_urls = [];\n    if (js_urls == null) js_urls = [];\n\n    root._bokeh_onload_callbacks.push(callback);\n    if (root._bokeh_is_loading > 0) {\n      console.debug(\"Bokeh: BokehJS is being loaded, scheduling callback at\", now());\n      return null;\n    }\n    if (js_urls == null || js_urls.length === 0) {\n      run_callbacks();\n      return null;\n    }\n    console.debug(\"Bokeh: BokehJS not loaded, scheduling load and callback at\", now());\n    root._bokeh_is_loading = css_urls.length + js_urls.length;\n\n    function on_load() {\n      root._bokeh_is_loading--;\n      if (root._bokeh_is_loading === 0) {\n        console.debug(\"Bokeh: all BokehJS libraries/stylesheets loaded\");\n        run_callbacks()\n      }\n    }\n\n    function on_error(url) {\n      console.error(\"failed to load \" + url);\n    }\n\n    for (let i = 0; i < css_urls.length; i++) {\n      const url = css_urls[i];\n      const element = document.createElement(\"link\");\n      element.onload = on_load;\n      element.onerror = on_error.bind(null, url);\n      element.rel = \"stylesheet\";\n      element.type = \"text/css\";\n      element.href = url;\n      console.debug(\"Bokeh: injecting link tag for BokehJS stylesheet: \", url);\n      document.body.appendChild(element);\n    }\n\n    for (let i = 0; i < js_urls.length; i++) {\n      const url = js_urls[i];\n      const element = document.createElement('script');\n      element.onload = on_load;\n      element.onerror = on_error.bind(null, url);\n      element.async = false;\n      element.src = url;\n      console.debug(\"Bokeh: injecting script tag for BokehJS library: \", url);\n      document.head.appendChild(element);\n    }\n  };\n\n  function inject_raw_css(css) {\n    const element = document.createElement(\"style\");\n    element.appendChild(document.createTextNode(css));\n    document.body.appendChild(element);\n  }\n\n  const js_urls = [\"https://cdn.bokeh.org/bokeh/release/bokeh-3.5.0.min.js\", \"https://cdn.bokeh.org/bokeh/release/bokeh-gl-3.5.0.min.js\", \"https://cdn.bokeh.org/bokeh/release/bokeh-widgets-3.5.0.min.js\", \"https://cdn.bokeh.org/bokeh/release/bokeh-tables-3.5.0.min.js\", \"https://cdn.bokeh.org/bokeh/release/bokeh-mathjax-3.5.0.min.js\"];\n  const css_urls = [];\n\n  const inline_js = [    function(Bokeh) {\n      Bokeh.set_log_level(\"info\");\n    },\nfunction(Bokeh) {\n    }\n  ];\n\n  function run_inline_js() {\n    if (root.Bokeh !== undefined || force === true) {\n      try {\n            for (let i = 0; i < inline_js.length; i++) {\n      inline_js[i].call(root, root.Bokeh);\n    }\n\n      } catch (error) {display_loaded(error);throw error;\n      }if (force === true) {\n        display_loaded();\n      }} else if (Date.now() < root._bokeh_timeout) {\n      setTimeout(run_inline_js, 100);\n    } else if (!root._bokeh_failed_load) {\n      console.log(\"Bokeh: BokehJS failed to load within specified timeout.\");\n      root._bokeh_failed_load = true;\n    } else if (force !== true) {\n      const cell = $(document.getElementById(\"f71a874f-f7c4-4cd5-ae61-5c77a85d41cd\")).parents('.cell').data().cell;\n      cell.output_area.append_execute_result(NB_LOAD_WARNING)\n    }\n  }\n\n  if (root._bokeh_is_loading === 0) {\n    console.debug(\"Bokeh: BokehJS loaded, going straight to plotting\");\n    run_inline_js();\n  } else {\n    load_libs(css_urls, js_urls, function() {\n      console.debug(\"Bokeh: BokehJS plotting callback run at\", now());\n      run_inline_js();\n    });\n  }\n}(window));",
      "application/vnd.bokehjs_load.v0+json": ""
     },
     "metadata": {},
     "output_type": "display_data"
    },
    {
     "name": "stdout",
     "output_type": "stream",
     "text": [
      "['absent', 'autobalance', 'clahe_lab', 'clahe_max_green_gsc', 'clahe_rgb', 'sarki', 'seoud']\n"
     ]
    },
    {
     "data": {
      "text/html": [
       "\n",
       "  <div id=\"bedc214e-9449-468d-9604-4209d29b8cc4\" data-root-id=\"p1520\" style=\"display: contents;\"></div>\n"
      ]
     },
     "metadata": {},
     "output_type": "display_data"
    },
    {
     "data": {
      "application/javascript": "(function(root) {\n  function embed_document(root) {\n  const docs_json = {\"923b5b9d-a923-4333-8b10-a357ee6735c0\":{\"version\":\"3.5.0\",\"title\":\"Bokeh Application\",\"roots\":[{\"type\":\"object\",\"name\":\"Figure\",\"id\":\"p1520\",\"attributes\":{\"height\":500,\"x_range\":{\"type\":\"object\",\"name\":\"FactorRange\",\"id\":\"p1530\",\"attributes\":{\"factors\":[\"absent\",\"autobalance\",\"clahe_lab\",\"clahe_max_green_gsc\",\"clahe_rgb\",\"sarki\",\"seoud\"]}},\"y_range\":{\"type\":\"object\",\"name\":\"DataRange1d\",\"id\":\"p1522\"},\"x_scale\":{\"type\":\"object\",\"name\":\"CategoricalScale\",\"id\":\"p1531\"},\"y_scale\":{\"type\":\"object\",\"name\":\"LinearScale\",\"id\":\"p1532\"},\"title\":{\"type\":\"object\",\"name\":\"Title\",\"id\":\"p1523\",\"attributes\":{\"text\":\"Kappa by PREPROCESSING\"}},\"renderers\":[{\"type\":\"object\",\"name\":\"GlyphRenderer\",\"id\":\"p1566\",\"attributes\":{\"data_source\":{\"type\":\"object\",\"name\":\"ColumnDataSource\",\"id\":\"p1517\",\"attributes\":{\"selected\":{\"type\":\"object\",\"name\":\"Selection\",\"id\":\"p1518\",\"attributes\":{\"indices\":[],\"line_indices\":[]}},\"selection_policy\":{\"type\":\"object\",\"name\":\"UnionRenderers\",\"id\":\"p1519\"},\"data\":{\"type\":\"map\",\"entries\":[[\"index\",{\"type\":\"ndarray\",\"array\":{\"type\":\"bytes\",\"data\":\"AAAAAAcAAAABAAAACAAAAAIAAAAJAAAABAAAAAMAAAAKAAAABgAAAAUAAAA=\"},\"shape\":[11],\"dtype\":\"int32\",\"order\":\"little\"}],[\"lr\",{\"type\":\"ndarray\",\"array\":{\"type\":\"bytes\",\"data\":\"8WjjiLX45D4tQxzr4jYKP/Fo44i1+OQ+LUMc6+I2Cj/xaOOItfjkPi1DHOviNgo/8WjjiLX45D7xaOOItfjkPi1DHOviNgo/8WjjiLX45D7xaOOItfjkPg==\"},\"shape\":[11],\"dtype\":\"float64\",\"order\":\"little\"}],[\"preprocessing\",{\"type\":\"ndarray\",\"array\":[\"absent\",\"absent\",\"autobalance\",\"autobalance\",\"clahe_lab\",\"clahe_lab\",\"clahe_max_green_gsc\",\"clahe_rgb\",\"clahe_rgb\",\"sarki\",\"seoud\"],\"shape\":[11],\"dtype\":\"object\",\"order\":\"little\"}],[\"data_augmentation_type\",{\"type\":\"ndarray\",\"array\":[\"light\",\"light\",\"light\",\"light\",\"light\",\"light\",\"light\",\"light\",\"light\",\"light\",\"light\"],\"shape\":[11],\"dtype\":\"object\",\"order\":\"little\"}],[\"name\",{\"type\":\"ndarray\",\"array\":[\"celestial-sweep-1\",\"fallen-sweep-8\",\"scarlet-sweep-2\",\"brisk-sweep-9\",\"rare-sweep-3\",\"curious-sweep-10\",\"icy-sweep-5\",\"flowing-sweep-4\",\"exalted-sweep-11\",\"fanciful-sweep-7\",\"fresh-sweep-6\"],\"shape\":[11],\"dtype\":\"object\",\"order\":\"little\"}],[\"kappa\",{\"type\":\"ndarray\",\"array\":{\"type\":\"bytes\",\"data\":\"AAAAYNdP7j8AAACA02vtPwEAAED0Eu4/AAAAoO1c7j8AAAAg0lzuP////9/mnO4/AQAAYC057j8BAABgQ1XuPwAAAEDb0ew/AAAAQIMi7j8AAABAB7ntPw==\"},\"shape\":[11],\"dtype\":\"float64\",\"order\":\"little\"}]]}}},\"view\":{\"type\":\"object\",\"name\":\"CDSView\",\"id\":\"p1567\",\"attributes\":{\"filter\":{\"type\":\"object\",\"name\":\"AllIndices\",\"id\":\"p1568\"}}},\"glyph\":{\"type\":\"object\",\"name\":\"Scatter\",\"id\":\"p1563\",\"attributes\":{\"x\":{\"type\":\"field\",\"field\":\"preprocessing\",\"transform\":{\"type\":\"object\",\"name\":\"Jitter\",\"id\":\"p1558\",\"attributes\":{\"width\":0.1,\"range\":{\"id\":\"p1530\"}}}},\"y\":{\"type\":\"field\",\"field\":\"kappa\"},\"size\":{\"type\":\"value\",\"value\":10},\"line_color\":{\"type\":\"value\",\"value\":\"white\"},\"line_alpha\":{\"type\":\"value\",\"value\":0.8},\"fill_color\":{\"type\":\"field\",\"field\":\"preprocessing\",\"transform\":{\"type\":\"object\",\"name\":\"CategoricalColorMapper\",\"id\":\"p1559\",\"attributes\":{\"palette\":[\"#77AADD\",\"#EE8866\",\"#EEDD88\",\"#FFAABB\",\"#99DDFF\",\"#44BB99\",\"#BBCC33\"],\"factors\":[\"absent\",\"autobalance\",\"clahe_lab\",\"clahe_max_green_gsc\",\"clahe_rgb\",\"sarki\",\"seoud\"]}}},\"fill_alpha\":{\"type\":\"value\",\"value\":0.8},\"hatch_color\":{\"type\":\"field\",\"field\":\"preprocessing\",\"transform\":{\"id\":\"p1559\"}},\"hatch_alpha\":{\"type\":\"value\",\"value\":0.8}}},\"nonselection_glyph\":{\"type\":\"object\",\"name\":\"Scatter\",\"id\":\"p1564\",\"attributes\":{\"x\":{\"type\":\"field\",\"field\":\"preprocessing\",\"transform\":{\"id\":\"p1558\"}},\"y\":{\"type\":\"field\",\"field\":\"kappa\"},\"size\":{\"type\":\"value\",\"value\":10},\"line_color\":{\"type\":\"value\",\"value\":\"white\"},\"line_alpha\":{\"type\":\"value\",\"value\":0.1},\"fill_color\":{\"type\":\"field\",\"field\":\"preprocessing\",\"transform\":{\"id\":\"p1559\"}},\"fill_alpha\":{\"type\":\"value\",\"value\":0.1},\"hatch_color\":{\"type\":\"field\",\"field\":\"preprocessing\",\"transform\":{\"id\":\"p1559\"}},\"hatch_alpha\":{\"type\":\"value\",\"value\":0.1}}},\"muted_glyph\":{\"type\":\"object\",\"name\":\"Scatter\",\"id\":\"p1565\",\"attributes\":{\"x\":{\"type\":\"field\",\"field\":\"preprocessing\",\"transform\":{\"id\":\"p1558\"}},\"y\":{\"type\":\"field\",\"field\":\"kappa\"},\"size\":{\"type\":\"value\",\"value\":10},\"line_color\":{\"type\":\"value\",\"value\":\"white\"},\"line_alpha\":{\"type\":\"value\",\"value\":0.2},\"fill_color\":{\"type\":\"field\",\"field\":\"preprocessing\",\"transform\":{\"id\":\"p1559\"}},\"fill_alpha\":{\"type\":\"value\",\"value\":0.2},\"hatch_color\":{\"type\":\"field\",\"field\":\"preprocessing\",\"transform\":{\"id\":\"p1559\"}},\"hatch_alpha\":{\"type\":\"value\",\"value\":0.2}}}}}],\"toolbar\":{\"type\":\"object\",\"name\":\"Toolbar\",\"id\":\"p1529\"},\"left\":[{\"type\":\"object\",\"name\":\"LinearAxis\",\"id\":\"p1538\",\"attributes\":{\"ticker\":{\"type\":\"object\",\"name\":\"BasicTicker\",\"id\":\"p1539\",\"attributes\":{\"mantissas\":[1,2,5]}},\"formatter\":{\"type\":\"object\",\"name\":\"BasicTickFormatter\",\"id\":\"p1540\"},\"major_label_policy\":{\"type\":\"object\",\"name\":\"AllLabels\",\"id\":\"p1541\"}}}],\"below\":[{\"type\":\"object\",\"name\":\"CategoricalAxis\",\"id\":\"p1533\",\"attributes\":{\"ticker\":{\"type\":\"object\",\"name\":\"CategoricalTicker\",\"id\":\"p1534\"},\"formatter\":{\"type\":\"object\",\"name\":\"CategoricalTickFormatter\",\"id\":\"p1535\"},\"major_label_policy\":{\"type\":\"object\",\"name\":\"AllLabels\",\"id\":\"p1536\"}}}],\"center\":[{\"type\":\"object\",\"name\":\"Grid\",\"id\":\"p1537\",\"attributes\":{\"axis\":{\"id\":\"p1533\"}}},{\"type\":\"object\",\"name\":\"Grid\",\"id\":\"p1542\",\"attributes\":{\"dimension\":1,\"axis\":{\"id\":\"p1538\"}}},{\"type\":\"object\",\"name\":\"Whisker\",\"id\":\"p1552\",\"attributes\":{\"source\":{\"type\":\"object\",\"name\":\"ColumnDataSource\",\"id\":\"p1543\",\"attributes\":{\"selected\":{\"type\":\"object\",\"name\":\"Selection\",\"id\":\"p1544\",\"attributes\":{\"indices\":[],\"line_indices\":[]}},\"selection_policy\":{\"type\":\"object\",\"name\":\"UnionRenderers\",\"id\":\"p1545\"},\"data\":{\"type\":\"map\",\"entries\":[[\"base\",[\"absent\",\"autobalance\",\"clahe_lab\",\"clahe_max_green_gsc\",\"clahe_rgb\",\"sarki\",\"seoud\"]],[\"upper\",{\"type\":\"ndarray\",\"array\":{\"type\":\"bytes\",\"data\":\"AAAAMAo57j8zMzPjh1XuP2ZmZmZ+lu4/AQAAYC057j80MzPDhS7uPwAAAECDIu4/AAAAQAe57T8=\"},\"shape\":[7],\"dtype\":\"float64\",\"order\":\"little\"}],[\"lower\",{\"type\":\"ndarray\",\"array\":{\"type\":\"bytes\",\"data\":\"AAAAsKCC7T/OzMz8WRruP5qZmZk6Y+4/AQAAYC057j/NzMzcmPjsPwAAAECDIu4/AAAAQAe57T8=\"},\"shape\":[7],\"dtype\":\"float64\",\"order\":\"little\"}],[\"middle\",{\"type\":\"ndarray\",\"array\":{\"type\":\"bytes\",\"data\":\"AAAAcNXd7T8AAADw8DfuPwAAAIDcfO4/AQAAYC057j8AAABQj5PtPwAAAECDIu4/AAAAQAe57T8=\"},\"shape\":[7],\"dtype\":\"float64\",\"order\":\"little\"}]]}}},\"lower\":{\"type\":\"field\",\"field\":\"middle\"},\"lower_head\":{\"type\":\"object\",\"name\":\"TeeHead\",\"id\":\"p1556\",\"attributes\":{\"size\":{\"type\":\"value\",\"value\":20}}},\"upper\":{\"type\":\"field\",\"field\":\"middle\"},\"upper_head\":{\"type\":\"object\",\"name\":\"TeeHead\",\"id\":\"p1557\",\"attributes\":{\"size\":{\"type\":\"value\",\"value\":20}}},\"base\":{\"type\":\"field\",\"field\":\"base\"},\"line_alpha\":{\"type\":\"value\",\"value\":0.5},\"line_width\":{\"type\":\"value\",\"value\":4}}},{\"type\":\"object\",\"name\":\"Whisker\",\"id\":\"p1546\",\"attributes\":{\"level\":\"annotation\",\"source\":{\"id\":\"p1543\"},\"lower\":{\"type\":\"field\",\"field\":\"lower\"},\"lower_head\":{\"type\":\"object\",\"name\":\"TeeHead\",\"id\":\"p1550\",\"attributes\":{\"size\":{\"type\":\"value\",\"value\":10}}},\"upper\":{\"type\":\"field\",\"field\":\"upper\"},\"upper_head\":{\"type\":\"object\",\"name\":\"TeeHead\",\"id\":\"p1551\",\"attributes\":{\"size\":{\"type\":\"value\",\"value\":10}}},\"base\":{\"type\":\"field\",\"field\":\"base\"},\"line_alpha\":{\"type\":\"value\",\"value\":0.5},\"line_width\":{\"type\":\"value\",\"value\":2}}}]}}]}};\n  const render_items = [{\"docid\":\"923b5b9d-a923-4333-8b10-a357ee6735c0\",\"roots\":{\"p1520\":\"bedc214e-9449-468d-9604-4209d29b8cc4\"},\"root_ids\":[\"p1520\"]}];\n  void root.Bokeh.embed.embed_items_notebook(docs_json, render_items);\n  }\n  if (root.Bokeh !== undefined) {\n    embed_document(root);\n  } else {\n    let attempts = 0;\n    const timer = setInterval(function(root) {\n      if (root.Bokeh !== undefined) {\n        clearInterval(timer);\n        embed_document(root);\n      } else {\n        attempts++;\n        if (attempts > 100) {\n          clearInterval(timer);\n          console.log(\"Bokeh: ERROR: Unable to run BokehJS code because BokehJS library is missing\");\n        }\n      }\n    }, 10, root)\n  }\n})(window);",
      "application/vnd.bokehjs_exec.v0+json": ""
     },
     "metadata": {
      "application/vnd.bokehjs_exec.v0+json": {
       "id": "p1520"
      }
     },
     "output_type": "display_data"
    }
   ],
   "source": [
    "p = get_graph(df, 'preprocessing')\n",
    "\n",
    "show(p)"
   ]
  }
 ],
 "metadata": {
  "kernelspec": {
   "display_name": "DL",
   "language": "python",
   "name": "python3"
  },
  "language_info": {
   "codemirror_mode": {
    "name": "ipython",
    "version": 3
   },
   "file_extension": ".py",
   "mimetype": "text/x-python",
   "name": "python",
   "nbconvert_exporter": "python",
   "pygments_lexer": "ipython3",
   "version": "3.12.4"
  }
 },
 "nbformat": 4,
 "nbformat_minor": 2
}
