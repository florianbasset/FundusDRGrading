{
 "cells": [
  {
   "cell_type": "code",
   "execution_count": 1,
   "metadata": {},
   "outputs": [],
   "source": [
    "import wandb\n",
    "import pandas as pd\n",
    "import numpy as np\n",
    "import bokeh\n",
    "from bokeh.plotting import figure, show\n",
    "from bokeh.io import output_notebook\n",
    "from bokeh.models import ColumnDataSource, Whisker\n",
    "from bokeh.transform import factor_cmap, jitter\n",
    "from bokeh.layouts import gridplot\n"
   ]
  },
  {
   "cell_type": "code",
   "execution_count": 2,
   "metadata": {},
   "outputs": [
    {
     "data": {
      "text/html": [
       "<div>\n",
       "<style scoped>\n",
       "    .dataframe tbody tr th:only-of-type {\n",
       "        vertical-align: middle;\n",
       "    }\n",
       "\n",
       "    .dataframe tbody tr th {\n",
       "        vertical-align: top;\n",
       "    }\n",
       "\n",
       "    .dataframe thead th {\n",
       "        text-align: right;\n",
       "    }\n",
       "</style>\n",
       "<table border=\"1\" class=\"dataframe\">\n",
       "  <thead>\n",
       "    <tr style=\"text-align: right;\">\n",
       "      <th></th>\n",
       "      <th>lr</th>\n",
       "      <th>preprocessing</th>\n",
       "      <th>data_augmentation_type</th>\n",
       "      <th>name</th>\n",
       "      <th>kappa</th>\n",
       "    </tr>\n",
       "  </thead>\n",
       "  <tbody>\n",
       "    <tr>\n",
       "      <th>0</th>\n",
       "      <td>0.00001</td>\n",
       "      <td>absent</td>\n",
       "      <td>light</td>\n",
       "      <td>celestial-sweep-1</td>\n",
       "      <td>0.947246</td>\n",
       "    </tr>\n",
       "    <tr>\n",
       "      <th>1</th>\n",
       "      <td>0.00001</td>\n",
       "      <td>autobalance</td>\n",
       "      <td>light</td>\n",
       "      <td>scarlet-sweep-2</td>\n",
       "      <td>0.939814</td>\n",
       "    </tr>\n",
       "    <tr>\n",
       "      <th>2</th>\n",
       "      <td>0.00001</td>\n",
       "      <td>clahe_lab</td>\n",
       "      <td>light</td>\n",
       "      <td>rare-sweep-3</td>\n",
       "      <td>0.948831</td>\n",
       "    </tr>\n",
       "    <tr>\n",
       "      <th>3</th>\n",
       "      <td>0.00001</td>\n",
       "      <td>clahe_rgb</td>\n",
       "      <td>light</td>\n",
       "      <td>flowing-sweep-4</td>\n",
       "      <td>0.947908</td>\n",
       "    </tr>\n",
       "    <tr>\n",
       "      <th>4</th>\n",
       "      <td>0.00001</td>\n",
       "      <td>clahe_max_green_gsc</td>\n",
       "      <td>light</td>\n",
       "      <td>icy-sweep-5</td>\n",
       "      <td>0.944480</td>\n",
       "    </tr>\n",
       "    <tr>\n",
       "      <th>5</th>\n",
       "      <td>0.00001</td>\n",
       "      <td>seoud</td>\n",
       "      <td>light</td>\n",
       "      <td>fresh-sweep-6</td>\n",
       "      <td>0.928836</td>\n",
       "    </tr>\n",
       "    <tr>\n",
       "      <th>6</th>\n",
       "      <td>0.00001</td>\n",
       "      <td>sarki</td>\n",
       "      <td>light</td>\n",
       "      <td>fanciful-sweep-7</td>\n",
       "      <td>0.941713</td>\n",
       "    </tr>\n",
       "    <tr>\n",
       "      <th>7</th>\n",
       "      <td>0.00005</td>\n",
       "      <td>absent</td>\n",
       "      <td>light</td>\n",
       "      <td>fallen-sweep-8</td>\n",
       "      <td>0.919412</td>\n",
       "    </tr>\n",
       "    <tr>\n",
       "      <th>8</th>\n",
       "      <td>0.00005</td>\n",
       "      <td>autobalance</td>\n",
       "      <td>light</td>\n",
       "      <td>brisk-sweep-9</td>\n",
       "      <td>0.948844</td>\n",
       "    </tr>\n",
       "    <tr>\n",
       "      <th>9</th>\n",
       "      <td>0.00005</td>\n",
       "      <td>clahe_lab</td>\n",
       "      <td>light</td>\n",
       "      <td>curious-sweep-10</td>\n",
       "      <td>0.956653</td>\n",
       "    </tr>\n",
       "    <tr>\n",
       "      <th>10</th>\n",
       "      <td>0.00005</td>\n",
       "      <td>clahe_rgb</td>\n",
       "      <td>light</td>\n",
       "      <td>exalted-sweep-11</td>\n",
       "      <td>0.949209</td>\n",
       "    </tr>\n",
       "    <tr>\n",
       "      <th>11</th>\n",
       "      <td>0.00005</td>\n",
       "      <td>clahe_max_green_gsc</td>\n",
       "      <td>light</td>\n",
       "      <td>legendary-sweep-12</td>\n",
       "      <td>0.955034</td>\n",
       "    </tr>\n",
       "    <tr>\n",
       "      <th>12</th>\n",
       "      <td>0.00005</td>\n",
       "      <td>seoud</td>\n",
       "      <td>light</td>\n",
       "      <td>divine-sweep-13</td>\n",
       "      <td>0.944170</td>\n",
       "    </tr>\n",
       "    <tr>\n",
       "      <th>13</th>\n",
       "      <td>0.00010</td>\n",
       "      <td>absent</td>\n",
       "      <td>light</td>\n",
       "      <td>clear-sweep-15</td>\n",
       "      <td>0.957036</td>\n",
       "    </tr>\n",
       "    <tr>\n",
       "      <th>14</th>\n",
       "      <td>0.00010</td>\n",
       "      <td>autobalance</td>\n",
       "      <td>light</td>\n",
       "      <td>young-sweep-16</td>\n",
       "      <td>0.950083</td>\n",
       "    </tr>\n",
       "    <tr>\n",
       "      <th>15</th>\n",
       "      <td>0.00010</td>\n",
       "      <td>clahe_lab</td>\n",
       "      <td>light</td>\n",
       "      <td>ruby-sweep-17</td>\n",
       "      <td>0.924313</td>\n",
       "    </tr>\n",
       "    <tr>\n",
       "      <th>16</th>\n",
       "      <td>0.00010</td>\n",
       "      <td>clahe_rgb</td>\n",
       "      <td>light</td>\n",
       "      <td>fearless-sweep-18</td>\n",
       "      <td>0.940912</td>\n",
       "    </tr>\n",
       "    <tr>\n",
       "      <th>17</th>\n",
       "      <td>0.00010</td>\n",
       "      <td>clahe_max_green_gsc</td>\n",
       "      <td>light</td>\n",
       "      <td>lemon-sweep-19</td>\n",
       "      <td>0.953488</td>\n",
       "    </tr>\n",
       "    <tr>\n",
       "      <th>18</th>\n",
       "      <td>0.00010</td>\n",
       "      <td>seoud</td>\n",
       "      <td>light</td>\n",
       "      <td>fluent-sweep-20</td>\n",
       "      <td>0.915719</td>\n",
       "    </tr>\n",
       "    <tr>\n",
       "      <th>19</th>\n",
       "      <td>0.00050</td>\n",
       "      <td>absent</td>\n",
       "      <td>light</td>\n",
       "      <td>vague-sweep-22</td>\n",
       "      <td>0.849028</td>\n",
       "    </tr>\n",
       "    <tr>\n",
       "      <th>20</th>\n",
       "      <td>0.00050</td>\n",
       "      <td>autobalance</td>\n",
       "      <td>light</td>\n",
       "      <td>unique-sweep-23</td>\n",
       "      <td>0.589404</td>\n",
       "    </tr>\n",
       "    <tr>\n",
       "      <th>21</th>\n",
       "      <td>0.00050</td>\n",
       "      <td>clahe_lab</td>\n",
       "      <td>light</td>\n",
       "      <td>treasured-sweep-24</td>\n",
       "      <td>0.915179</td>\n",
       "    </tr>\n",
       "    <tr>\n",
       "      <th>22</th>\n",
       "      <td>0.00050</td>\n",
       "      <td>clahe_rgb</td>\n",
       "      <td>light</td>\n",
       "      <td>classic-sweep-25</td>\n",
       "      <td>0.850545</td>\n",
       "    </tr>\n",
       "    <tr>\n",
       "      <th>23</th>\n",
       "      <td>0.00100</td>\n",
       "      <td>absent</td>\n",
       "      <td>light</td>\n",
       "      <td>winter-sweep-27</td>\n",
       "      <td>0.285767</td>\n",
       "    </tr>\n",
       "  </tbody>\n",
       "</table>\n",
       "</div>"
      ],
      "text/plain": [
       "         lr        preprocessing data_augmentation_type                name  \\\n",
       "0   0.00001               absent                  light   celestial-sweep-1   \n",
       "1   0.00001          autobalance                  light     scarlet-sweep-2   \n",
       "2   0.00001            clahe_lab                  light        rare-sweep-3   \n",
       "3   0.00001            clahe_rgb                  light     flowing-sweep-4   \n",
       "4   0.00001  clahe_max_green_gsc                  light         icy-sweep-5   \n",
       "5   0.00001                seoud                  light       fresh-sweep-6   \n",
       "6   0.00001                sarki                  light    fanciful-sweep-7   \n",
       "7   0.00005               absent                  light      fallen-sweep-8   \n",
       "8   0.00005          autobalance                  light       brisk-sweep-9   \n",
       "9   0.00005            clahe_lab                  light    curious-sweep-10   \n",
       "10  0.00005            clahe_rgb                  light    exalted-sweep-11   \n",
       "11  0.00005  clahe_max_green_gsc                  light  legendary-sweep-12   \n",
       "12  0.00005                seoud                  light     divine-sweep-13   \n",
       "13  0.00010               absent                  light      clear-sweep-15   \n",
       "14  0.00010          autobalance                  light      young-sweep-16   \n",
       "15  0.00010            clahe_lab                  light       ruby-sweep-17   \n",
       "16  0.00010            clahe_rgb                  light   fearless-sweep-18   \n",
       "17  0.00010  clahe_max_green_gsc                  light      lemon-sweep-19   \n",
       "18  0.00010                seoud                  light     fluent-sweep-20   \n",
       "19  0.00050               absent                  light      vague-sweep-22   \n",
       "20  0.00050          autobalance                  light     unique-sweep-23   \n",
       "21  0.00050            clahe_lab                  light  treasured-sweep-24   \n",
       "22  0.00050            clahe_rgb                  light    classic-sweep-25   \n",
       "23  0.00100               absent                  light     winter-sweep-27   \n",
       "\n",
       "       kappa  \n",
       "0   0.947246  \n",
       "1   0.939814  \n",
       "2   0.948831  \n",
       "3   0.947908  \n",
       "4   0.944480  \n",
       "5   0.928836  \n",
       "6   0.941713  \n",
       "7   0.919412  \n",
       "8   0.948844  \n",
       "9   0.956653  \n",
       "10  0.949209  \n",
       "11  0.955034  \n",
       "12  0.944170  \n",
       "13  0.957036  \n",
       "14  0.950083  \n",
       "15  0.924313  \n",
       "16  0.940912  \n",
       "17  0.953488  \n",
       "18  0.915719  \n",
       "19  0.849028  \n",
       "20  0.589404  \n",
       "21  0.915179  \n",
       "22  0.850545  \n",
       "23  0.285767  "
      ]
     },
     "execution_count": 2,
     "metadata": {},
     "output_type": "execute_result"
    }
   ],
   "source": [
    "api = wandb.Api()\n",
    "runs = api.runs(\"hmr24/FundusDRGrading-src_fundusClassif_scripts\")\n",
    "\n",
    "important_keys = ['lr','preprocessing', 'data_augmentation_type']\n",
    "list_configs = []\n",
    "for i, r in enumerate(runs):\n",
    "    if i < 55:\n",
    "        pass\n",
    "    else :\n",
    "        kappa = r.summary_metrics.get(\"Validation Quadratic Kappa\", None)\n",
    "        if kappa is None:\n",
    "            continue\n",
    "        config = {k: v for k, v in r.config.items() if k in important_keys}\n",
    "        config['name'] = r.name\n",
    "        config['kappa'] = kappa\n",
    "    \n",
    "        list_configs.append(config)\n",
    "\n",
    "df = pd.DataFrame(list_configs)\n",
    "df"
   ]
  },
  {
   "cell_type": "code",
   "execution_count": 3,
   "metadata": {},
   "outputs": [
    {
     "name": "stdout",
     "output_type": "stream",
     "text": [
      "Ordre des groupes : ['light']\n"
     ]
    },
    {
     "data": {
      "text/html": [
       "    <style>\n",
       "        .bk-notebook-logo {\n",
       "            display: block;\n",
       "            width: 20px;\n",
       "            height: 20px;\n",
       "            background-image: url(data:image/png;base64,iVBORw0KGgoAAAANSUhEUgAAABQAAAAUCAYAAACNiR0NAAAABHNCSVQICAgIfAhkiAAAAAlwSFlzAAALEgAACxIB0t1+/AAAABx0RVh0U29mdHdhcmUAQWRvYmUgRmlyZXdvcmtzIENTNui8sowAAAOkSURBVDiNjZRtaJVlGMd/1/08zzln5zjP1LWcU9N0NkN8m2CYjpgQYQXqSs0I84OLIC0hkEKoPtiH3gmKoiJDU7QpLgoLjLIQCpEsNJ1vqUOdO7ppbuec5+V+rj4ctwzd8IIbbi6u+8f1539dt3A78eXC7QizUF7gyV1fD1Yqg4JWz84yffhm0qkFqBogB9rM8tZdtwVsPUhWhGcFJngGeWrPzHm5oaMmkfEg1usvLFyc8jLRqDOMru7AyC8saQr7GG7f5fvDeH7Ej8CM66nIF+8yngt6HWaKh7k49Soy9nXurCi1o3qUbS3zWfrYeQDTB/Qj6kX6Ybhw4B+bOYoLKCC9H3Nu/leUTZ1JdRWkkn2ldcCamzrcf47KKXdAJllSlxAOkRgyHsGC/zRday5Qld9DyoM4/q/rUoy/CXh3jzOu3bHUVZeU+DEn8FInkPBFlu3+nW3Nw0mk6vCDiWg8CeJaxEwuHS3+z5RgY+YBR6V1Z1nxSOfoaPa4LASWxxdNp+VWTk7+4vzaou8v8PN+xo+KY2xsw6une2frhw05CTYOmQvsEhjhWjn0bmXPjpE1+kplmmkP3suftwTubK9Vq22qKmrBhpY4jvd5afdRA3wGjFAgcnTK2s4hY0/GPNIb0nErGMCRxWOOX64Z8RAC4oCXdklmEvcL8o0BfkNK4lUg9HTl+oPlQxdNo3Mg4Nv175e/1LDGzZen30MEjRUtmXSfiTVu1kK8W4txyV6BMKlbgk3lMwYCiusNy9fVfvvwMxv8Ynl6vxoByANLTWplvuj/nF9m2+PDtt1eiHPBr1oIfhCChQMBw6Aw0UulqTKZdfVvfG7VcfIqLG9bcldL/+pdWTLxLUy8Qq38heUIjh4XlzZxzQm19lLFlr8vdQ97rjZVOLf8nclzckbcD4wxXMidpX30sFd37Fv/GtwwhzhxGVAprjbg0gCAEeIgwCZyTV2Z1REEW8O4py0wsjeloKoMr6iCY6dP92H6Vw/oTyICIthibxjm/DfN9lVz8IqtqKYLUXfoKVMVQVVJOElGjrnnUt9T9wbgp8AyYKaGlqingHZU/uG2NTZSVqwHQTWkx9hxjkpWDaCg6Ckj5qebgBVbT3V3NNXMSiWSDdGV3hrtzla7J+duwPOToIg42ChPQOQjspnSlp1V+Gjdged7+8UN5CRAV7a5EdFNwCjEaBR27b3W890TE7g24NAP/mMDXRWrGoFPQI9ls/MWO2dWFAar/xcOIImbbpA3zgAAAABJRU5ErkJggg==);\n",
       "        }\n",
       "    </style>\n",
       "    <div>\n",
       "        <a href=\"https://bokeh.org\" target=\"_blank\" class=\"bk-notebook-logo\"></a>\n",
       "        <span id=\"f728a6b9-a8c0-4fba-90d5-d5e1d8b3c3db\">Loading BokehJS ...</span>\n",
       "    </div>\n"
      ]
     },
     "metadata": {},
     "output_type": "display_data"
    },
    {
     "data": {
      "application/javascript": "'use strict';\n(function(root) {\n  function now() {\n    return new Date();\n  }\n\n  const force = true;\n\n  if (typeof root._bokeh_onload_callbacks === \"undefined\" || force === true) {\n    root._bokeh_onload_callbacks = [];\n    root._bokeh_is_loading = undefined;\n  }\n\nconst JS_MIME_TYPE = 'application/javascript';\n  const HTML_MIME_TYPE = 'text/html';\n  const EXEC_MIME_TYPE = 'application/vnd.bokehjs_exec.v0+json';\n  const CLASS_NAME = 'output_bokeh rendered_html';\n\n  /**\n   * Render data to the DOM node\n   */\n  function render(props, node) {\n    const script = document.createElement(\"script\");\n    node.appendChild(script);\n  }\n\n  /**\n   * Handle when an output is cleared or removed\n   */\n  function handleClearOutput(event, handle) {\n    function drop(id) {\n      const view = Bokeh.index.get_by_id(id)\n      if (view != null) {\n        view.model.document.clear()\n        Bokeh.index.delete(view)\n      }\n    }\n\n    const cell = handle.cell;\n\n    const id = cell.output_area._bokeh_element_id;\n    const server_id = cell.output_area._bokeh_server_id;\n\n    // Clean up Bokeh references\n    if (id != null) {\n      drop(id)\n    }\n\n    if (server_id !== undefined) {\n      // Clean up Bokeh references\n      const cmd_clean = \"from bokeh.io.state import curstate; print(curstate().uuid_to_server['\" + server_id + \"'].get_sessions()[0].document.roots[0]._id)\";\n      cell.notebook.kernel.execute(cmd_clean, {\n        iopub: {\n          output: function(msg) {\n            const id = msg.content.text.trim()\n            drop(id)\n          }\n        }\n      });\n      // Destroy server and session\n      const cmd_destroy = \"import bokeh.io.notebook as ion; ion.destroy_server('\" + server_id + \"')\";\n      cell.notebook.kernel.execute(cmd_destroy);\n    }\n  }\n\n  /**\n   * Handle when a new output is added\n   */\n  function handleAddOutput(event, handle) {\n    const output_area = handle.output_area;\n    const output = handle.output;\n\n    // limit handleAddOutput to display_data with EXEC_MIME_TYPE content only\n    if ((output.output_type != \"display_data\") || (!Object.prototype.hasOwnProperty.call(output.data, EXEC_MIME_TYPE))) {\n      return\n    }\n\n    const toinsert = output_area.element.find(\".\" + CLASS_NAME.split(' ')[0]);\n\n    if (output.metadata[EXEC_MIME_TYPE][\"id\"] !== undefined) {\n      toinsert[toinsert.length - 1].firstChild.textContent = output.data[JS_MIME_TYPE];\n      // store reference to embed id on output_area\n      output_area._bokeh_element_id = output.metadata[EXEC_MIME_TYPE][\"id\"];\n    }\n    if (output.metadata[EXEC_MIME_TYPE][\"server_id\"] !== undefined) {\n      const bk_div = document.createElement(\"div\");\n      bk_div.innerHTML = output.data[HTML_MIME_TYPE];\n      const script_attrs = bk_div.children[0].attributes;\n      for (let i = 0; i < script_attrs.length; i++) {\n        toinsert[toinsert.length - 1].firstChild.setAttribute(script_attrs[i].name, script_attrs[i].value);\n        toinsert[toinsert.length - 1].firstChild.textContent = bk_div.children[0].textContent\n      }\n      // store reference to server id on output_area\n      output_area._bokeh_server_id = output.metadata[EXEC_MIME_TYPE][\"server_id\"];\n    }\n  }\n\n  function register_renderer(events, OutputArea) {\n\n    function append_mime(data, metadata, element) {\n      // create a DOM node to render to\n      const toinsert = this.create_output_subarea(\n        metadata,\n        CLASS_NAME,\n        EXEC_MIME_TYPE\n      );\n      this.keyboard_manager.register_events(toinsert);\n      // Render to node\n      const props = {data: data, metadata: metadata[EXEC_MIME_TYPE]};\n      render(props, toinsert[toinsert.length - 1]);\n      element.append(toinsert);\n      return toinsert\n    }\n\n    /* Handle when an output is cleared or removed */\n    events.on('clear_output.CodeCell', handleClearOutput);\n    events.on('delete.Cell', handleClearOutput);\n\n    /* Handle when a new output is added */\n    events.on('output_added.OutputArea', handleAddOutput);\n\n    /**\n     * Register the mime type and append_mime function with output_area\n     */\n    OutputArea.prototype.register_mime_type(EXEC_MIME_TYPE, append_mime, {\n      /* Is output safe? */\n      safe: true,\n      /* Index of renderer in `output_area.display_order` */\n      index: 0\n    });\n  }\n\n  // register the mime type if in Jupyter Notebook environment and previously unregistered\n  if (root.Jupyter !== undefined) {\n    const events = require('base/js/events');\n    const OutputArea = require('notebook/js/outputarea').OutputArea;\n\n    if (OutputArea.prototype.mime_types().indexOf(EXEC_MIME_TYPE) == -1) {\n      register_renderer(events, OutputArea);\n    }\n  }\n  if (typeof (root._bokeh_timeout) === \"undefined\" || force === true) {\n    root._bokeh_timeout = Date.now() + 5000;\n    root._bokeh_failed_load = false;\n  }\n\n  const NB_LOAD_WARNING = {'data': {'text/html':\n     \"<div style='background-color: #fdd'>\\n\"+\n     \"<p>\\n\"+\n     \"BokehJS does not appear to have successfully loaded. If loading BokehJS from CDN, this \\n\"+\n     \"may be due to a slow or bad network connection. Possible fixes:\\n\"+\n     \"</p>\\n\"+\n     \"<ul>\\n\"+\n     \"<li>re-rerun `output_notebook()` to attempt to load from CDN again, or</li>\\n\"+\n     \"<li>use INLINE resources instead, as so:</li>\\n\"+\n     \"</ul>\\n\"+\n     \"<code>\\n\"+\n     \"from bokeh.resources import INLINE\\n\"+\n     \"output_notebook(resources=INLINE)\\n\"+\n     \"</code>\\n\"+\n     \"</div>\"}};\n\n  function display_loaded(error = null) {\n    const el = document.getElementById(\"f728a6b9-a8c0-4fba-90d5-d5e1d8b3c3db\");\n    if (el != null) {\n      const html = (() => {\n        if (typeof root.Bokeh === \"undefined\") {\n          if (error == null) {\n            return \"BokehJS is loading ...\";\n          } else {\n            return \"BokehJS failed to load.\";\n          }\n        } else {\n          const prefix = `BokehJS ${root.Bokeh.version}`;\n          if (error == null) {\n            return `${prefix} successfully loaded.`;\n          } else {\n            return `${prefix} <b>encountered errors</b> while loading and may not function as expected.`;\n          }\n        }\n      })();\n      el.innerHTML = html;\n\n      if (error != null) {\n        const wrapper = document.createElement(\"div\");\n        wrapper.style.overflow = \"auto\";\n        wrapper.style.height = \"5em\";\n        wrapper.style.resize = \"vertical\";\n        const content = document.createElement(\"div\");\n        content.style.fontFamily = \"monospace\";\n        content.style.whiteSpace = \"pre-wrap\";\n        content.style.backgroundColor = \"rgb(255, 221, 221)\";\n        content.textContent = error.stack ?? error.toString();\n        wrapper.append(content);\n        el.append(wrapper);\n      }\n    } else if (Date.now() < root._bokeh_timeout) {\n      setTimeout(() => display_loaded(error), 100);\n    }\n  }\n\n  function run_callbacks() {\n    try {\n      root._bokeh_onload_callbacks.forEach(function(callback) {\n        if (callback != null)\n          callback();\n      });\n    } finally {\n      delete root._bokeh_onload_callbacks\n    }\n    console.debug(\"Bokeh: all callbacks have finished\");\n  }\n\n  function load_libs(css_urls, js_urls, callback) {\n    if (css_urls == null) css_urls = [];\n    if (js_urls == null) js_urls = [];\n\n    root._bokeh_onload_callbacks.push(callback);\n    if (root._bokeh_is_loading > 0) {\n      console.debug(\"Bokeh: BokehJS is being loaded, scheduling callback at\", now());\n      return null;\n    }\n    if (js_urls == null || js_urls.length === 0) {\n      run_callbacks();\n      return null;\n    }\n    console.debug(\"Bokeh: BokehJS not loaded, scheduling load and callback at\", now());\n    root._bokeh_is_loading = css_urls.length + js_urls.length;\n\n    function on_load() {\n      root._bokeh_is_loading--;\n      if (root._bokeh_is_loading === 0) {\n        console.debug(\"Bokeh: all BokehJS libraries/stylesheets loaded\");\n        run_callbacks()\n      }\n    }\n\n    function on_error(url) {\n      console.error(\"failed to load \" + url);\n    }\n\n    for (let i = 0; i < css_urls.length; i++) {\n      const url = css_urls[i];\n      const element = document.createElement(\"link\");\n      element.onload = on_load;\n      element.onerror = on_error.bind(null, url);\n      element.rel = \"stylesheet\";\n      element.type = \"text/css\";\n      element.href = url;\n      console.debug(\"Bokeh: injecting link tag for BokehJS stylesheet: \", url);\n      document.body.appendChild(element);\n    }\n\n    for (let i = 0; i < js_urls.length; i++) {\n      const url = js_urls[i];\n      const element = document.createElement('script');\n      element.onload = on_load;\n      element.onerror = on_error.bind(null, url);\n      element.async = false;\n      element.src = url;\n      console.debug(\"Bokeh: injecting script tag for BokehJS library: \", url);\n      document.head.appendChild(element);\n    }\n  };\n\n  function inject_raw_css(css) {\n    const element = document.createElement(\"style\");\n    element.appendChild(document.createTextNode(css));\n    document.body.appendChild(element);\n  }\n\n  const js_urls = [\"https://cdn.bokeh.org/bokeh/release/bokeh-3.5.0.min.js\", \"https://cdn.bokeh.org/bokeh/release/bokeh-gl-3.5.0.min.js\", \"https://cdn.bokeh.org/bokeh/release/bokeh-widgets-3.5.0.min.js\", \"https://cdn.bokeh.org/bokeh/release/bokeh-tables-3.5.0.min.js\", \"https://cdn.bokeh.org/bokeh/release/bokeh-mathjax-3.5.0.min.js\"];\n  const css_urls = [];\n\n  const inline_js = [    function(Bokeh) {\n      Bokeh.set_log_level(\"info\");\n    },\nfunction(Bokeh) {\n    }\n  ];\n\n  function run_inline_js() {\n    if (root.Bokeh !== undefined || force === true) {\n      try {\n            for (let i = 0; i < inline_js.length; i++) {\n      inline_js[i].call(root, root.Bokeh);\n    }\n\n      } catch (error) {display_loaded(error);throw error;\n      }if (force === true) {\n        display_loaded();\n      }} else if (Date.now() < root._bokeh_timeout) {\n      setTimeout(run_inline_js, 100);\n    } else if (!root._bokeh_failed_load) {\n      console.log(\"Bokeh: BokehJS failed to load within specified timeout.\");\n      root._bokeh_failed_load = true;\n    } else if (force !== true) {\n      const cell = $(document.getElementById(\"f728a6b9-a8c0-4fba-90d5-d5e1d8b3c3db\")).parents('.cell').data().cell;\n      cell.output_area.append_execute_result(NB_LOAD_WARNING)\n    }\n  }\n\n  if (root._bokeh_is_loading === 0) {\n    console.debug(\"Bokeh: BokehJS loaded, going straight to plotting\");\n    run_inline_js();\n  } else {\n    load_libs(css_urls, js_urls, function() {\n      console.debug(\"Bokeh: BokehJS plotting callback run at\", now());\n      run_inline_js();\n    });\n  }\n}(window));",
      "application/vnd.bokehjs_load.v0+json": ""
     },
     "metadata": {},
     "output_type": "display_data"
    },
    {
     "name": "stdout",
     "output_type": "stream",
     "text": [
      "['light']\n"
     ]
    },
    {
     "data": {
      "text/html": [
       "\n",
       "  <div id=\"c2d65954-b1d1-4a77-a23f-4d2103681e6a\" data-root-id=\"p1054\" style=\"display: contents;\"></div>\n"
      ]
     },
     "metadata": {},
     "output_type": "display_data"
    },
    {
     "data": {
      "application/javascript": "(function(root) {\n  function embed_document(root) {\n  const docs_json = {\"7602c2da-52aa-4506-9685-8fcbed602b3c\":{\"version\":\"3.5.0\",\"title\":\"Bokeh Application\",\"roots\":[{\"type\":\"object\",\"name\":\"GridPlot\",\"id\":\"p1054\",\"attributes\":{\"rows\":null,\"cols\":null,\"toolbar\":{\"type\":\"object\",\"name\":\"Toolbar\",\"id\":\"p1053\"},\"children\":[[{\"type\":\"object\",\"name\":\"Figure\",\"id\":\"p1004\",\"attributes\":{\"height\":500,\"x_range\":{\"type\":\"object\",\"name\":\"FactorRange\",\"id\":\"p1014\",\"attributes\":{\"factors\":[\"light\"]}},\"y_range\":{\"type\":\"object\",\"name\":\"DataRange1d\",\"id\":\"p1006\"},\"x_scale\":{\"type\":\"object\",\"name\":\"CategoricalScale\",\"id\":\"p1015\"},\"y_scale\":{\"type\":\"object\",\"name\":\"LinearScale\",\"id\":\"p1016\"},\"title\":{\"type\":\"object\",\"name\":\"Title\",\"id\":\"p1007\",\"attributes\":{\"text\":\"Kappa by DATA_AUGMENTATION_TYPE\"}},\"renderers\":[{\"type\":\"object\",\"name\":\"GlyphRenderer\",\"id\":\"p1050\",\"attributes\":{\"data_source\":{\"type\":\"object\",\"name\":\"ColumnDataSource\",\"id\":\"p1001\",\"attributes\":{\"selected\":{\"type\":\"object\",\"name\":\"Selection\",\"id\":\"p1002\",\"attributes\":{\"indices\":[],\"line_indices\":[]}},\"selection_policy\":{\"type\":\"object\",\"name\":\"UnionRenderers\",\"id\":\"p1003\"},\"data\":{\"type\":\"map\",\"entries\":[[\"index\",{\"type\":\"ndarray\",\"array\":{\"type\":\"bytes\",\"data\":\"AAAAABUAAAAUAAAAEwAAABIAAAARAAAAEAAAAA8AAAAOAAAADQAAAAwAAAALAAAACgAAAAkAAAAIAAAABwAAAAYAAAAFAAAABAAAAAMAAAACAAAAAQAAABYAAAAXAAAA\"},\"shape\":[24],\"dtype\":\"int32\",\"order\":\"little\"}],[\"lr\",{\"type\":\"ndarray\",\"array\":{\"type\":\"bytes\",\"data\":\"8WjjiLX45D78qfHSTWJAP/yp8dJNYkA//Knx0k1iQD8tQxzr4jYaPy1DHOviNho/LUMc6+I2Gj8tQxzr4jYaPy1DHOviNho/LUMc6+I2Gj8tQxzr4jYKPy1DHOviNgo/LUMc6+I2Cj8tQxzr4jYKPy1DHOviNgo/LUMc6+I2Cj/xaOOItfjkPvFo44i1+OQ+8WjjiLX45D7xaOOItfjkPvFo44i1+OQ+8WjjiLX45D78qfHSTWJAP/yp8dJNYlA/\"},\"shape\":[24],\"dtype\":\"float64\",\"order\":\"little\"}],[\"preprocessing\",{\"type\":\"ndarray\",\"array\":[\"absent\",\"clahe_lab\",\"autobalance\",\"absent\",\"seoud\",\"clahe_max_green_gsc\",\"clahe_rgb\",\"clahe_lab\",\"autobalance\",\"absent\",\"seoud\",\"clahe_max_green_gsc\",\"clahe_rgb\",\"clahe_lab\",\"autobalance\",\"absent\",\"sarki\",\"seoud\",\"clahe_max_green_gsc\",\"clahe_rgb\",\"clahe_lab\",\"autobalance\",\"clahe_rgb\",\"absent\"],\"shape\":[24],\"dtype\":\"object\",\"order\":\"little\"}],[\"data_augmentation_type\",{\"type\":\"ndarray\",\"array\":[\"light\",\"light\",\"light\",\"light\",\"light\",\"light\",\"light\",\"light\",\"light\",\"light\",\"light\",\"light\",\"light\",\"light\",\"light\",\"light\",\"light\",\"light\",\"light\",\"light\",\"light\",\"light\",\"light\",\"light\"],\"shape\":[24],\"dtype\":\"object\",\"order\":\"little\"}],[\"name\",{\"type\":\"ndarray\",\"array\":[\"celestial-sweep-1\",\"treasured-sweep-24\",\"unique-sweep-23\",\"vague-sweep-22\",\"fluent-sweep-20\",\"lemon-sweep-19\",\"fearless-sweep-18\",\"ruby-sweep-17\",\"young-sweep-16\",\"clear-sweep-15\",\"divine-sweep-13\",\"legendary-sweep-12\",\"exalted-sweep-11\",\"curious-sweep-10\",\"brisk-sweep-9\",\"fallen-sweep-8\",\"fanciful-sweep-7\",\"fresh-sweep-6\",\"icy-sweep-5\",\"flowing-sweep-4\",\"rare-sweep-3\",\"scarlet-sweep-2\",\"classic-sweep-25\",\"winter-sweep-27\"],\"shape\":[24],\"dtype\":\"object\",\"order\":\"little\"}],[\"kappa\",{\"type\":\"ndarray\",\"array\":{\"type\":\"bytes\",\"data\":\"AAAAYNdP7j8AAADAJUntPwAAAMBl3OI/AAAAgD0r6z8BAACgkk3tPwEAAED4gu4/AQAAQPQb7j8BAABA+JPtP////98TZ+4/AAAAIAqg7j8BAAAApTbuPwAAAICij+4/AAAA4Opf7j/////f5pzuPwAAAKDtXO4/AAAAgNNr7T8AAABAgyLuPwAAAEAHue0/AQAAYC057j8BAABgQ1XuPwAAACDSXO4/AQAAQPQS7j8AAACAqTfrPwAAAEABStI/\"},\"shape\":[24],\"dtype\":\"float64\",\"order\":\"little\"}]]}}},\"view\":{\"type\":\"object\",\"name\":\"CDSView\",\"id\":\"p1051\",\"attributes\":{\"filter\":{\"type\":\"object\",\"name\":\"AllIndices\",\"id\":\"p1052\"}}},\"glyph\":{\"type\":\"object\",\"name\":\"Scatter\",\"id\":\"p1047\",\"attributes\":{\"x\":{\"type\":\"field\",\"field\":\"data_augmentation_type\",\"transform\":{\"type\":\"object\",\"name\":\"Jitter\",\"id\":\"p1042\",\"attributes\":{\"width\":0.1,\"range\":{\"id\":\"p1014\"}}}},\"y\":{\"type\":\"field\",\"field\":\"kappa\"},\"size\":{\"type\":\"value\",\"value\":10},\"line_color\":{\"type\":\"value\",\"value\":\"white\"},\"line_alpha\":{\"type\":\"value\",\"value\":0.8},\"fill_color\":{\"type\":\"field\",\"field\":\"data_augmentation_type\",\"transform\":{\"type\":\"object\",\"name\":\"CategoricalColorMapper\",\"id\":\"p1043\",\"attributes\":{\"palette\":[\"#77AADD\",\"#EE8866\",\"#EEDD88\",\"#FFAABB\",\"#99DDFF\",\"#44BB99\",\"#BBCC33\"],\"factors\":[\"light\"]}}},\"fill_alpha\":{\"type\":\"value\",\"value\":0.8},\"hatch_color\":{\"type\":\"field\",\"field\":\"data_augmentation_type\",\"transform\":{\"id\":\"p1043\"}},\"hatch_alpha\":{\"type\":\"value\",\"value\":0.8}}},\"nonselection_glyph\":{\"type\":\"object\",\"name\":\"Scatter\",\"id\":\"p1048\",\"attributes\":{\"x\":{\"type\":\"field\",\"field\":\"data_augmentation_type\",\"transform\":{\"id\":\"p1042\"}},\"y\":{\"type\":\"field\",\"field\":\"kappa\"},\"size\":{\"type\":\"value\",\"value\":10},\"line_color\":{\"type\":\"value\",\"value\":\"white\"},\"line_alpha\":{\"type\":\"value\",\"value\":0.1},\"fill_color\":{\"type\":\"field\",\"field\":\"data_augmentation_type\",\"transform\":{\"id\":\"p1043\"}},\"fill_alpha\":{\"type\":\"value\",\"value\":0.1},\"hatch_color\":{\"type\":\"field\",\"field\":\"data_augmentation_type\",\"transform\":{\"id\":\"p1043\"}},\"hatch_alpha\":{\"type\":\"value\",\"value\":0.1}}},\"muted_glyph\":{\"type\":\"object\",\"name\":\"Scatter\",\"id\":\"p1049\",\"attributes\":{\"x\":{\"type\":\"field\",\"field\":\"data_augmentation_type\",\"transform\":{\"id\":\"p1042\"}},\"y\":{\"type\":\"field\",\"field\":\"kappa\"},\"size\":{\"type\":\"value\",\"value\":10},\"line_color\":{\"type\":\"value\",\"value\":\"white\"},\"line_alpha\":{\"type\":\"value\",\"value\":0.2},\"fill_color\":{\"type\":\"field\",\"field\":\"data_augmentation_type\",\"transform\":{\"id\":\"p1043\"}},\"fill_alpha\":{\"type\":\"value\",\"value\":0.2},\"hatch_color\":{\"type\":\"field\",\"field\":\"data_augmentation_type\",\"transform\":{\"id\":\"p1043\"}},\"hatch_alpha\":{\"type\":\"value\",\"value\":0.2}}}}}],\"toolbar\":{\"type\":\"object\",\"name\":\"Toolbar\",\"id\":\"p1013\"},\"toolbar_location\":null,\"left\":[{\"type\":\"object\",\"name\":\"LinearAxis\",\"id\":\"p1022\",\"attributes\":{\"ticker\":{\"type\":\"object\",\"name\":\"BasicTicker\",\"id\":\"p1023\",\"attributes\":{\"mantissas\":[1,2,5]}},\"formatter\":{\"type\":\"object\",\"name\":\"BasicTickFormatter\",\"id\":\"p1024\"},\"major_label_policy\":{\"type\":\"object\",\"name\":\"AllLabels\",\"id\":\"p1025\"}}}],\"below\":[{\"type\":\"object\",\"name\":\"CategoricalAxis\",\"id\":\"p1017\",\"attributes\":{\"ticker\":{\"type\":\"object\",\"name\":\"CategoricalTicker\",\"id\":\"p1018\"},\"formatter\":{\"type\":\"object\",\"name\":\"CategoricalTickFormatter\",\"id\":\"p1019\"},\"major_label_policy\":{\"type\":\"object\",\"name\":\"AllLabels\",\"id\":\"p1020\"}}}],\"center\":[{\"type\":\"object\",\"name\":\"Grid\",\"id\":\"p1021\",\"attributes\":{\"axis\":{\"id\":\"p1017\"}}},{\"type\":\"object\",\"name\":\"Grid\",\"id\":\"p1026\",\"attributes\":{\"dimension\":1,\"axis\":{\"id\":\"p1022\"}}},{\"type\":\"object\",\"name\":\"Whisker\",\"id\":\"p1036\",\"attributes\":{\"source\":{\"type\":\"object\",\"name\":\"ColumnDataSource\",\"id\":\"p1027\",\"attributes\":{\"selected\":{\"type\":\"object\",\"name\":\"Selection\",\"id\":\"p1028\",\"attributes\":{\"indices\":[],\"line_indices\":[]}},\"selection_policy\":{\"type\":\"object\",\"name\":\"UnionRenderers\",\"id\":\"p1029\"},\"data\":{\"type\":\"map\",\"entries\":[[\"base\",[\"light\"]],[\"upper\",{\"type\":\"ndarray\",\"array\":{\"type\":\"bytes\",\"data\":\"MzMz09WL7j8=\"},\"shape\":[1],\"dtype\":\"float64\",\"order\":\"little\"}],[\"lower\",{\"type\":\"ndarray\",\"array\":{\"type\":\"bytes\",\"data\":\"AAAAgPcu6z8=\"},\"shape\":[1],\"dtype\":\"float64\",\"order\":\"little\"}],[\"middle\",{\"type\":\"ndarray\",\"array\":{\"type\":\"bytes\",\"data\":\"VVVVKcWJ7D8=\"},\"shape\":[1],\"dtype\":\"float64\",\"order\":\"little\"}]]}}},\"lower\":{\"type\":\"field\",\"field\":\"middle\"},\"lower_head\":{\"type\":\"object\",\"name\":\"TeeHead\",\"id\":\"p1040\",\"attributes\":{\"size\":{\"type\":\"value\",\"value\":20}}},\"upper\":{\"type\":\"field\",\"field\":\"middle\"},\"upper_head\":{\"type\":\"object\",\"name\":\"TeeHead\",\"id\":\"p1041\",\"attributes\":{\"size\":{\"type\":\"value\",\"value\":20}}},\"base\":{\"type\":\"field\",\"field\":\"base\"},\"line_alpha\":{\"type\":\"value\",\"value\":0.5},\"line_width\":{\"type\":\"value\",\"value\":4}}},{\"type\":\"object\",\"name\":\"Whisker\",\"id\":\"p1030\",\"attributes\":{\"level\":\"annotation\",\"source\":{\"id\":\"p1027\"},\"lower\":{\"type\":\"field\",\"field\":\"lower\"},\"lower_head\":{\"type\":\"object\",\"name\":\"TeeHead\",\"id\":\"p1034\",\"attributes\":{\"size\":{\"type\":\"value\",\"value\":10}}},\"upper\":{\"type\":\"field\",\"field\":\"upper\"},\"upper_head\":{\"type\":\"object\",\"name\":\"TeeHead\",\"id\":\"p1035\",\"attributes\":{\"size\":{\"type\":\"value\",\"value\":10}}},\"base\":{\"type\":\"field\",\"field\":\"base\"},\"line_alpha\":{\"type\":\"value\",\"value\":0.5},\"line_width\":{\"type\":\"value\",\"value\":2}}}]}},0,0]]}}]}};\n  const render_items = [{\"docid\":\"7602c2da-52aa-4506-9685-8fcbed602b3c\",\"roots\":{\"p1054\":\"c2d65954-b1d1-4a77-a23f-4d2103681e6a\"},\"root_ids\":[\"p1054\"]}];\n  void root.Bokeh.embed.embed_items_notebook(docs_json, render_items);\n  }\n  if (root.Bokeh !== undefined) {\n    embed_document(root);\n  } else {\n    let attempts = 0;\n    const timer = setInterval(function(root) {\n      if (root.Bokeh !== undefined) {\n        clearInterval(timer);\n        embed_document(root);\n      } else {\n        attempts++;\n        if (attempts > 100) {\n          clearInterval(timer);\n          console.log(\"Bokeh: ERROR: Unable to run BokehJS code because BokehJS library is missing\");\n        }\n      }\n    }, 10, root)\n  }\n})(window);",
      "application/vnd.bokehjs_exec.v0+json": ""
     },
     "metadata": {
      "application/vnd.bokehjs_exec.v0+json": {
       "id": "p1054"
      }
     },
     "output_type": "display_data"
    }
   ],
   "source": [
    "import statsmodels\n",
    "import statsmodels.api as sm\n",
    "import statsmodels.api\n",
    "import statsmodels.formula\n",
    "import statsmodels.formula.api\n",
    "\n",
    "def get_graph(df, key):\n",
    "    df.sort_values(key, inplace=True)\n",
    "    result = statsmodels.formula.api.ols(f'kappa ~ {key}', data=df).fit()\n",
    "    table = statsmodels.api.stats.anova_lm(result)\n",
    "    stats_test = table.loc[key, 'PR(>F)']\n",
    "    g = df.groupby(key)\n",
    "    groups = g.groups\n",
    "    order_of_groups = list(groups.keys())\n",
    "    print(\"Ordre des groupes :\", order_of_groups)\n",
    "\n",
    "    upper = g.kappa.quantile(0.90)\n",
    "    lower = g.kappa.quantile(0.10)\n",
    "\n",
    "    datasource = ColumnDataSource(df)\n",
    "    output_notebook()\n",
    "\n",
    "    classes = list(df[key].unique())\n",
    "    classes.sort()\n",
    "    print(classes)\n",
    "    \n",
    "    p = figure(height=500, x_range=classes, title=f\"Kappa by {key.upper()}\", tools='')\n",
    "\n",
    "    source = ColumnDataSource(data=dict(base=classes,upper=upper, lower=lower, middle=g.kappa.mean()))\n",
    "\n",
    "    error = Whisker(base=\"base\", upper=\"upper\", lower=\"lower\", source=source,\n",
    "                    level=\"annotation\", line_width=2, line_alpha=.5)\n",
    "    middle = Whisker(base=\"base\", upper=\"middle\", lower=\"middle\", source=source, line_width=4, line_alpha=0.5)\n",
    "    \n",
    "    middle.upper_head.size=20\n",
    "    middle.lower_head.size=20\n",
    "    \n",
    "    p.add_layout(middle)\n",
    "    \n",
    "    error.upper_head.size=10\n",
    "    error.lower_head.size=10\n",
    "    \n",
    "    p.add_layout(error)\n",
    "\n",
    "    p.scatter(jitter(key, 0.1, range=p.x_range), y='kappa', \n",
    "            source=datasource, \n",
    "            size=10, \n",
    "            line_color=\"white\",\n",
    "            color=factor_cmap(key, \"Light7\", classes),\n",
    "            alpha=0.8)\n",
    "    return p\n",
    "\n",
    "p_ema = get_graph(df, 'data_augmentation_type')\n",
    "\n",
    "grid = gridplot([[p_ema]])\n",
    "show(grid)\n"
   ]
  },
  {
   "cell_type": "code",
   "execution_count": 4,
   "metadata": {},
   "outputs": [
    {
     "name": "stdout",
     "output_type": "stream",
     "text": [
      "Ordre des groupes : ['absent', 'autobalance', 'clahe_lab', 'clahe_max_green_gsc', 'clahe_rgb', 'sarki', 'seoud']\n"
     ]
    },
    {
     "data": {
      "text/html": [
       "    <style>\n",
       "        .bk-notebook-logo {\n",
       "            display: block;\n",
       "            width: 20px;\n",
       "            height: 20px;\n",
       "            background-image: url(data:image/png;base64,iVBORw0KGgoAAAANSUhEUgAAABQAAAAUCAYAAACNiR0NAAAABHNCSVQICAgIfAhkiAAAAAlwSFlzAAALEgAACxIB0t1+/AAAABx0RVh0U29mdHdhcmUAQWRvYmUgRmlyZXdvcmtzIENTNui8sowAAAOkSURBVDiNjZRtaJVlGMd/1/08zzln5zjP1LWcU9N0NkN8m2CYjpgQYQXqSs0I84OLIC0hkEKoPtiH3gmKoiJDU7QpLgoLjLIQCpEsNJ1vqUOdO7ppbuec5+V+rj4ctwzd8IIbbi6u+8f1539dt3A78eXC7QizUF7gyV1fD1Yqg4JWz84yffhm0qkFqBogB9rM8tZdtwVsPUhWhGcFJngGeWrPzHm5oaMmkfEg1usvLFyc8jLRqDOMru7AyC8saQr7GG7f5fvDeH7Ej8CM66nIF+8yngt6HWaKh7k49Soy9nXurCi1o3qUbS3zWfrYeQDTB/Qj6kX6Ybhw4B+bOYoLKCC9H3Nu/leUTZ1JdRWkkn2ldcCamzrcf47KKXdAJllSlxAOkRgyHsGC/zRday5Qld9DyoM4/q/rUoy/CXh3jzOu3bHUVZeU+DEn8FInkPBFlu3+nW3Nw0mk6vCDiWg8CeJaxEwuHS3+z5RgY+YBR6V1Z1nxSOfoaPa4LASWxxdNp+VWTk7+4vzaou8v8PN+xo+KY2xsw6une2frhw05CTYOmQvsEhjhWjn0bmXPjpE1+kplmmkP3suftwTubK9Vq22qKmrBhpY4jvd5afdRA3wGjFAgcnTK2s4hY0/GPNIb0nErGMCRxWOOX64Z8RAC4oCXdklmEvcL8o0BfkNK4lUg9HTl+oPlQxdNo3Mg4Nv175e/1LDGzZen30MEjRUtmXSfiTVu1kK8W4txyV6BMKlbgk3lMwYCiusNy9fVfvvwMxv8Ynl6vxoByANLTWplvuj/nF9m2+PDtt1eiHPBr1oIfhCChQMBw6Aw0UulqTKZdfVvfG7VcfIqLG9bcldL/+pdWTLxLUy8Qq38heUIjh4XlzZxzQm19lLFlr8vdQ97rjZVOLf8nclzckbcD4wxXMidpX30sFd37Fv/GtwwhzhxGVAprjbg0gCAEeIgwCZyTV2Z1REEW8O4py0wsjeloKoMr6iCY6dP92H6Vw/oTyICIthibxjm/DfN9lVz8IqtqKYLUXfoKVMVQVVJOElGjrnnUt9T9wbgp8AyYKaGlqingHZU/uG2NTZSVqwHQTWkx9hxjkpWDaCg6Ckj5qebgBVbT3V3NNXMSiWSDdGV3hrtzla7J+duwPOToIg42ChPQOQjspnSlp1V+Gjdged7+8UN5CRAV7a5EdFNwCjEaBR27b3W890TE7g24NAP/mMDXRWrGoFPQI9ls/MWO2dWFAar/xcOIImbbpA3zgAAAABJRU5ErkJggg==);\n",
       "        }\n",
       "    </style>\n",
       "    <div>\n",
       "        <a href=\"https://bokeh.org\" target=\"_blank\" class=\"bk-notebook-logo\"></a>\n",
       "        <span id=\"b41f79d9-6510-4e32-a867-20079d2c8a1b\">Loading BokehJS ...</span>\n",
       "    </div>\n"
      ]
     },
     "metadata": {},
     "output_type": "display_data"
    },
    {
     "data": {
      "application/javascript": "'use strict';\n(function(root) {\n  function now() {\n    return new Date();\n  }\n\n  const force = true;\n\n  if (typeof root._bokeh_onload_callbacks === \"undefined\" || force === true) {\n    root._bokeh_onload_callbacks = [];\n    root._bokeh_is_loading = undefined;\n  }\n\nconst JS_MIME_TYPE = 'application/javascript';\n  const HTML_MIME_TYPE = 'text/html';\n  const EXEC_MIME_TYPE = 'application/vnd.bokehjs_exec.v0+json';\n  const CLASS_NAME = 'output_bokeh rendered_html';\n\n  /**\n   * Render data to the DOM node\n   */\n  function render(props, node) {\n    const script = document.createElement(\"script\");\n    node.appendChild(script);\n  }\n\n  /**\n   * Handle when an output is cleared or removed\n   */\n  function handleClearOutput(event, handle) {\n    function drop(id) {\n      const view = Bokeh.index.get_by_id(id)\n      if (view != null) {\n        view.model.document.clear()\n        Bokeh.index.delete(view)\n      }\n    }\n\n    const cell = handle.cell;\n\n    const id = cell.output_area._bokeh_element_id;\n    const server_id = cell.output_area._bokeh_server_id;\n\n    // Clean up Bokeh references\n    if (id != null) {\n      drop(id)\n    }\n\n    if (server_id !== undefined) {\n      // Clean up Bokeh references\n      const cmd_clean = \"from bokeh.io.state import curstate; print(curstate().uuid_to_server['\" + server_id + \"'].get_sessions()[0].document.roots[0]._id)\";\n      cell.notebook.kernel.execute(cmd_clean, {\n        iopub: {\n          output: function(msg) {\n            const id = msg.content.text.trim()\n            drop(id)\n          }\n        }\n      });\n      // Destroy server and session\n      const cmd_destroy = \"import bokeh.io.notebook as ion; ion.destroy_server('\" + server_id + \"')\";\n      cell.notebook.kernel.execute(cmd_destroy);\n    }\n  }\n\n  /**\n   * Handle when a new output is added\n   */\n  function handleAddOutput(event, handle) {\n    const output_area = handle.output_area;\n    const output = handle.output;\n\n    // limit handleAddOutput to display_data with EXEC_MIME_TYPE content only\n    if ((output.output_type != \"display_data\") || (!Object.prototype.hasOwnProperty.call(output.data, EXEC_MIME_TYPE))) {\n      return\n    }\n\n    const toinsert = output_area.element.find(\".\" + CLASS_NAME.split(' ')[0]);\n\n    if (output.metadata[EXEC_MIME_TYPE][\"id\"] !== undefined) {\n      toinsert[toinsert.length - 1].firstChild.textContent = output.data[JS_MIME_TYPE];\n      // store reference to embed id on output_area\n      output_area._bokeh_element_id = output.metadata[EXEC_MIME_TYPE][\"id\"];\n    }\n    if (output.metadata[EXEC_MIME_TYPE][\"server_id\"] !== undefined) {\n      const bk_div = document.createElement(\"div\");\n      bk_div.innerHTML = output.data[HTML_MIME_TYPE];\n      const script_attrs = bk_div.children[0].attributes;\n      for (let i = 0; i < script_attrs.length; i++) {\n        toinsert[toinsert.length - 1].firstChild.setAttribute(script_attrs[i].name, script_attrs[i].value);\n        toinsert[toinsert.length - 1].firstChild.textContent = bk_div.children[0].textContent\n      }\n      // store reference to server id on output_area\n      output_area._bokeh_server_id = output.metadata[EXEC_MIME_TYPE][\"server_id\"];\n    }\n  }\n\n  function register_renderer(events, OutputArea) {\n\n    function append_mime(data, metadata, element) {\n      // create a DOM node to render to\n      const toinsert = this.create_output_subarea(\n        metadata,\n        CLASS_NAME,\n        EXEC_MIME_TYPE\n      );\n      this.keyboard_manager.register_events(toinsert);\n      // Render to node\n      const props = {data: data, metadata: metadata[EXEC_MIME_TYPE]};\n      render(props, toinsert[toinsert.length - 1]);\n      element.append(toinsert);\n      return toinsert\n    }\n\n    /* Handle when an output is cleared or removed */\n    events.on('clear_output.CodeCell', handleClearOutput);\n    events.on('delete.Cell', handleClearOutput);\n\n    /* Handle when a new output is added */\n    events.on('output_added.OutputArea', handleAddOutput);\n\n    /**\n     * Register the mime type and append_mime function with output_area\n     */\n    OutputArea.prototype.register_mime_type(EXEC_MIME_TYPE, append_mime, {\n      /* Is output safe? */\n      safe: true,\n      /* Index of renderer in `output_area.display_order` */\n      index: 0\n    });\n  }\n\n  // register the mime type if in Jupyter Notebook environment and previously unregistered\n  if (root.Jupyter !== undefined) {\n    const events = require('base/js/events');\n    const OutputArea = require('notebook/js/outputarea').OutputArea;\n\n    if (OutputArea.prototype.mime_types().indexOf(EXEC_MIME_TYPE) == -1) {\n      register_renderer(events, OutputArea);\n    }\n  }\n  if (typeof (root._bokeh_timeout) === \"undefined\" || force === true) {\n    root._bokeh_timeout = Date.now() + 5000;\n    root._bokeh_failed_load = false;\n  }\n\n  const NB_LOAD_WARNING = {'data': {'text/html':\n     \"<div style='background-color: #fdd'>\\n\"+\n     \"<p>\\n\"+\n     \"BokehJS does not appear to have successfully loaded. If loading BokehJS from CDN, this \\n\"+\n     \"may be due to a slow or bad network connection. Possible fixes:\\n\"+\n     \"</p>\\n\"+\n     \"<ul>\\n\"+\n     \"<li>re-rerun `output_notebook()` to attempt to load from CDN again, or</li>\\n\"+\n     \"<li>use INLINE resources instead, as so:</li>\\n\"+\n     \"</ul>\\n\"+\n     \"<code>\\n\"+\n     \"from bokeh.resources import INLINE\\n\"+\n     \"output_notebook(resources=INLINE)\\n\"+\n     \"</code>\\n\"+\n     \"</div>\"}};\n\n  function display_loaded(error = null) {\n    const el = document.getElementById(\"b41f79d9-6510-4e32-a867-20079d2c8a1b\");\n    if (el != null) {\n      const html = (() => {\n        if (typeof root.Bokeh === \"undefined\") {\n          if (error == null) {\n            return \"BokehJS is loading ...\";\n          } else {\n            return \"BokehJS failed to load.\";\n          }\n        } else {\n          const prefix = `BokehJS ${root.Bokeh.version}`;\n          if (error == null) {\n            return `${prefix} successfully loaded.`;\n          } else {\n            return `${prefix} <b>encountered errors</b> while loading and may not function as expected.`;\n          }\n        }\n      })();\n      el.innerHTML = html;\n\n      if (error != null) {\n        const wrapper = document.createElement(\"div\");\n        wrapper.style.overflow = \"auto\";\n        wrapper.style.height = \"5em\";\n        wrapper.style.resize = \"vertical\";\n        const content = document.createElement(\"div\");\n        content.style.fontFamily = \"monospace\";\n        content.style.whiteSpace = \"pre-wrap\";\n        content.style.backgroundColor = \"rgb(255, 221, 221)\";\n        content.textContent = error.stack ?? error.toString();\n        wrapper.append(content);\n        el.append(wrapper);\n      }\n    } else if (Date.now() < root._bokeh_timeout) {\n      setTimeout(() => display_loaded(error), 100);\n    }\n  }\n\n  function run_callbacks() {\n    try {\n      root._bokeh_onload_callbacks.forEach(function(callback) {\n        if (callback != null)\n          callback();\n      });\n    } finally {\n      delete root._bokeh_onload_callbacks\n    }\n    console.debug(\"Bokeh: all callbacks have finished\");\n  }\n\n  function load_libs(css_urls, js_urls, callback) {\n    if (css_urls == null) css_urls = [];\n    if (js_urls == null) js_urls = [];\n\n    root._bokeh_onload_callbacks.push(callback);\n    if (root._bokeh_is_loading > 0) {\n      console.debug(\"Bokeh: BokehJS is being loaded, scheduling callback at\", now());\n      return null;\n    }\n    if (js_urls == null || js_urls.length === 0) {\n      run_callbacks();\n      return null;\n    }\n    console.debug(\"Bokeh: BokehJS not loaded, scheduling load and callback at\", now());\n    root._bokeh_is_loading = css_urls.length + js_urls.length;\n\n    function on_load() {\n      root._bokeh_is_loading--;\n      if (root._bokeh_is_loading === 0) {\n        console.debug(\"Bokeh: all BokehJS libraries/stylesheets loaded\");\n        run_callbacks()\n      }\n    }\n\n    function on_error(url) {\n      console.error(\"failed to load \" + url);\n    }\n\n    for (let i = 0; i < css_urls.length; i++) {\n      const url = css_urls[i];\n      const element = document.createElement(\"link\");\n      element.onload = on_load;\n      element.onerror = on_error.bind(null, url);\n      element.rel = \"stylesheet\";\n      element.type = \"text/css\";\n      element.href = url;\n      console.debug(\"Bokeh: injecting link tag for BokehJS stylesheet: \", url);\n      document.body.appendChild(element);\n    }\n\n    for (let i = 0; i < js_urls.length; i++) {\n      const url = js_urls[i];\n      const element = document.createElement('script');\n      element.onload = on_load;\n      element.onerror = on_error.bind(null, url);\n      element.async = false;\n      element.src = url;\n      console.debug(\"Bokeh: injecting script tag for BokehJS library: \", url);\n      document.head.appendChild(element);\n    }\n  };\n\n  function inject_raw_css(css) {\n    const element = document.createElement(\"style\");\n    element.appendChild(document.createTextNode(css));\n    document.body.appendChild(element);\n  }\n\n  const js_urls = [\"https://cdn.bokeh.org/bokeh/release/bokeh-3.5.0.min.js\", \"https://cdn.bokeh.org/bokeh/release/bokeh-gl-3.5.0.min.js\", \"https://cdn.bokeh.org/bokeh/release/bokeh-widgets-3.5.0.min.js\", \"https://cdn.bokeh.org/bokeh/release/bokeh-tables-3.5.0.min.js\", \"https://cdn.bokeh.org/bokeh/release/bokeh-mathjax-3.5.0.min.js\"];\n  const css_urls = [];\n\n  const inline_js = [    function(Bokeh) {\n      Bokeh.set_log_level(\"info\");\n    },\nfunction(Bokeh) {\n    }\n  ];\n\n  function run_inline_js() {\n    if (root.Bokeh !== undefined || force === true) {\n      try {\n            for (let i = 0; i < inline_js.length; i++) {\n      inline_js[i].call(root, root.Bokeh);\n    }\n\n      } catch (error) {display_loaded(error);throw error;\n      }if (force === true) {\n        display_loaded();\n      }} else if (Date.now() < root._bokeh_timeout) {\n      setTimeout(run_inline_js, 100);\n    } else if (!root._bokeh_failed_load) {\n      console.log(\"Bokeh: BokehJS failed to load within specified timeout.\");\n      root._bokeh_failed_load = true;\n    } else if (force !== true) {\n      const cell = $(document.getElementById(\"b41f79d9-6510-4e32-a867-20079d2c8a1b\")).parents('.cell').data().cell;\n      cell.output_area.append_execute_result(NB_LOAD_WARNING)\n    }\n  }\n\n  if (root._bokeh_is_loading === 0) {\n    console.debug(\"Bokeh: BokehJS loaded, going straight to plotting\");\n    run_inline_js();\n  } else {\n    load_libs(css_urls, js_urls, function() {\n      console.debug(\"Bokeh: BokehJS plotting callback run at\", now());\n      run_inline_js();\n    });\n  }\n}(window));",
      "application/vnd.bokehjs_load.v0+json": ""
     },
     "metadata": {},
     "output_type": "display_data"
    },
    {
     "name": "stdout",
     "output_type": "stream",
     "text": [
      "['absent', 'autobalance', 'clahe_lab', 'clahe_max_green_gsc', 'clahe_rgb', 'sarki', 'seoud']\n"
     ]
    },
    {
     "data": {
      "text/html": [
       "\n",
       "  <div id=\"bf8cf464-2f84-465e-ae99-b4829b30c26c\" data-root-id=\"p1065\" style=\"display: contents;\"></div>\n"
      ]
     },
     "metadata": {},
     "output_type": "display_data"
    },
    {
     "data": {
      "application/javascript": "(function(root) {\n  function embed_document(root) {\n  const docs_json = {\"f855ab2a-d9b0-4221-9e1b-c270575e8743\":{\"version\":\"3.5.0\",\"title\":\"Bokeh Application\",\"roots\":[{\"type\":\"object\",\"name\":\"Figure\",\"id\":\"p1065\",\"attributes\":{\"height\":500,\"x_range\":{\"type\":\"object\",\"name\":\"FactorRange\",\"id\":\"p1075\",\"attributes\":{\"factors\":[\"absent\",\"autobalance\",\"clahe_lab\",\"clahe_max_green_gsc\",\"clahe_rgb\",\"sarki\",\"seoud\"]}},\"y_range\":{\"type\":\"object\",\"name\":\"DataRange1d\",\"id\":\"p1067\"},\"x_scale\":{\"type\":\"object\",\"name\":\"CategoricalScale\",\"id\":\"p1076\"},\"y_scale\":{\"type\":\"object\",\"name\":\"LinearScale\",\"id\":\"p1077\"},\"title\":{\"type\":\"object\",\"name\":\"Title\",\"id\":\"p1068\",\"attributes\":{\"text\":\"Kappa by PREPROCESSING\"}},\"renderers\":[{\"type\":\"object\",\"name\":\"GlyphRenderer\",\"id\":\"p1111\",\"attributes\":{\"data_source\":{\"type\":\"object\",\"name\":\"ColumnDataSource\",\"id\":\"p1062\",\"attributes\":{\"selected\":{\"type\":\"object\",\"name\":\"Selection\",\"id\":\"p1063\",\"attributes\":{\"indices\":[],\"line_indices\":[]}},\"selection_policy\":{\"type\":\"object\",\"name\":\"UnionRenderers\",\"id\":\"p1064\"},\"data\":{\"type\":\"map\",\"entries\":[[\"index\",{\"type\":\"ndarray\",\"array\":{\"type\":\"bytes\",\"data\":\"AAAAAAcAAAANAAAAFwAAABMAAAABAAAADgAAABQAAAAIAAAACQAAAAIAAAAPAAAAFQAAAAQAAAALAAAAEQAAABYAAAADAAAAEAAAAAoAAAAGAAAABQAAAAwAAAASAAAA\"},\"shape\":[24],\"dtype\":\"int32\",\"order\":\"little\"}],[\"lr\",{\"type\":\"ndarray\",\"array\":{\"type\":\"bytes\",\"data\":\"8WjjiLX45D4tQxzr4jYKPy1DHOviNho//Knx0k1iUD/8qfHSTWJAP/Fo44i1+OQ+LUMc6+I2Gj/8qfHSTWJAPy1DHOviNgo/LUMc6+I2Cj/xaOOItfjkPi1DHOviNho//Knx0k1iQD/xaOOItfjkPi1DHOviNgo/LUMc6+I2Gj/8qfHSTWJAP/Fo44i1+OQ+LUMc6+I2Gj8tQxzr4jYKP/Fo44i1+OQ+8WjjiLX45D4tQxzr4jYKPy1DHOviNho/\"},\"shape\":[24],\"dtype\":\"float64\",\"order\":\"little\"}],[\"preprocessing\",{\"type\":\"ndarray\",\"array\":[\"absent\",\"absent\",\"absent\",\"absent\",\"absent\",\"autobalance\",\"autobalance\",\"autobalance\",\"autobalance\",\"clahe_lab\",\"clahe_lab\",\"clahe_lab\",\"clahe_lab\",\"clahe_max_green_gsc\",\"clahe_max_green_gsc\",\"clahe_max_green_gsc\",\"clahe_rgb\",\"clahe_rgb\",\"clahe_rgb\",\"clahe_rgb\",\"sarki\",\"seoud\",\"seoud\",\"seoud\"],\"shape\":[24],\"dtype\":\"object\",\"order\":\"little\"}],[\"data_augmentation_type\",{\"type\":\"ndarray\",\"array\":[\"light\",\"light\",\"light\",\"light\",\"light\",\"light\",\"light\",\"light\",\"light\",\"light\",\"light\",\"light\",\"light\",\"light\",\"light\",\"light\",\"light\",\"light\",\"light\",\"light\",\"light\",\"light\",\"light\",\"light\"],\"shape\":[24],\"dtype\":\"object\",\"order\":\"little\"}],[\"name\",{\"type\":\"ndarray\",\"array\":[\"celestial-sweep-1\",\"fallen-sweep-8\",\"clear-sweep-15\",\"winter-sweep-27\",\"vague-sweep-22\",\"scarlet-sweep-2\",\"young-sweep-16\",\"unique-sweep-23\",\"brisk-sweep-9\",\"curious-sweep-10\",\"rare-sweep-3\",\"ruby-sweep-17\",\"treasured-sweep-24\",\"icy-sweep-5\",\"legendary-sweep-12\",\"lemon-sweep-19\",\"classic-sweep-25\",\"flowing-sweep-4\",\"fearless-sweep-18\",\"exalted-sweep-11\",\"fanciful-sweep-7\",\"fresh-sweep-6\",\"divine-sweep-13\",\"fluent-sweep-20\"],\"shape\":[24],\"dtype\":\"object\",\"order\":\"little\"}],[\"kappa\",{\"type\":\"ndarray\",\"array\":{\"type\":\"bytes\",\"data\":\"AAAAYNdP7j8AAACA02vtPwAAACAKoO4/AAAAQAFK0j8AAACAPSvrPwEAAED0Eu4/////3xNn7j8AAADAZdziPwAAAKDtXO4/////3+ac7j8AAAAg0lzuPwEAAED4k+0/AAAAwCVJ7T8BAABgLTnuPwAAAICij+4/AQAAQPiC7j8AAACAqTfrPwEAAGBDVe4/AQAAQPQb7j8AAADg6l/uPwAAAECDIu4/AAAAQAe57T8BAAAApTbuPwEAAKCSTe0/\"},\"shape\":[24],\"dtype\":\"float64\",\"order\":\"little\"}]]}}},\"view\":{\"type\":\"object\",\"name\":\"CDSView\",\"id\":\"p1112\",\"attributes\":{\"filter\":{\"type\":\"object\",\"name\":\"AllIndices\",\"id\":\"p1113\"}}},\"glyph\":{\"type\":\"object\",\"name\":\"Scatter\",\"id\":\"p1108\",\"attributes\":{\"x\":{\"type\":\"field\",\"field\":\"preprocessing\",\"transform\":{\"type\":\"object\",\"name\":\"Jitter\",\"id\":\"p1103\",\"attributes\":{\"width\":0.1,\"range\":{\"id\":\"p1075\"}}}},\"y\":{\"type\":\"field\",\"field\":\"kappa\"},\"size\":{\"type\":\"value\",\"value\":10},\"line_color\":{\"type\":\"value\",\"value\":\"white\"},\"line_alpha\":{\"type\":\"value\",\"value\":0.8},\"fill_color\":{\"type\":\"field\",\"field\":\"preprocessing\",\"transform\":{\"type\":\"object\",\"name\":\"CategoricalColorMapper\",\"id\":\"p1104\",\"attributes\":{\"palette\":[\"#77AADD\",\"#EE8866\",\"#EEDD88\",\"#FFAABB\",\"#99DDFF\",\"#44BB99\",\"#BBCC33\"],\"factors\":[\"absent\",\"autobalance\",\"clahe_lab\",\"clahe_max_green_gsc\",\"clahe_rgb\",\"sarki\",\"seoud\"]}}},\"fill_alpha\":{\"type\":\"value\",\"value\":0.8},\"hatch_color\":{\"type\":\"field\",\"field\":\"preprocessing\",\"transform\":{\"id\":\"p1104\"}},\"hatch_alpha\":{\"type\":\"value\",\"value\":0.8}}},\"nonselection_glyph\":{\"type\":\"object\",\"name\":\"Scatter\",\"id\":\"p1109\",\"attributes\":{\"x\":{\"type\":\"field\",\"field\":\"preprocessing\",\"transform\":{\"id\":\"p1103\"}},\"y\":{\"type\":\"field\",\"field\":\"kappa\"},\"size\":{\"type\":\"value\",\"value\":10},\"line_color\":{\"type\":\"value\",\"value\":\"white\"},\"line_alpha\":{\"type\":\"value\",\"value\":0.1},\"fill_color\":{\"type\":\"field\",\"field\":\"preprocessing\",\"transform\":{\"id\":\"p1104\"}},\"fill_alpha\":{\"type\":\"value\",\"value\":0.1},\"hatch_color\":{\"type\":\"field\",\"field\":\"preprocessing\",\"transform\":{\"id\":\"p1104\"}},\"hatch_alpha\":{\"type\":\"value\",\"value\":0.1}}},\"muted_glyph\":{\"type\":\"object\",\"name\":\"Scatter\",\"id\":\"p1110\",\"attributes\":{\"x\":{\"type\":\"field\",\"field\":\"preprocessing\",\"transform\":{\"id\":\"p1103\"}},\"y\":{\"type\":\"field\",\"field\":\"kappa\"},\"size\":{\"type\":\"value\",\"value\":10},\"line_color\":{\"type\":\"value\",\"value\":\"white\"},\"line_alpha\":{\"type\":\"value\",\"value\":0.2},\"fill_color\":{\"type\":\"field\",\"field\":\"preprocessing\",\"transform\":{\"id\":\"p1104\"}},\"fill_alpha\":{\"type\":\"value\",\"value\":0.2},\"hatch_color\":{\"type\":\"field\",\"field\":\"preprocessing\",\"transform\":{\"id\":\"p1104\"}},\"hatch_alpha\":{\"type\":\"value\",\"value\":0.2}}}}}],\"toolbar\":{\"type\":\"object\",\"name\":\"Toolbar\",\"id\":\"p1074\"},\"left\":[{\"type\":\"object\",\"name\":\"LinearAxis\",\"id\":\"p1083\",\"attributes\":{\"ticker\":{\"type\":\"object\",\"name\":\"BasicTicker\",\"id\":\"p1084\",\"attributes\":{\"mantissas\":[1,2,5]}},\"formatter\":{\"type\":\"object\",\"name\":\"BasicTickFormatter\",\"id\":\"p1085\"},\"major_label_policy\":{\"type\":\"object\",\"name\":\"AllLabels\",\"id\":\"p1086\"}}}],\"below\":[{\"type\":\"object\",\"name\":\"CategoricalAxis\",\"id\":\"p1078\",\"attributes\":{\"ticker\":{\"type\":\"object\",\"name\":\"CategoricalTicker\",\"id\":\"p1079\"},\"formatter\":{\"type\":\"object\",\"name\":\"CategoricalTickFormatter\",\"id\":\"p1080\"},\"major_label_policy\":{\"type\":\"object\",\"name\":\"AllLabels\",\"id\":\"p1081\"}}}],\"center\":[{\"type\":\"object\",\"name\":\"Grid\",\"id\":\"p1082\",\"attributes\":{\"axis\":{\"id\":\"p1078\"}}},{\"type\":\"object\",\"name\":\"Grid\",\"id\":\"p1087\",\"attributes\":{\"dimension\":1,\"axis\":{\"id\":\"p1083\"}}},{\"type\":\"object\",\"name\":\"Whisker\",\"id\":\"p1097\",\"attributes\":{\"source\":{\"type\":\"object\",\"name\":\"ColumnDataSource\",\"id\":\"p1088\",\"attributes\":{\"selected\":{\"type\":\"object\",\"name\":\"Selection\",\"id\":\"p1089\",\"attributes\":{\"indices\":[],\"line_indices\":[]}},\"selection_policy\":{\"type\":\"object\",\"name\":\"UnionRenderers\",\"id\":\"p1090\"},\"data\":{\"type\":\"map\",\"entries\":[[\"base\",[\"absent\",\"autobalance\",\"clahe_lab\",\"clahe_max_green_gsc\",\"clahe_rgb\",\"sarki\",\"seoud\"]],[\"upper\",{\"type\":\"ndarray\",\"array\":{\"type\":\"bytes\",\"data\":\"MzMz0/V/7j9mZmZmCGTuPzMzM3Otie4/zczMDBqN7j8AAACguFzuPwAAAECDIu4/NDMzc4Ud7j8=\"},\"shape\":[7],\"dtype\":\"float64\",\"order\":\"little\"}],[\"lower\",{\"type\":\"ndarray\",\"array\":{\"type\":\"bytes\",\"data\":\"MzMzk7Ja4D8AAACAkDnmP5qZmRmYX+0/zszMjO9H7j/NzMzsvxXsPwAAAECDIu4/mpmZWRBj7T8=\"},\"shape\":[7],\"dtype\":\"float64\",\"order\":\"little\"}],[\"middle\",{\"type\":\"ndarray\",\"array\":{\"type\":\"bytes\",\"data\":\"ZmZmBpdV6T8AAADg1mzrPwAAAMC19e0/q6qqCphu7j8AAAAAM4LtPwAAAECDIu4/VVVV9RS/7T8=\"},\"shape\":[7],\"dtype\":\"float64\",\"order\":\"little\"}]]}}},\"lower\":{\"type\":\"field\",\"field\":\"middle\"},\"lower_head\":{\"type\":\"object\",\"name\":\"TeeHead\",\"id\":\"p1101\",\"attributes\":{\"size\":{\"type\":\"value\",\"value\":20}}},\"upper\":{\"type\":\"field\",\"field\":\"middle\"},\"upper_head\":{\"type\":\"object\",\"name\":\"TeeHead\",\"id\":\"p1102\",\"attributes\":{\"size\":{\"type\":\"value\",\"value\":20}}},\"base\":{\"type\":\"field\",\"field\":\"base\"},\"line_alpha\":{\"type\":\"value\",\"value\":0.5},\"line_width\":{\"type\":\"value\",\"value\":4}}},{\"type\":\"object\",\"name\":\"Whisker\",\"id\":\"p1091\",\"attributes\":{\"level\":\"annotation\",\"source\":{\"id\":\"p1088\"},\"lower\":{\"type\":\"field\",\"field\":\"lower\"},\"lower_head\":{\"type\":\"object\",\"name\":\"TeeHead\",\"id\":\"p1095\",\"attributes\":{\"size\":{\"type\":\"value\",\"value\":10}}},\"upper\":{\"type\":\"field\",\"field\":\"upper\"},\"upper_head\":{\"type\":\"object\",\"name\":\"TeeHead\",\"id\":\"p1096\",\"attributes\":{\"size\":{\"type\":\"value\",\"value\":10}}},\"base\":{\"type\":\"field\",\"field\":\"base\"},\"line_alpha\":{\"type\":\"value\",\"value\":0.5},\"line_width\":{\"type\":\"value\",\"value\":2}}}]}}]}};\n  const render_items = [{\"docid\":\"f855ab2a-d9b0-4221-9e1b-c270575e8743\",\"roots\":{\"p1065\":\"bf8cf464-2f84-465e-ae99-b4829b30c26c\"},\"root_ids\":[\"p1065\"]}];\n  void root.Bokeh.embed.embed_items_notebook(docs_json, render_items);\n  }\n  if (root.Bokeh !== undefined) {\n    embed_document(root);\n  } else {\n    let attempts = 0;\n    const timer = setInterval(function(root) {\n      if (root.Bokeh !== undefined) {\n        clearInterval(timer);\n        embed_document(root);\n      } else {\n        attempts++;\n        if (attempts > 100) {\n          clearInterval(timer);\n          console.log(\"Bokeh: ERROR: Unable to run BokehJS code because BokehJS library is missing\");\n        }\n      }\n    }, 10, root)\n  }\n})(window);",
      "application/vnd.bokehjs_exec.v0+json": ""
     },
     "metadata": {
      "application/vnd.bokehjs_exec.v0+json": {
       "id": "p1065"
      }
     },
     "output_type": "display_data"
    }
   ],
   "source": [
    "p = get_graph(df, 'preprocessing')\n",
    "\n",
    "show(p)"
   ]
  },
  {
   "cell_type": "code",
   "execution_count": 5,
   "metadata": {},
   "outputs": [
    {
     "data": {
      "text/html": [
       "\n",
       "  <div id=\"eee6bfbb-37df-4b1d-aaf1-b7b5ad6ec121\" data-root-id=\"p1120\" style=\"display: contents;\"></div>\n"
      ]
     },
     "metadata": {},
     "output_type": "display_data"
    },
    {
     "data": {
      "application/javascript": "(function(root) {\n  function embed_document(root) {\n  const docs_json = {\"b7c04959-6718-4c98-8cbd-97a5e71cf745\":{\"version\":\"3.5.0\",\"title\":\"Bokeh Application\",\"roots\":[{\"type\":\"object\",\"name\":\"Figure\",\"id\":\"p1120\",\"attributes\":{\"height\":400,\"x_range\":{\"type\":\"object\",\"name\":\"FactorRange\",\"id\":\"p1130\",\"attributes\":{\"factors\":[\"2seater\",\"compact\",\"midsize\",\"minivan\",\"pickup\",\"subcompact\",\"suv\"]}},\"y_range\":{\"type\":\"object\",\"name\":\"DataRange1d\",\"id\":\"p1122\"},\"x_scale\":{\"type\":\"object\",\"name\":\"CategoricalScale\",\"id\":\"p1131\"},\"y_scale\":{\"type\":\"object\",\"name\":\"LinearScale\",\"id\":\"p1132\"},\"title\":{\"type\":\"object\",\"name\":\"Title\",\"id\":\"p1123\",\"attributes\":{\"text\":\"Kappa by lr value\"}},\"renderers\":[{\"type\":\"object\",\"name\":\"GlyphRenderer\",\"id\":\"p1163\",\"attributes\":{\"data_source\":{\"type\":\"object\",\"name\":\"ColumnDataSource\",\"id\":\"p1154\",\"attributes\":{\"selected\":{\"type\":\"object\",\"name\":\"Selection\",\"id\":\"p1155\",\"attributes\":{\"indices\":[],\"line_indices\":[]}},\"selection_policy\":{\"type\":\"object\",\"name\":\"UnionRenderers\",\"id\":\"p1156\"},\"data\":{\"type\":\"map\",\"entries\":[[\"index\",{\"type\":\"ndarray\",\"array\":{\"type\":\"bytes\",\"data\":\"AAAAAAEAAAACAAAAAwAAAAQAAAAFAAAABgAAAAcAAAAIAAAACQAAAAoAAAALAAAADAAAAA0AAAAOAAAADwAAABAAAAARAAAAEgAAABMAAAAUAAAAFQAAABYAAAAXAAAAGAAAABkAAAAaAAAAGwAAABwAAAAdAAAAHgAAAB8AAAAgAAAAIQAAACIAAAAjAAAAJAAAACUAAAAmAAAAJwAAACgAAAApAAAAKgAAACsAAAAsAAAALQAAAC4AAAAvAAAAMAAAADEAAAAyAAAAMwAAADQAAAA1AAAANgAAADcAAAA4AAAAOQAAADoAAAA7AAAAPAAAAD0AAAA+AAAAPwAAAEAAAABBAAAAQgAAAEMAAABEAAAARQAAAEYAAABHAAAASAAAAEkAAABKAAAASwAAAEwAAABNAAAATgAAAE8AAABQAAAAUQAAAFIAAABTAAAAVAAAAFUAAABWAAAAVwAAAFgAAABZAAAAWgAAAFsAAABcAAAAXQAAAF4AAABfAAAAYAAAAGEAAABiAAAAYwAAAGQAAABlAAAAZgAAAGcAAABoAAAAaQAAAGoAAABrAAAAbAAAAG0AAABuAAAAbwAAAHAAAABxAAAAcgAAAHMAAAB0AAAAdQAAAHYAAAB3AAAAeAAAAHkAAAB6AAAAewAAAHwAAAB9AAAAfgAAAH8AAACAAAAAgQAAAIIAAACDAAAAhAAAAIUAAACGAAAAhwAAAIgAAACJAAAAigAAAIsAAACMAAAAjQAAAI4AAACPAAAAkAAAAJEAAACSAAAAkwAAAJQAAACVAAAAlgAAAJcAAACYAAAAmQAAAJoAAACbAAAAnAAAAJ0AAACeAAAAnwAAAKAAAAChAAAAogAAAKMAAACkAAAApQAAAKYAAACnAAAAqAAAAKkAAACqAAAAqwAAAKwAAACtAAAArgAAAK8AAACwAAAAsQAAALIAAACzAAAAtAAAALUAAAC2AAAAtwAAALgAAAC5AAAAugAAALsAAAC8AAAAvQAAAL4AAAC/AAAAwAAAAMEAAADCAAAAwwAAAMQAAADFAAAAxgAAAMcAAADIAAAAyQAAAMoAAADLAAAAzAAAAM0AAADOAAAAzwAAANAAAADRAAAA0gAAANMAAADUAAAA1QAAANYAAADXAAAA2AAAANkAAADaAAAA2wAAANwAAADdAAAA3gAAAN8AAADgAAAA4QAAAOIAAADjAAAA5AAAAOUAAADmAAAA5wAAAOgAAADpAAAA\"},\"shape\":[234],\"dtype\":\"int32\",\"order\":\"little\"}],[\"Unnamed: 0\",{\"type\":\"ndarray\",\"array\":{\"type\":\"bytes\",\"data\":\"AQAAAAIAAAADAAAABAAAAAUAAAAGAAAABwAAAAgAAAAJAAAACgAAAAsAAAAMAAAADQAAAA4AAAAPAAAAEAAAABEAAAASAAAAEwAAABQAAAAVAAAAFgAAABcAAAAYAAAAGQAAABoAAAAbAAAAHAAAAB0AAAAeAAAAHwAAACAAAAAhAAAAIgAAACMAAAAkAAAAJQAAACYAAAAnAAAAKAAAACkAAAAqAAAAKwAAACwAAAAtAAAALgAAAC8AAAAwAAAAMQAAADIAAAAzAAAANAAAADUAAAA2AAAANwAAADgAAAA5AAAAOgAAADsAAAA8AAAAPQAAAD4AAAA/AAAAQAAAAEEAAABCAAAAQwAAAEQAAABFAAAARgAAAEcAAABIAAAASQAAAEoAAABLAAAATAAAAE0AAABOAAAATwAAAFAAAABRAAAAUgAAAFMAAABUAAAAVQAAAFYAAABXAAAAWAAAAFkAAABaAAAAWwAAAFwAAABdAAAAXgAAAF8AAABgAAAAYQAAAGIAAABjAAAAZAAAAGUAAABmAAAAZwAAAGgAAABpAAAAagAAAGsAAABsAAAAbQAAAG4AAABvAAAAcAAAAHEAAAByAAAAcwAAAHQAAAB1AAAAdgAAAHcAAAB4AAAAeQAAAHoAAAB7AAAAfAAAAH0AAAB+AAAAfwAAAIAAAACBAAAAggAAAIMAAACEAAAAhQAAAIYAAACHAAAAiAAAAIkAAACKAAAAiwAAAIwAAACNAAAAjgAAAI8AAACQAAAAkQAAAJIAAACTAAAAlAAAAJUAAACWAAAAlwAAAJgAAACZAAAAmgAAAJsAAACcAAAAnQAAAJ4AAACfAAAAoAAAAKEAAACiAAAAowAAAKQAAAClAAAApgAAAKcAAACoAAAAqQAAAKoAAACrAAAArAAAAK0AAACuAAAArwAAALAAAACxAAAAsgAAALMAAAC0AAAAtQAAALYAAAC3AAAAuAAAALkAAAC6AAAAuwAAALwAAAC9AAAAvgAAAL8AAADAAAAAwQAAAMIAAADDAAAAxAAAAMUAAADGAAAAxwAAAMgAAADJAAAAygAAAMsAAADMAAAAzQAAAM4AAADPAAAA0AAAANEAAADSAAAA0wAAANQAAADVAAAA1gAAANcAAADYAAAA2QAAANoAAADbAAAA3AAAAN0AAADeAAAA3wAAAOAAAADhAAAA4gAAAOMAAADkAAAA5QAAAOYAAADnAAAA6AAAAOkAAADqAAAA\"},\"shape\":[234],\"dtype\":\"int32\",\"order\":\"little\"}],[\"manufacturer\",{\"type\":\"ndarray\",\"array\":[\"Audi\",\"Audi\",\"Audi\",\"Audi\",\"Audi\",\"Audi\",\"Audi\",\"Audi\",\"Audi\",\"Audi\",\"Audi\",\"Audi\",\"Audi\",\"Audi\",\"Audi\",\"Audi\",\"Audi\",\"Audi\",\"Chevrolet\",\"Chevrolet\",\"Chevrolet\",\"Chevrolet\",\"Chevrolet\",\"Chevrolet\",\"Chevrolet\",\"Chevrolet\",\"Chevrolet\",\"Chevrolet\",\"Chevrolet\",\"Chevrolet\",\"Chevrolet\",\"Chevrolet\",\"Chevrolet\",\"Chevrolet\",\"Chevrolet\",\"Chevrolet\",\"Chevrolet\",\"Dodge\",\"Dodge\",\"Dodge\",\"Dodge\",\"Dodge\",\"Dodge\",\"Dodge\",\"Dodge\",\"Dodge\",\"Dodge\",\"Dodge\",\"Dodge\",\"Dodge\",\"Dodge\",\"Dodge\",\"Dodge\",\"Dodge\",\"Dodge\",\"Dodge\",\"Dodge\",\"Dodge\",\"Dodge\",\"Dodge\",\"Dodge\",\"Dodge\",\"Dodge\",\"Dodge\",\"Dodge\",\"Dodge\",\"Dodge\",\"Dodge\",\"Dodge\",\"Dodge\",\"Dodge\",\"Dodge\",\"Dodge\",\"Dodge\",\"Ford\",\"Ford\",\"Ford\",\"Ford\",\"Ford\",\"Ford\",\"Ford\",\"Ford\",\"Ford\",\"Ford\",\"Ford\",\"Ford\",\"Ford\",\"Ford\",\"Ford\",\"Ford\",\"Ford\",\"Ford\",\"Ford\",\"Ford\",\"Ford\",\"Ford\",\"Ford\",\"Ford\",\"Ford\",\"Honda\",\"Honda\",\"Honda\",\"Honda\",\"Honda\",\"Honda\",\"Honda\",\"Honda\",\"Honda\",\"Hyundai\",\"Hyundai\",\"Hyundai\",\"Hyundai\",\"Hyundai\",\"Hyundai\",\"Hyundai\",\"Hyundai\",\"Hyundai\",\"Hyundai\",\"Hyundai\",\"Hyundai\",\"Hyundai\",\"Hyundai\",\"Jeep\",\"Jeep\",\"Jeep\",\"Jeep\",\"Jeep\",\"Jeep\",\"Jeep\",\"Jeep\",\"Land Rover\",\"Land Rover\",\"Land Rover\",\"Land Rover\",\"Lincoln\",\"Lincoln\",\"Lincoln\",\"Mercury\",\"Mercury\",\"Mercury\",\"Mercury\",\"Nissan\",\"Nissan\",\"Nissan\",\"Nissan\",\"Nissan\",\"Nissan\",\"Nissan\",\"Nissan\",\"Nissan\",\"Nissan\",\"Nissan\",\"Nissan\",\"Nissan\",\"Pontiac\",\"Pontiac\",\"Pontiac\",\"Pontiac\",\"Pontiac\",\"Subaru\",\"Subaru\",\"Subaru\",\"Subaru\",\"Subaru\",\"Subaru\",\"Subaru\",\"Subaru\",\"Subaru\",\"Subaru\",\"Subaru\",\"Subaru\",\"Subaru\",\"Subaru\",\"Toyota\",\"Toyota\",\"Toyota\",\"Toyota\",\"Toyota\",\"Toyota\",\"Toyota\",\"Toyota\",\"Toyota\",\"Toyota\",\"Toyota\",\"Toyota\",\"Toyota\",\"Toyota\",\"Toyota\",\"Toyota\",\"Toyota\",\"Toyota\",\"Toyota\",\"Toyota\",\"Toyota\",\"Toyota\",\"Toyota\",\"Toyota\",\"Toyota\",\"Toyota\",\"Toyota\",\"Toyota\",\"Toyota\",\"Toyota\",\"Toyota\",\"Toyota\",\"Toyota\",\"Toyota\",\"Volkswagen\",\"Volkswagen\",\"Volkswagen\",\"Volkswagen\",\"Volkswagen\",\"Volkswagen\",\"Volkswagen\",\"Volkswagen\",\"Volkswagen\",\"Volkswagen\",\"Volkswagen\",\"Volkswagen\",\"Volkswagen\",\"Volkswagen\",\"Volkswagen\",\"Volkswagen\",\"Volkswagen\",\"Volkswagen\",\"Volkswagen\",\"Volkswagen\",\"Volkswagen\",\"Volkswagen\",\"Volkswagen\",\"Volkswagen\",\"Volkswagen\",\"Volkswagen\",\"Volkswagen\"],\"shape\":[234],\"dtype\":\"object\",\"order\":\"little\"}],[\"model\",{\"type\":\"ndarray\",\"array\":[\"A4\",\"A4\",\"A4\",\"A4\",\"A4\",\"A4\",\"A4\",\"A4 Quattro\",\"A4 Quattro\",\"A4 Quattro\",\"A4 Quattro\",\"A4 Quattro\",\"A4 Quattro\",\"A4 Quattro\",\"A4 Quattro\",\"A6 Quattro\",\"A6 Quattro\",\"A6 Quattro\",\"C1500 Suburban 2wd\",\"C1500 Suburban 2wd\",\"C1500 Suburban 2wd\",\"C1500 Suburban 2wd\",\"C1500 Suburban 2wd\",\"Corvette\",\"Corvette\",\"Corvette\",\"Corvette\",\"Corvette\",\"K1500 Tahoe 4wd\",\"K1500 Tahoe 4wd\",\"K1500 Tahoe 4wd\",\"K1500 Tahoe 4wd\",\"Malibu\",\"Malibu\",\"Malibu\",\"Malibu\",\"Malibu\",\"Caravan 2wd\",\"Caravan 2wd\",\"Caravan 2wd\",\"Caravan 2wd\",\"Caravan 2wd\",\"Caravan 2wd\",\"Caravan 2wd\",\"Caravan 2wd\",\"Caravan 2wd\",\"Caravan 2wd\",\"Caravan 2wd\",\"Dakota Pickup 4wd\",\"Dakota Pickup 4wd\",\"Dakota Pickup 4wd\",\"Dakota Pickup 4wd\",\"Dakota Pickup 4wd\",\"Dakota Pickup 4wd\",\"Dakota Pickup 4wd\",\"Dakota Pickup 4wd\",\"Dakota Pickup 4wd\",\"Durango 4wd\",\"Durango 4wd\",\"Durango 4wd\",\"Durango 4wd\",\"Durango 4wd\",\"Durango 4wd\",\"Durango 4wd\",\"Ram 1500 Pickup 4wd\",\"Ram 1500 Pickup 4wd\",\"Ram 1500 Pickup 4wd\",\"Ram 1500 Pickup 4wd\",\"Ram 1500 Pickup 4wd\",\"Ram 1500 Pickup 4wd\",\"Ram 1500 Pickup 4wd\",\"Ram 1500 Pickup 4wd\",\"Ram 1500 Pickup 4wd\",\"Ram 1500 Pickup 4wd\",\"Expedition 2wd\",\"Expedition 2wd\",\"Expedition 2wd\",\"Explorer 4wd\",\"Explorer 4wd\",\"Explorer 4wd\",\"Explorer 4wd\",\"Explorer 4wd\",\"Explorer 4wd\",\"F150 Pickup 4wd\",\"F150 Pickup 4wd\",\"F150 Pickup 4wd\",\"F150 Pickup 4wd\",\"F150 Pickup 4wd\",\"F150 Pickup 4wd\",\"F150 Pickup 4wd\",\"Mustang\",\"Mustang\",\"Mustang\",\"Mustang\",\"Mustang\",\"Mustang\",\"Mustang\",\"Mustang\",\"Mustang\",\"Civic\",\"Civic\",\"Civic\",\"Civic\",\"Civic\",\"Civic\",\"Civic\",\"Civic\",\"Civic\",\"Sonata\",\"Sonata\",\"Sonata\",\"Sonata\",\"Sonata\",\"Sonata\",\"Sonata\",\"Tiburon\",\"Tiburon\",\"Tiburon\",\"Tiburon\",\"Tiburon\",\"Tiburon\",\"Tiburon\",\"Grand Cherokee 4wd\",\"Grand Cherokee 4wd\",\"Grand Cherokee 4wd\",\"Grand Cherokee 4wd\",\"Grand Cherokee 4wd\",\"Grand Cherokee 4wd\",\"Grand Cherokee 4wd\",\"Grand Cherokee 4wd\",\"Range Rover\",\"Range Rover\",\"Range Rover\",\"Range Rover\",\"Navigator 2wd\",\"Navigator 2wd\",\"Navigator 2wd\",\"Mountaineer 4wd\",\"Mountaineer 4wd\",\"Mountaineer 4wd\",\"Mountaineer 4wd\",\"Altima\",\"Altima\",\"Altima\",\"Altima\",\"Altima\",\"Altima\",\"Maxima\",\"Maxima\",\"Maxima\",\"Pathfinder 4wd\",\"Pathfinder 4wd\",\"Pathfinder 4wd\",\"Pathfinder 4wd\",\"Grand Prix\",\"Grand Prix\",\"Grand Prix\",\"Grand Prix\",\"Grand Prix\",\"Forester Awd\",\"Forester Awd\",\"Forester Awd\",\"Forester Awd\",\"Forester Awd\",\"Forester Awd\",\"Impreza Awd\",\"Impreza Awd\",\"Impreza Awd\",\"Impreza Awd\",\"Impreza Awd\",\"Impreza Awd\",\"Impreza Awd\",\"Impreza Awd\",\"4runner 4wd\",\"4runner 4wd\",\"4runner 4wd\",\"4runner 4wd\",\"4runner 4wd\",\"4runner 4wd\",\"Camry\",\"Camry\",\"Camry\",\"Camry\",\"Camry\",\"Camry\",\"Camry\",\"Camry Solara\",\"Camry Solara\",\"Camry Solara\",\"Camry Solara\",\"Camry Solara\",\"Camry Solara\",\"Camry Solara\",\"Corolla\",\"Corolla\",\"Corolla\",\"Corolla\",\"Corolla\",\"Land Cruiser Wagon 4wd\",\"Land Cruiser Wagon 4wd\",\"Toyota Tacoma 4wd\",\"Toyota Tacoma 4wd\",\"Toyota Tacoma 4wd\",\"Toyota Tacoma 4wd\",\"Toyota Tacoma 4wd\",\"Toyota Tacoma 4wd\",\"Toyota Tacoma 4wd\",\"Gti\",\"Gti\",\"Gti\",\"Gti\",\"Gti\",\"Jetta\",\"Jetta\",\"Jetta\",\"Jetta\",\"Jetta\",\"Jetta\",\"Jetta\",\"Jetta\",\"Jetta\",\"New Beetle\",\"New Beetle\",\"New Beetle\",\"New Beetle\",\"New Beetle\",\"New Beetle\",\"Passat\",\"Passat\",\"Passat\",\"Passat\",\"Passat\",\"Passat\",\"Passat\"],\"shape\":[234],\"dtype\":\"object\",\"order\":\"little\"}],[\"displ\",{\"type\":\"ndarray\",\"array\":{\"type\":\"bytes\",\"data\":\"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\"},\"shape\":[234],\"dtype\":\"float64\",\"order\":\"little\"}],[\"year\",{\"type\":\"ndarray\",\"array\":{\"type\":\"bytes\",\"data\":\"zwcAAM8HAADYBwAA2AcAAM8HAADPBwAA2AcAAM8HAADPBwAA2AcAANgHAADPBwAAzwcAANgHAADYBwAAzwcAANgHAADYBwAA2AcAANgHAADYBwAAzwcAANgHAADPBwAAzwcAANgHAADYBwAA2AcAANgHAADYBwAAzwcAAM8HAADPBwAA2AcAAM8HAADYBwAA2AcAAM8HAADPBwAAzwcAAM8HAADYBwAA2AcAANgHAADPBwAAzwcAANgHAADYBwAA2AcAANgHAADPBwAAzwcAANgHAADYBwAA2AcAAM8HAADPBwAAzwcAANgHAADYBwAA2AcAAM8HAADYBwAAzwcAANgHAADYBwAA2AcAANgHAADYBwAA2AcAAM8HAADPBwAA2AcAAM8HAADPBwAAzwcAANgHAADPBwAAzwcAAM8HAADYBwAA2AcAAM8HAADPBwAAzwcAAM8HAADPBwAA2AcAAM8HAADYBwAAzwcAAM8HAADYBwAA2AcAAM8HAADPBwAA2AcAANgHAADYBwAAzwcAAM8HAADPBwAAzwcAAM8HAADYBwAA2AcAANgHAADYBwAAzwcAAM8HAADYBwAA2AcAAM8HAADPBwAA2AcAAM8HAADPBwAA2AcAANgHAADYBwAA2AcAANgHAADYBwAA2AcAAM8HAADPBwAA2AcAANgHAADYBwAA2AcAAM8HAADYBwAA2AcAAM8HAADPBwAAzwcAANgHAADPBwAA2AcAANgHAADPBwAAzwcAAM8HAADYBwAA2AcAANgHAADYBwAAzwcAAM8HAADYBwAAzwcAAM8HAADYBwAA2AcAAM8HAADPBwAAzwcAANgHAADYBwAAzwcAAM8HAADYBwAA2AcAANgHAADYBwAAzwcAAM8HAADPBwAAzwcAANgHAADYBwAA2AcAANgHAADPBwAAzwcAAM8HAADPBwAA2AcAANgHAADPBwAAzwcAANgHAADYBwAAzwcAAM8HAADYBwAAzwcAAM8HAADYBwAA2AcAAM8HAADPBwAA2AcAAM8HAADPBwAAzwcAANgHAADYBwAAzwcAANgHAADPBwAAzwcAANgHAADPBwAAzwcAANgHAADYBwAAzwcAAM8HAADYBwAA2AcAAM8HAADPBwAAzwcAAM8HAADYBwAA2AcAANgHAADYBwAAzwcAAM8HAADPBwAAzwcAAM8HAADPBwAA2AcAANgHAADPBwAAzwcAANgHAADYBwAAzwcAAM8HAADYBwAA\"},\"shape\":[234],\"dtype\":\"int32\",\"order\":\"little\"}],[\"cyl\",{\"type\":\"ndarray\",\"array\":{\"type\":\"bytes\",\"data\":\"BAAAAAQAAAAEAAAABAAAAAYAAAAGAAAABgAAAAQAAAAEAAAABAAAAAQAAAAGAAAABgAAAAYAAAAGAAAABgAAAAYAAAAIAAAACAAAAAgAAAAIAAAACAAAAAgAAAAIAAAACAAAAAgAAAAIAAAACAAAAAgAAAAIAAAACAAAAAgAAAAEAAAABAAAAAYAAAAGAAAABgAAAAQAAAAGAAAABgAAAAYAAAAGAAAABgAAAAYAAAAGAAAABgAAAAYAAAAGAAAABgAAAAYAAAAGAAAABgAAAAgAAAAIAAAACAAAAAgAAAAIAAAABgAAAAgAAAAIAAAACAAAAAgAAAAIAAAACAAAAAgAAAAIAAAACAAAAAgAAAAIAAAACAAAAAgAAAAIAAAACAAAAAgAAAAIAAAACAAAAAgAAAAGAAAABgAAAAYAAAAGAAAACAAAAAgAAAAGAAAABgAAAAgAAAAIAAAACAAAAAgAAAAIAAAABgAAAAYAAAAGAAAABgAAAAgAAAAIAAAACAAAAAgAAAAIAAAABAAAAAQAAAAEAAAABAAAAAQAAAAEAAAABAAAAAQAAAAEAAAABAAAAAQAAAAEAAAABAAAAAYAAAAGAAAABgAAAAQAAAAEAAAABAAAAAQAAAAGAAAABgAAAAYAAAAGAAAABgAAAAYAAAAIAAAACAAAAAgAAAAIAAAACAAAAAgAAAAIAAAACAAAAAgAAAAIAAAACAAAAAgAAAAGAAAABgAAAAgAAAAIAAAABAAAAAQAAAAEAAAABAAAAAYAAAAGAAAABgAAAAYAAAAGAAAABgAAAAYAAAAGAAAACAAAAAYAAAAGAAAABgAAAAYAAAAIAAAABAAAAAQAAAAEAAAABAAAAAQAAAAEAAAABAAAAAQAAAAEAAAABAAAAAQAAAAEAAAABAAAAAQAAAAEAAAABAAAAAYAAAAGAAAABgAAAAgAAAAEAAAABAAAAAQAAAAEAAAABgAAAAYAAAAGAAAABAAAAAQAAAAEAAAABAAAAAYAAAAGAAAABgAAAAQAAAAEAAAABAAAAAQAAAAEAAAACAAAAAgAAAAEAAAABAAAAAQAAAAGAAAABgAAAAYAAAAGAAAABAAAAAQAAAAEAAAABAAAAAYAAAAEAAAABAAAAAQAAAAEAAAABAAAAAUAAAAFAAAABgAAAAYAAAAEAAAABAAAAAQAAAAEAAAABQAAAAUAAAAEAAAABAAAAAQAAAAEAAAABgAAAAYAAAAGAAAA\"},\"shape\":[234],\"dtype\":\"int32\",\"order\":\"little\"}],[\"trans\",{\"type\":\"ndarray\",\"array\":[\"auto(l5)\",\"manual(m5)\",\"manual(m6)\",\"auto(av)\",\"auto(l5)\",\"manual(m5)\",\"auto(av)\",\"manual(m5)\",\"auto(l5)\",\"manual(m6)\",\"auto(s6)\",\"auto(l5)\",\"manual(m5)\",\"auto(s6)\",\"manual(m6)\",\"auto(l5)\",\"auto(s6)\",\"auto(s6)\",\"auto(l4)\",\"auto(l4)\",\"auto(l4)\",\"auto(l4)\",\"auto(l4)\",\"manual(m6)\",\"auto(l4)\",\"manual(m6)\",\"auto(s6)\",\"manual(m6)\",\"auto(l4)\",\"auto(l4)\",\"auto(l4)\",\"auto(l4)\",\"auto(l4)\",\"auto(l4)\",\"auto(l4)\",\"auto(l4)\",\"auto(s6)\",\"auto(l3)\",\"auto(l4)\",\"auto(l4)\",\"auto(l4)\",\"auto(l4)\",\"auto(l4)\",\"auto(l4)\",\"auto(l4)\",\"auto(l4)\",\"auto(l6)\",\"auto(l6)\",\"manual(m6)\",\"auto(l4)\",\"auto(l4)\",\"manual(m5)\",\"auto(l5)\",\"auto(l5)\",\"auto(l5)\",\"manual(m5)\",\"auto(l4)\",\"auto(l4)\",\"auto(l5)\",\"auto(l5)\",\"auto(l5)\",\"auto(l4)\",\"auto(l5)\",\"auto(l4)\",\"manual(m6)\",\"auto(l5)\",\"auto(l5)\",\"auto(l5)\",\"manual(m6)\",\"manual(m6)\",\"auto(l4)\",\"manual(m5)\",\"auto(l5)\",\"auto(l4)\",\"auto(l4)\",\"auto(l4)\",\"auto(l6)\",\"auto(l5)\",\"manual(m5)\",\"auto(l5)\",\"auto(l5)\",\"auto(l6)\",\"auto(l4)\",\"auto(l4)\",\"manual(m5)\",\"manual(m5)\",\"auto(l4)\",\"auto(l4)\",\"auto(l4)\",\"auto(l4)\",\"manual(m5)\",\"auto(l4)\",\"manual(m5)\",\"auto(l5)\",\"auto(l4)\",\"manual(m5)\",\"manual(m5)\",\"auto(l5)\",\"manual(m6)\",\"manual(m5)\",\"auto(l4)\",\"manual(m5)\",\"manual(m5)\",\"auto(l4)\",\"manual(m5)\",\"auto(l5)\",\"auto(l5)\",\"manual(m6)\",\"auto(l4)\",\"manual(m5)\",\"auto(l4)\",\"manual(m5)\",\"auto(l4)\",\"manual(m5)\",\"auto(l5)\",\"auto(l4)\",\"manual(m5)\",\"manual(m5)\",\"auto(l4)\",\"auto(l4)\",\"manual(m6)\",\"manual(m5)\",\"auto(l5)\",\"auto(l5)\",\"auto(l4)\",\"auto(l4)\",\"auto(l5)\",\"auto(l5)\",\"auto(l5)\",\"auto(l5)\",\"auto(l4)\",\"auto(s6)\",\"auto(s6)\",\"auto(l4)\",\"auto(l4)\",\"auto(l4)\",\"auto(l6)\",\"auto(l5)\",\"auto(l5)\",\"auto(l6)\",\"auto(l4)\",\"manual(m5)\",\"auto(l4)\",\"auto(av)\",\"manual(m6)\",\"manual(m6)\",\"auto(av)\",\"auto(l4)\",\"manual(m5)\",\"auto(av)\",\"auto(l4)\",\"manual(m5)\",\"auto(l5)\",\"auto(s5)\",\"auto(l4)\",\"auto(l4)\",\"auto(l4)\",\"auto(l4)\",\"auto(s4)\",\"manual(m5)\",\"auto(l4)\",\"manual(m5)\",\"manual(m5)\",\"auto(l4)\",\"auto(l4)\",\"auto(l4)\",\"manual(m5)\",\"manual(m5)\",\"auto(l4)\",\"auto(s4)\",\"auto(s4)\",\"manual(m5)\",\"manual(m5)\",\"manual(m5)\",\"auto(l4)\",\"auto(l4)\",\"manual(m5)\",\"auto(l5)\",\"auto(l5)\",\"manual(m5)\",\"auto(l4)\",\"manual(m5)\",\"auto(l5)\",\"auto(l4)\",\"manual(m5)\",\"auto(s6)\",\"auto(l4)\",\"manual(m5)\",\"manual(m5)\",\"auto(s5)\",\"auto(l4)\",\"manual(m5)\",\"auto(s5)\",\"auto(l3)\",\"auto(l4)\",\"manual(m5)\",\"manual(m5)\",\"auto(l4)\",\"auto(l4)\",\"auto(s6)\",\"manual(m5)\",\"auto(l4)\",\"manual(m5)\",\"manual(m5)\",\"auto(l4)\",\"manual(m6)\",\"auto(l5)\",\"manual(m5)\",\"auto(l4)\",\"manual(m6)\",\"auto(s6)\",\"manual(m5)\",\"manual(m5)\",\"manual(m5)\",\"auto(l4)\",\"auto(s6)\",\"manual(m6)\",\"auto(s6)\",\"manual(m5)\",\"auto(l4)\",\"manual(m5)\",\"manual(m5)\",\"auto(l4)\",\"manual(m5)\",\"auto(l4)\",\"manual(m5)\",\"auto(s6)\",\"manual(m5)\",\"auto(l5)\",\"auto(s6)\",\"manual(m6)\",\"auto(l5)\",\"manual(m5)\",\"auto(s6)\"],\"shape\":[234],\"dtype\":\"object\",\"order\":\"little\"}],[\"drv\",{\"type\":\"ndarray\",\"array\":[\"front\",\"front\",\"front\",\"front\",\"front\",\"front\",\"front\",\"4x4\",\"4x4\",\"4x4\",\"4x4\",\"4x4\",\"4x4\",\"4x4\",\"4x4\",\"4x4\",\"4x4\",\"4x4\",\"rear\",\"rear\",\"rear\",\"rear\",\"rear\",\"rear\",\"rear\",\"rear\",\"rear\",\"rear\",\"4x4\",\"4x4\",\"4x4\",\"4x4\",\"front\",\"front\",\"front\",\"front\",\"front\",\"front\",\"front\",\"front\",\"front\",\"front\",\"front\",\"front\",\"front\",\"front\",\"front\",\"front\",\"4x4\",\"4x4\",\"4x4\",\"4x4\",\"4x4\",\"4x4\",\"4x4\",\"4x4\",\"4x4\",\"4x4\",\"4x4\",\"4x4\",\"4x4\",\"4x4\",\"4x4\",\"4x4\",\"4x4\",\"4x4\",\"4x4\",\"4x4\",\"4x4\",\"4x4\",\"4x4\",\"4x4\",\"4x4\",\"4x4\",\"rear\",\"rear\",\"rear\",\"4x4\",\"4x4\",\"4x4\",\"4x4\",\"4x4\",\"4x4\",\"4x4\",\"4x4\",\"4x4\",\"4x4\",\"4x4\",\"4x4\",\"4x4\",\"rear\",\"rear\",\"rear\",\"rear\",\"rear\",\"rear\",\"rear\",\"rear\",\"rear\",\"front\",\"front\",\"front\",\"front\",\"front\",\"front\",\"front\",\"front\",\"front\",\"front\",\"front\",\"front\",\"front\",\"front\",\"front\",\"front\",\"front\",\"front\",\"front\",\"front\",\"front\",\"front\",\"front\",\"4x4\",\"4x4\",\"4x4\",\"4x4\",\"4x4\",\"4x4\",\"4x4\",\"4x4\",\"4x4\",\"4x4\",\"4x4\",\"4x4\",\"rear\",\"rear\",\"rear\",\"4x4\",\"4x4\",\"4x4\",\"4x4\",\"front\",\"front\",\"front\",\"front\",\"front\",\"front\",\"front\",\"front\",\"front\",\"4x4\",\"4x4\",\"4x4\",\"4x4\",\"front\",\"front\",\"front\",\"front\",\"front\",\"4x4\",\"4x4\",\"4x4\",\"4x4\",\"4x4\",\"4x4\",\"4x4\",\"4x4\",\"4x4\",\"4x4\",\"4x4\",\"4x4\",\"4x4\",\"4x4\",\"4x4\",\"4x4\",\"4x4\",\"4x4\",\"4x4\",\"4x4\",\"front\",\"front\",\"front\",\"front\",\"front\",\"front\",\"front\",\"front\",\"front\",\"front\",\"front\",\"front\",\"front\",\"front\",\"front\",\"front\",\"front\",\"front\",\"front\",\"4x4\",\"4x4\",\"4x4\",\"4x4\",\"4x4\",\"4x4\",\"4x4\",\"4x4\",\"4x4\",\"front\",\"front\",\"front\",\"front\",\"front\",\"front\",\"front\",\"front\",\"front\",\"front\",\"front\",\"front\",\"front\",\"front\",\"front\",\"front\",\"front\",\"front\",\"front\",\"front\",\"front\",\"front\",\"front\",\"front\",\"front\",\"front\",\"front\"],\"shape\":[234],\"dtype\":\"object\",\"order\":\"little\"}],[\"cty\",{\"type\":\"ndarray\",\"array\":{\"type\":\"bytes\",\"data\":\"EgAAABUAAAAUAAAAFQAAABAAAAASAAAAEgAAABIAAAAQAAAAFAAAABMAAAAPAAAAEQAAABEAAAAPAAAADwAAABEAAAAQAAAADgAAAAsAAAAOAAAADQAAAAwAAAAQAAAADwAAABAAAAAPAAAADwAAAA4AAAALAAAACwAAAA4AAAATAAAAFgAAABIAAAASAAAAEQAAABIAAAARAAAAEAAAABAAAAARAAAAEQAAAAsAAAAPAAAADwAAABAAAAAQAAAADwAAAA4AAAANAAAADgAAAA4AAAAOAAAACQAAAAsAAAALAAAADQAAAA0AAAAJAAAADQAAAAsAAAANAAAACwAAAAwAAAAJAAAADQAAAA0AAAAMAAAACQAAAAsAAAALAAAADQAAAAsAAAALAAAACwAAAAwAAAAOAAAADwAAAA4AAAANAAAADQAAAA0AAAAOAAAADgAAAA0AAAANAAAADQAAAAsAAAANAAAAEgAAABIAAAARAAAAEAAAAA8AAAAPAAAADwAAAA8AAAAOAAAAHAAAABgAAAAZAAAAFwAAABgAAAAaAAAAGQAAABgAAAAVAAAAEgAAABIAAAAVAAAAFQAAABIAAAASAAAAEwAAABMAAAATAAAAFAAAABQAAAARAAAAEAAAABEAAAARAAAADwAAAA8AAAAOAAAACQAAAA4AAAANAAAACwAAAAsAAAAMAAAADAAAAAsAAAALAAAACwAAAAwAAAAOAAAADQAAAA0AAAANAAAAFQAAABMAAAAXAAAAFwAAABMAAAATAAAAEgAAABMAAAATAAAADgAAAA8AAAAOAAAADAAAABIAAAAQAAAAEQAAABIAAAAQAAAAEgAAABIAAAAUAAAAEwAAABQAAAASAAAAFQAAABMAAAATAAAAEwAAABQAAAAUAAAAEwAAABQAAAAPAAAAEAAAAA8AAAAPAAAAEAAAAA4AAAAVAAAAFQAAABUAAAAVAAAAEgAAABIAAAATAAAAFQAAABUAAAAVAAAAFgAAABIAAAASAAAAEgAAABgAAAAYAAAAGgAAABwAAAAaAAAACwAAAA0AAAAPAAAAEAAAABEAAAAPAAAADwAAAA8AAAAQAAAAFQAAABMAAAAVAAAAFgAAABEAAAAhAAAAFQAAABMAAAAWAAAAFQAAABUAAAAVAAAAEAAAABEAAAAjAAAAHQAAABUAAAATAAAAFAAAABQAAAAVAAAAEgAAABMAAAAVAAAAEAAAABIAAAARAAAA\"},\"shape\":[234],\"dtype\":\"int32\",\"order\":\"little\"}],[\"hwy\",{\"type\":\"ndarray\",\"array\":{\"type\":\"bytes\",\"data\":\"HQAAAB0AAAAfAAAAHgAAABoAAAAaAAAAGwAAABoAAAAZAAAAHAAAABsAAAAZAAAAGQAAABkAAAAZAAAAGAAAABkAAAAXAAAAFAAAAA8AAAAUAAAAEQAAABEAAAAaAAAAFwAAABoAAAAZAAAAGAAAABMAAAAOAAAADwAAABEAAAAbAAAAHgAAABoAAAAdAAAAGgAAABgAAAAYAAAAFgAAABYAAAAYAAAAGAAAABEAAAAWAAAAFQAAABcAAAAXAAAAEwAAABIAAAARAAAAEQAAABMAAAATAAAADAAAABEAAAAPAAAAEQAAABEAAAAMAAAAEQAAABAAAAASAAAADwAAABAAAAAMAAAAEQAAABEAAAAQAAAADAAAAA8AAAAQAAAAEQAAAA8AAAARAAAAEQAAABIAAAARAAAAEwAAABEAAAATAAAAEwAAABEAAAARAAAAEQAAABAAAAAQAAAAEQAAAA8AAAARAAAAGgAAABkAAAAaAAAAGAAAABUAAAAWAAAAFwAAABYAAAAUAAAAIQAAACAAAAAgAAAAHQAAACAAAAAiAAAAJAAAACQAAAAdAAAAGgAAABsAAAAeAAAAHwAAABoAAAAaAAAAHAAAABoAAAAdAAAAHAAAABsAAAAYAAAAGAAAABgAAAAWAAAAEwAAABQAAAARAAAADAAAABMAAAASAAAADgAAAA8AAAASAAAAEgAAAA8AAAARAAAAEAAAABIAAAARAAAAEwAAABMAAAARAAAAHQAAABsAAAAfAAAAIAAAABsAAAAaAAAAGgAAABkAAAAZAAAAEQAAABEAAAAUAAAAEgAAABoAAAAaAAAAGwAAABwAAAAZAAAAGQAAABgAAAAbAAAAGQAAABoAAAAXAAAAGgAAABoAAAAaAAAAGgAAABkAAAAbAAAAGQAAABsAAAAUAAAAFAAAABMAAAARAAAAFAAAABEAAAAdAAAAGwAAAB8AAAAfAAAAGgAAABoAAAAcAAAAGwAAAB0AAAAfAAAAHwAAABoAAAAaAAAAGwAAAB4AAAAhAAAAIwAAACUAAAAjAAAADwAAABIAAAAUAAAAFAAAABYAAAARAAAAEwAAABIAAAAUAAAAHQAAABoAAAAdAAAAHQAAABgAAAAsAAAAHQAAABoAAAAdAAAAHQAAAB0AAAAdAAAAFwAAABgAAAAsAAAAKQAAAB0AAAAaAAAAHAAAAB0AAAAdAAAAHQAAABwAAAAdAAAAGgAAABoAAAAaAAAA\"},\"shape\":[234],\"dtype\":\"int32\",\"order\":\"little\"}],[\"fl\",{\"type\":\"ndarray\",\"array\":[\"p\",\"p\",\"p\",\"p\",\"p\",\"p\",\"p\",\"p\",\"p\",\"p\",\"p\",\"p\",\"p\",\"p\",\"p\",\"p\",\"p\",\"p\",\"r\",\"e\",\"r\",\"r\",\"r\",\"p\",\"p\",\"p\",\"p\",\"p\",\"r\",\"e\",\"r\",\"d\",\"r\",\"r\",\"r\",\"r\",\"r\",\"r\",\"r\",\"r\",\"r\",\"r\",\"r\",\"e\",\"r\",\"r\",\"r\",\"r\",\"r\",\"r\",\"r\",\"r\",\"r\",\"r\",\"e\",\"r\",\"r\",\"r\",\"r\",\"e\",\"r\",\"r\",\"r\",\"r\",\"r\",\"e\",\"r\",\"r\",\"r\",\"e\",\"r\",\"r\",\"r\",\"r\",\"r\",\"r\",\"r\",\"r\",\"r\",\"r\",\"r\",\"r\",\"r\",\"r\",\"r\",\"r\",\"r\",\"r\",\"r\",\"r\",\"r\",\"r\",\"r\",\"r\",\"r\",\"r\",\"r\",\"r\",\"p\",\"r\",\"r\",\"r\",\"p\",\"r\",\"r\",\"r\",\"c\",\"p\",\"r\",\"r\",\"r\",\"r\",\"r\",\"r\",\"r\",\"r\",\"r\",\"r\",\"r\",\"r\",\"r\",\"r\",\"d\",\"r\",\"r\",\"r\",\"e\",\"r\",\"r\",\"p\",\"p\",\"r\",\"r\",\"p\",\"r\",\"p\",\"r\",\"r\",\"r\",\"r\",\"r\",\"r\",\"r\",\"r\",\"r\",\"p\",\"p\",\"r\",\"r\",\"p\",\"r\",\"r\",\"p\",\"p\",\"r\",\"p\",\"r\",\"r\",\"p\",\"r\",\"r\",\"r\",\"p\",\"r\",\"p\",\"r\",\"r\",\"r\",\"r\",\"p\",\"r\",\"p\",\"r\",\"r\",\"r\",\"r\",\"r\",\"r\",\"r\",\"r\",\"r\",\"r\",\"r\",\"r\",\"r\",\"r\",\"r\",\"r\",\"r\",\"r\",\"r\",\"r\",\"r\",\"r\",\"r\",\"r\",\"r\",\"r\",\"r\",\"r\",\"r\",\"r\",\"r\",\"r\",\"r\",\"r\",\"r\",\"r\",\"r\",\"p\",\"p\",\"r\",\"d\",\"r\",\"r\",\"p\",\"p\",\"r\",\"r\",\"r\",\"r\",\"d\",\"d\",\"r\",\"r\",\"r\",\"r\",\"p\",\"p\",\"p\",\"p\",\"p\",\"p\",\"p\"],\"shape\":[234],\"dtype\":\"object\",\"order\":\"little\"}],[\"class\",{\"type\":\"ndarray\",\"array\":[\"compact\",\"compact\",\"compact\",\"compact\",\"compact\",\"compact\",\"compact\",\"compact\",\"compact\",\"compact\",\"compact\",\"compact\",\"compact\",\"compact\",\"compact\",\"midsize\",\"midsize\",\"midsize\",\"suv\",\"suv\",\"suv\",\"suv\",\"suv\",\"2seater\",\"2seater\",\"2seater\",\"2seater\",\"2seater\",\"suv\",\"suv\",\"suv\",\"suv\",\"midsize\",\"midsize\",\"midsize\",\"midsize\",\"midsize\",\"minivan\",\"minivan\",\"minivan\",\"minivan\",\"minivan\",\"minivan\",\"minivan\",\"minivan\",\"minivan\",\"minivan\",\"minivan\",\"pickup\",\"pickup\",\"pickup\",\"pickup\",\"pickup\",\"pickup\",\"pickup\",\"pickup\",\"pickup\",\"suv\",\"suv\",\"suv\",\"suv\",\"suv\",\"suv\",\"suv\",\"pickup\",\"pickup\",\"pickup\",\"pickup\",\"pickup\",\"pickup\",\"pickup\",\"pickup\",\"pickup\",\"pickup\",\"suv\",\"suv\",\"suv\",\"suv\",\"suv\",\"suv\",\"suv\",\"suv\",\"suv\",\"pickup\",\"pickup\",\"pickup\",\"pickup\",\"pickup\",\"pickup\",\"pickup\",\"subcompact\",\"subcompact\",\"subcompact\",\"subcompact\",\"subcompact\",\"subcompact\",\"subcompact\",\"subcompact\",\"subcompact\",\"subcompact\",\"subcompact\",\"subcompact\",\"subcompact\",\"subcompact\",\"subcompact\",\"subcompact\",\"subcompact\",\"subcompact\",\"midsize\",\"midsize\",\"midsize\",\"midsize\",\"midsize\",\"midsize\",\"midsize\",\"subcompact\",\"subcompact\",\"subcompact\",\"subcompact\",\"subcompact\",\"subcompact\",\"subcompact\",\"suv\",\"suv\",\"suv\",\"suv\",\"suv\",\"suv\",\"suv\",\"suv\",\"suv\",\"suv\",\"suv\",\"suv\",\"suv\",\"suv\",\"suv\",\"suv\",\"suv\",\"suv\",\"suv\",\"compact\",\"compact\",\"midsize\",\"midsize\",\"midsize\",\"midsize\",\"midsize\",\"midsize\",\"midsize\",\"suv\",\"suv\",\"suv\",\"suv\",\"midsize\",\"midsize\",\"midsize\",\"midsize\",\"midsize\",\"suv\",\"suv\",\"suv\",\"suv\",\"suv\",\"suv\",\"subcompact\",\"subcompact\",\"subcompact\",\"subcompact\",\"compact\",\"compact\",\"compact\",\"compact\",\"suv\",\"suv\",\"suv\",\"suv\",\"suv\",\"suv\",\"midsize\",\"midsize\",\"midsize\",\"midsize\",\"midsize\",\"midsize\",\"midsize\",\"compact\",\"compact\",\"compact\",\"compact\",\"compact\",\"compact\",\"compact\",\"compact\",\"compact\",\"compact\",\"compact\",\"compact\",\"suv\",\"suv\",\"pickup\",\"pickup\",\"pickup\",\"pickup\",\"pickup\",\"pickup\",\"pickup\",\"compact\",\"compact\",\"compact\",\"compact\",\"compact\",\"compact\",\"compact\",\"compact\",\"compact\",\"compact\",\"compact\",\"compact\",\"compact\",\"compact\",\"subcompact\",\"subcompact\",\"subcompact\",\"subcompact\",\"subcompact\",\"subcompact\",\"midsize\",\"midsize\",\"midsize\",\"midsize\",\"midsize\",\"midsize\",\"midsize\"],\"shape\":[234],\"dtype\":\"object\",\"order\":\"little\"}]]}}},\"view\":{\"type\":\"object\",\"name\":\"CDSView\",\"id\":\"p1164\",\"attributes\":{\"filter\":{\"type\":\"object\",\"name\":\"AllIndices\",\"id\":\"p1165\"}}},\"glyph\":{\"type\":\"object\",\"name\":\"Scatter\",\"id\":\"p1160\",\"attributes\":{\"x\":{\"type\":\"field\",\"field\":\"class\",\"transform\":{\"type\":\"object\",\"name\":\"Jitter\",\"id\":\"p1152\",\"attributes\":{\"width\":0.3,\"range\":{\"id\":\"p1130\"}}}},\"y\":{\"type\":\"field\",\"field\":\"hwy\"},\"size\":{\"type\":\"value\",\"value\":13},\"line_color\":{\"type\":\"value\",\"value\":\"white\"},\"line_alpha\":{\"type\":\"value\",\"value\":0.5},\"fill_color\":{\"type\":\"field\",\"field\":\"class\",\"transform\":{\"type\":\"object\",\"name\":\"CategoricalColorMapper\",\"id\":\"p1153\",\"attributes\":{\"palette\":[\"#77AADD\",\"#EE8866\",\"#EEDD88\",\"#FFAABB\",\"#99DDFF\",\"#44BB99\",\"#BBCC33\"],\"factors\":[\"2seater\",\"compact\",\"midsize\",\"minivan\",\"pickup\",\"subcompact\",\"suv\"]}}},\"fill_alpha\":{\"type\":\"value\",\"value\":0.5},\"hatch_color\":{\"type\":\"field\",\"field\":\"class\",\"transform\":{\"id\":\"p1153\"}},\"hatch_alpha\":{\"type\":\"value\",\"value\":0.5}}},\"nonselection_glyph\":{\"type\":\"object\",\"name\":\"Scatter\",\"id\":\"p1161\",\"attributes\":{\"x\":{\"type\":\"field\",\"field\":\"class\",\"transform\":{\"id\":\"p1152\"}},\"y\":{\"type\":\"field\",\"field\":\"hwy\"},\"size\":{\"type\":\"value\",\"value\":13},\"line_color\":{\"type\":\"value\",\"value\":\"white\"},\"line_alpha\":{\"type\":\"value\",\"value\":0.1},\"fill_color\":{\"type\":\"field\",\"field\":\"class\",\"transform\":{\"id\":\"p1153\"}},\"fill_alpha\":{\"type\":\"value\",\"value\":0.1},\"hatch_color\":{\"type\":\"field\",\"field\":\"class\",\"transform\":{\"id\":\"p1153\"}},\"hatch_alpha\":{\"type\":\"value\",\"value\":0.1}}},\"muted_glyph\":{\"type\":\"object\",\"name\":\"Scatter\",\"id\":\"p1162\",\"attributes\":{\"x\":{\"type\":\"field\",\"field\":\"class\",\"transform\":{\"id\":\"p1152\"}},\"y\":{\"type\":\"field\",\"field\":\"hwy\"},\"size\":{\"type\":\"value\",\"value\":13},\"line_color\":{\"type\":\"value\",\"value\":\"white\"},\"line_alpha\":{\"type\":\"value\",\"value\":0.2},\"fill_color\":{\"type\":\"field\",\"field\":\"class\",\"transform\":{\"id\":\"p1153\"}},\"fill_alpha\":{\"type\":\"value\",\"value\":0.2},\"hatch_color\":{\"type\":\"field\",\"field\":\"class\",\"transform\":{\"id\":\"p1153\"}},\"hatch_alpha\":{\"type\":\"value\",\"value\":0.2}}}}}],\"toolbar\":{\"type\":\"object\",\"name\":\"Toolbar\",\"id\":\"p1129\"},\"left\":[{\"type\":\"object\",\"name\":\"LinearAxis\",\"id\":\"p1138\",\"attributes\":{\"ticker\":{\"type\":\"object\",\"name\":\"BasicTicker\",\"id\":\"p1139\",\"attributes\":{\"mantissas\":[1,2,5]}},\"formatter\":{\"type\":\"object\",\"name\":\"BasicTickFormatter\",\"id\":\"p1140\"},\"major_label_policy\":{\"type\":\"object\",\"name\":\"AllLabels\",\"id\":\"p1141\"}}}],\"below\":[{\"type\":\"object\",\"name\":\"CategoricalAxis\",\"id\":\"p1133\",\"attributes\":{\"ticker\":{\"type\":\"object\",\"name\":\"CategoricalTicker\",\"id\":\"p1134\"},\"formatter\":{\"type\":\"object\",\"name\":\"CategoricalTickFormatter\",\"id\":\"p1135\"},\"major_label_policy\":{\"type\":\"object\",\"name\":\"AllLabels\",\"id\":\"p1136\"}}}],\"center\":[{\"type\":\"object\",\"name\":\"Grid\",\"id\":\"p1137\",\"attributes\":{\"axis\":{\"id\":\"p1133\"},\"grid_line_color\":null}},{\"type\":\"object\",\"name\":\"Grid\",\"id\":\"p1142\",\"attributes\":{\"dimension\":1,\"axis\":{\"id\":\"p1138\"}}},{\"type\":\"object\",\"name\":\"Whisker\",\"id\":\"p1146\",\"attributes\":{\"level\":\"annotation\",\"source\":{\"type\":\"object\",\"name\":\"ColumnDataSource\",\"id\":\"p1143\",\"attributes\":{\"selected\":{\"type\":\"object\",\"name\":\"Selection\",\"id\":\"p1144\",\"attributes\":{\"indices\":[],\"line_indices\":[]}},\"selection_policy\":{\"type\":\"object\",\"name\":\"UnionRenderers\",\"id\":\"p1145\"},\"data\":{\"type\":\"map\",\"entries\":[[\"base\",[\"2seater\",\"compact\",\"midsize\",\"minivan\",\"pickup\",\"subcompact\",\"suv\"]],[\"upper\",{\"type\":\"ndarray\",\"array\":{\"type\":\"bytes\",\"data\":\"AAAAAAAAOkDOzMzMzMw9QAAAAAAAAD1AAAAAAAAAOEAAAAAAAAAzQAAAAAAAAEBAAAAAAAAANEA=\"},\"shape\":[7],\"dtype\":\"float64\",\"order\":\"little\"}],[\"lower\",{\"type\":\"ndarray\",\"array\":{\"type\":\"bytes\",\"data\":\"zczMzMzMN0A0MzMzMzM5QAAAAAAAADpAAAAAAAAANkDNzMzMzMwuQAAAAAAAADhAAAAAAAAAMUA=\"},\"shape\":[7],\"dtype\":\"float64\",\"order\":\"little\"}]]}}},\"lower\":{\"type\":\"field\",\"field\":\"lower\"},\"lower_head\":{\"type\":\"object\",\"name\":\"TeeHead\",\"id\":\"p1150\",\"attributes\":{\"size\":{\"type\":\"value\",\"value\":20}}},\"upper\":{\"type\":\"field\",\"field\":\"upper\"},\"upper_head\":{\"type\":\"object\",\"name\":\"TeeHead\",\"id\":\"p1151\",\"attributes\":{\"size\":{\"type\":\"value\",\"value\":20}}},\"base\":{\"type\":\"field\",\"field\":\"base\"},\"line_width\":{\"type\":\"value\",\"value\":2}}}],\"background_fill_color\":\"#efefef\"}}]}};\n  const render_items = [{\"docid\":\"b7c04959-6718-4c98-8cbd-97a5e71cf745\",\"roots\":{\"p1120\":\"eee6bfbb-37df-4b1d-aaf1-b7b5ad6ec121\"},\"root_ids\":[\"p1120\"]}];\n  void root.Bokeh.embed.embed_items_notebook(docs_json, render_items);\n  }\n  if (root.Bokeh !== undefined) {\n    embed_document(root);\n  } else {\n    let attempts = 0;\n    const timer = setInterval(function(root) {\n      if (root.Bokeh !== undefined) {\n        clearInterval(timer);\n        embed_document(root);\n      } else {\n        attempts++;\n        if (attempts > 100) {\n          clearInterval(timer);\n          console.log(\"Bokeh: ERROR: Unable to run BokehJS code because BokehJS library is missing\");\n        }\n      }\n    }, 10, root)\n  }\n})(window);",
      "application/vnd.bokehjs_exec.v0+json": ""
     },
     "metadata": {
      "application/vnd.bokehjs_exec.v0+json": {
       "id": "p1120"
      }
     },
     "output_type": "display_data"
    }
   ],
   "source": [
    "\n",
    "from bokeh.sampledata.autompg2 import autompg2 as df\n",
    "\n",
    "#modifier ici pour prendre en compte les valeurs de kappa en fonction des valeurs de lr \n",
    "\n",
    "classes = list(sorted(df[\"class\"].unique()))\n",
    "\n",
    "p = figure(height=400, x_range=classes, background_fill_color=\"#efefef\",\n",
    "           title=\"Kappa by lr value\", tools='')\n",
    "p.xgrid.grid_line_color = None\n",
    "\n",
    "g = df.groupby(\"class\")\n",
    "upper = g.hwy.quantile(0.80)\n",
    "lower = g.hwy.quantile(0.20)\n",
    "source = ColumnDataSource(data=dict(base=classes, upper=upper, lower=lower))\n",
    "\n",
    "error = Whisker(base=\"base\", upper=\"upper\", lower=\"lower\", source=source,\n",
    "                level=\"annotation\", line_width=2)\n",
    "error.upper_head.size=20\n",
    "error.lower_head.size=20\n",
    "p.add_layout(error)\n",
    "\n",
    "p.scatter(jitter(\"class\", 0.3, range=p.x_range), \"hwy\", source=df,\n",
    "          alpha=0.5, size=13, line_color=\"white\",\n",
    "          color=factor_cmap(\"class\", \"Light7\", classes))\n",
    "\n",
    "show(p)"
   ]
  }
 ],
 "metadata": {
  "kernelspec": {
   "display_name": "DL",
   "language": "python",
   "name": "python3"
  },
  "language_info": {
   "codemirror_mode": {
    "name": "ipython",
    "version": 3
   },
   "file_extension": ".py",
   "mimetype": "text/x-python",
   "name": "python",
   "nbconvert_exporter": "python",
   "pygments_lexer": "ipython3",
   "version": "3.12.4"
  }
 },
 "nbformat": 4,
 "nbformat_minor": 2
}
