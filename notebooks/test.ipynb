{
 "cells": [
  {
   "cell_type": "code",
   "execution_count": 1,
   "metadata": {},
   "outputs": [
    {
     "name": "stderr",
     "output_type": "stream",
     "text": [
      "/home/florian/miniconda3/envs/DL/lib/python3.12/site-packages/tqdm/auto.py:21: TqdmWarning: IProgress not found. Please update jupyter and ipywidgets. See https://ipywidgets.readthedocs.io/en/stable/user_install.html\n",
      "  from .autonotebook import tqdm as notebook_tqdm\n"
     ]
    }
   ],
   "source": [
    "import argparse\n",
    "import os\n",
    "\n",
    "import torch\n",
    "from nntools.utils import Config\n",
    "from fundusClassif.data.data_factory import get_datamodule_from_config\n",
    "\n"
   ]
  },
  {
   "cell_type": "code",
   "execution_count": 2,
   "metadata": {},
   "outputs": [
    {
     "name": "stdout",
     "output_type": "stream",
     "text": [
      "<fundus_data_toolkit.datamodules.classification.EyePACSDataModule object at 0x7f0c2d1c8b90>\n",
      "Train 28101 Val 7025 Test 53575\n",
      "<fundus_data_toolkit.datamodules.classification.AptosDataModule object at 0x7f0c1bb68a40>\n",
      "Train 2930 Val 732 <fundus_data_toolkit.datamodules.classification.IDRiDDataModule object at 0x7f0c1b1e8bc0>\n",
      "Train 331 Val 82 Test 103\n",
      "<fundus_data_toolkit.datamodules.classification.DDRDataModule object at 0x7f0c1a21abd0>\n",
      "Train 6260 Val 2503 Test 3759\n"
     ]
    },
    {
     "name": "stderr",
     "output_type": "stream",
     "text": [
      "/home/florian/miniconda3/envs/DL/lib/python3.12/site-packages/nntools/dataset/classif_dataset.py:99: SettingWithCopyWarning: \n",
      "A value is trying to be set on a copy of a slice from a DataFrame\n",
      "\n",
      "See the caveats in the documentation: https://pandas.pydata.org/pandas-docs/stable/user_guide/indexing.html#returning-a-view-versus-a-copy\n",
      "  df.sort_values(self.file_column, inplace=True)\n"
     ]
    }
   ],
   "source": [
    "config = Config('../configs/config.yaml')\n",
    "config\n",
    "\n",
    "datamodule = get_datamodule_from_config(config['datasets'], config['data'])\n",
    "#dataloader = datamodule.train_dataloader()\n",
    "#dataloader_valid = datamodule.val_dataloader()\n",
    "#test_dataloader = datamodule.test_dataloader()\n",
    "#test_datasets_ids = [d.dataset.id for i, d in enumerate(test_dataloader)]\n",
    "\n",
    "#print(f\"Train dataset size: {len(dataloader.dataset)}\")\n",
    "#print(f\"Valid dataset size: {len(dataloader_valid.dataset)}\")\n",
    "#print(f\"Test datasets ids: {test_datasets_ids}\")\n",
    "\n",
    "  \n",
    "\n",
    "\n"
   ]
  }
 ],
 "metadata": {
  "kernelspec": {
   "display_name": "DL",
   "language": "python",
   "name": "python3"
  },
  "language_info": {
   "codemirror_mode": {
    "name": "ipython",
    "version": 3
   },
   "file_extension": ".py",
   "mimetype": "text/x-python",
   "name": "python",
   "nbconvert_exporter": "python",
   "pygments_lexer": "ipython3",
   "version": "3.12.4"
  }
 },
 "nbformat": 4,
 "nbformat_minor": 2
}
