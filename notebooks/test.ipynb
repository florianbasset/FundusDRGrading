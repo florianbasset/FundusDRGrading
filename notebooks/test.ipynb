{
 "cells": [
  {
   "cell_type": "code",
   "execution_count": 15,
   "metadata": {},
   "outputs": [],
   "source": [
    "import argparse\n",
    "import os\n",
    "\n",
    "import torch\n",
    "from nntools.utils import Config\n",
    "from fundusClassif.data.data_factory import get_datamodule_from_config\n",
    "from fundusClassif.callbacks.mixup import MixupCallback\n",
    "from fundusClassif.utils.images import get_preprocessing\n",
    "from fundus_data_toolkit.datamodules import DataHookPosition\n",
    "\n"
   ]
  },
  {
   "cell_type": "code",
   "execution_count": 16,
   "metadata": {},
   "outputs": [
    {
     "name": "stderr",
     "output_type": "stream",
     "text": [
      "/home/florian/miniconda3/envs/DL/lib/python3.12/site-packages/nntools/dataset/classif_dataset.py:99: SettingWithCopyWarning: \n",
      "A value is trying to be set on a copy of a slice from a DataFrame\n",
      "\n",
      "See the caveats in the documentation: https://pandas.pydata.org/pandas-docs/stable/user_guide/indexing.html#returning-a-view-versus-a-copy\n",
      "  df.sort_values(self.file_column, inplace=True)\n"
     ]
    },
    {
     "name": "stdout",
     "output_type": "stream",
     "text": [
      "Train dataset size: 37622\n",
      "Valid dataset size: 10342\n",
      "Test datasets ids: ['EYEPACS_test', 'IDRID_test', 'DDR_test']\n"
     ]
    },
    {
     "ename": "TypeError",
     "evalue": "'MixupCallback' object is not callable",
     "output_type": "error",
     "traceback": [
      "\u001b[0;31m---------------------------------------------------------------------------\u001b[0m",
      "\u001b[0;31mTypeError\u001b[0m                                 Traceback (most recent call last)",
      "Cell \u001b[0;32mIn[16], line 26\u001b[0m\n\u001b[1;32m     24\u001b[0m datamodule\u001b[38;5;241m.\u001b[39mset_data_pipeline_hook(mixup, position\u001b[38;5;241m=\u001b[39mDataHookPosition\u001b[38;5;241m.\u001b[39mPOST_RESIZE_POST_CACHE)\n\u001b[1;32m     25\u001b[0m datamodule\u001b[38;5;241m.\u001b[39mtrain\u001b[38;5;241m.\u001b[39mcomposer\n\u001b[0;32m---> 26\u001b[0m \u001b[43mdatamodule\u001b[49m\u001b[38;5;241;43m.\u001b[39;49m\u001b[43mtrain\u001b[49m\u001b[38;5;241;43m.\u001b[39;49m\u001b[43mplot\u001b[49m\u001b[43m(\u001b[49m\u001b[38;5;241;43m0\u001b[39;49m\u001b[43m)\u001b[49m\n",
      "File \u001b[0;32m~/miniconda3/envs/DL/lib/python3.12/site-packages/nntools/dataset/utils/concat.py:44\u001b[0m, in \u001b[0;36mConcatDataset.plot\u001b[0;34m(self, idx, **kwargs)\u001b[0m\n\u001b[1;32m     41\u001b[0m \u001b[38;5;28;01melse\u001b[39;00m:\n\u001b[1;32m     42\u001b[0m     sample_idx \u001b[38;5;241m=\u001b[39m idx \u001b[38;5;241m-\u001b[39m \u001b[38;5;28mself\u001b[39m\u001b[38;5;241m.\u001b[39mcumulative_sizes[dataset_idx \u001b[38;5;241m-\u001b[39m \u001b[38;5;241m1\u001b[39m]\n\u001b[0;32m---> 44\u001b[0m \u001b[38;5;28;43mself\u001b[39;49m\u001b[38;5;241;43m.\u001b[39;49m\u001b[43mdatasets\u001b[49m\u001b[43m[\u001b[49m\u001b[43mdataset_idx\u001b[49m\u001b[43m]\u001b[49m\u001b[38;5;241;43m.\u001b[39;49m\u001b[43mplot\u001b[49m\u001b[43m(\u001b[49m\u001b[43msample_idx\u001b[49m\u001b[43m,\u001b[49m\u001b[43m \u001b[49m\u001b[38;5;241;43m*\u001b[39;49m\u001b[38;5;241;43m*\u001b[39;49m\u001b[43mkwargs\u001b[49m\u001b[43m)\u001b[49m\n",
      "File \u001b[0;32m~/miniconda3/envs/DL/lib/python3.12/site-packages/nntools/dataset/abstract_image_dataset.py:248\u001b[0m, in \u001b[0;36mAbstractImageDataset.plot\u001b[0;34m(self, item, classes, fig_size)\u001b[0m\n\u001b[1;32m    247\u001b[0m \u001b[38;5;28;01mdef\u001b[39;00m \u001b[38;5;21mplot\u001b[39m(\u001b[38;5;28mself\u001b[39m, item: \u001b[38;5;28mint\u001b[39m, classes: Optional[List[\u001b[38;5;28mstr\u001b[39m]] \u001b[38;5;241m=\u001b[39m \u001b[38;5;28;01mNone\u001b[39;00m, fig_size: \u001b[38;5;28mint\u001b[39m \u001b[38;5;241m=\u001b[39m \u001b[38;5;241m1\u001b[39m):\n\u001b[0;32m--> 248\u001b[0m     \u001b[38;5;28;43mself\u001b[39;49m\u001b[38;5;241;43m.\u001b[39;49m\u001b[43mviewer\u001b[49m\u001b[38;5;241;43m.\u001b[39;49m\u001b[43mplot\u001b[49m\u001b[43m(\u001b[49m\u001b[43mitem\u001b[49m\u001b[43m,\u001b[49m\u001b[43m \u001b[49m\u001b[43mclasses\u001b[49m\u001b[43m,\u001b[49m\u001b[43m \u001b[49m\u001b[43mfig_size\u001b[49m\u001b[43m)\u001b[49m\n",
      "File \u001b[0;32m~/miniconda3/envs/DL/lib/python3.12/site-packages/nntools/dataset/viewer.py:30\u001b[0m, in \u001b[0;36mViewer.plot\u001b[0;34m(self, item, classes, fig_size)\u001b[0m\n\u001b[1;32m     29\u001b[0m \u001b[38;5;28;01mdef\u001b[39;00m \u001b[38;5;21mplot\u001b[39m(\u001b[38;5;28mself\u001b[39m, item: \u001b[38;5;28mint\u001b[39m, classes: Optional[List[\u001b[38;5;28mstr\u001b[39m]] \u001b[38;5;241m=\u001b[39m \u001b[38;5;28;01mNone\u001b[39;00m, fig_size: \u001b[38;5;28mint\u001b[39m \u001b[38;5;241m=\u001b[39m \u001b[38;5;241m1\u001b[39m):\n\u001b[0;32m---> 30\u001b[0m     arrays \u001b[38;5;241m=\u001b[39m \u001b[38;5;28;43mself\u001b[39;49m\u001b[38;5;241;43m.\u001b[39;49m\u001b[43md\u001b[49m\u001b[38;5;241;43m.\u001b[39;49m\u001b[38;5;21;43m__getitem__\u001b[39;49m\u001b[43m(\u001b[49m\u001b[43mitem\u001b[49m\u001b[43m,\u001b[49m\u001b[43m \u001b[49m\u001b[43mreturn_indices\u001b[49m\u001b[38;5;241;43m=\u001b[39;49m\u001b[38;5;28;43;01mFalse\u001b[39;49;00m\u001b[43m)\u001b[49m\n\u001b[1;32m     31\u001b[0m     arrays \u001b[38;5;241m=\u001b[39m convert_dict_to_plottable(arrays)\n\u001b[1;32m     32\u001b[0m     plot_images(arrays, \u001b[38;5;28mself\u001b[39m\u001b[38;5;241m.\u001b[39mcmap_name, classes\u001b[38;5;241m=\u001b[39mclasses, fig_size\u001b[38;5;241m=\u001b[39mfig_size)\n",
      "File \u001b[0;32m~/miniconda3/envs/DL/lib/python3.12/site-packages/nntools/dataset/abstract_image_dataset.py:217\u001b[0m, in \u001b[0;36mAbstractImageDataset.__getitem__\u001b[0;34m(self, index, return_indices, return_tag)\u001b[0m\n\u001b[1;32m    214\u001b[0m inputs \u001b[38;5;241m=\u001b[39m \u001b[38;5;28mself\u001b[39m\u001b[38;5;241m.\u001b[39mload_array(index)\n\u001b[1;32m    216\u001b[0m \u001b[38;5;28;01mif\u001b[39;00m \u001b[38;5;28mself\u001b[39m\u001b[38;5;241m.\u001b[39mcomposer:\n\u001b[0;32m--> 217\u001b[0m     outputs \u001b[38;5;241m=\u001b[39m \u001b[38;5;28;43mself\u001b[39;49m\u001b[38;5;241;43m.\u001b[39;49m\u001b[43mcomposer\u001b[49m\u001b[38;5;241;43m.\u001b[39;49m\u001b[43mpostcache_call\u001b[49m\u001b[43m(\u001b[49m\u001b[38;5;241;43m*\u001b[39;49m\u001b[38;5;241;43m*\u001b[39;49m\u001b[43minputs\u001b[49m\u001b[43m)\u001b[49m\n\u001b[1;32m    218\u001b[0m \u001b[38;5;28;01melse\u001b[39;00m:\n\u001b[1;32m    219\u001b[0m     outputs \u001b[38;5;241m=\u001b[39m inputs\n",
      "File \u001b[0;32m~/miniconda3/envs/DL/lib/python3.12/site-packages/nntools/dataset/composer.py:94\u001b[0m, in \u001b[0;36mComposition.postcache_call\u001b[0;34m(self, **kwargs)\u001b[0m\n\u001b[1;32m     92\u001b[0m         \u001b[38;5;28;01mcontinue\u001b[39;00m\n\u001b[1;32m     93\u001b[0m     \u001b[38;5;28;01melse\u001b[39;00m:\n\u001b[0;32m---> 94\u001b[0m         kwargs \u001b[38;5;241m=\u001b[39m \u001b[43mop\u001b[49m\u001b[43m[\u001b[49m\u001b[38;5;124;43m\"\u001b[39;49m\u001b[38;5;124;43mf\u001b[39;49m\u001b[38;5;124;43m\"\u001b[39;49m\u001b[43m]\u001b[49m\u001b[43m(\u001b[49m\u001b[38;5;241;43m*\u001b[39;49m\u001b[38;5;241;43m*\u001b[39;49m\u001b[43mkwargs\u001b[49m\u001b[43m)\u001b[49m\n\u001b[1;32m     95\u001b[0m \u001b[38;5;28;01mreturn\u001b[39;00m kwargs\n",
      "File \u001b[0;32m~/miniconda3/envs/DL/lib/python3.12/site-packages/nntools/dataset/composer.py:67\u001b[0m, in \u001b[0;36mComposition.__call__\u001b[0;34m(self, **kwargs)\u001b[0m\n\u001b[1;32m     65\u001b[0m     \u001b[38;5;28;01mif\u001b[39;00m \u001b[38;5;28misinstance\u001b[39m(op[\u001b[38;5;124m\"\u001b[39m\u001b[38;5;124mf\u001b[39m\u001b[38;5;124m\"\u001b[39m], CacheBullet):\n\u001b[1;32m     66\u001b[0m         \u001b[38;5;28;01mcontinue\u001b[39;00m\n\u001b[0;32m---> 67\u001b[0m     batch_elements \u001b[38;5;241m=\u001b[39m \u001b[43mop\u001b[49m\u001b[43m[\u001b[49m\u001b[38;5;124;43m\"\u001b[39;49m\u001b[38;5;124;43mf\u001b[39;49m\u001b[38;5;124;43m\"\u001b[39;49m\u001b[43m]\u001b[49m\u001b[43m(\u001b[49m\u001b[38;5;241;43m*\u001b[39;49m\u001b[38;5;241;43m*\u001b[39;49m\u001b[43mbatch_elements\u001b[49m\u001b[43m)\u001b[49m\n\u001b[1;32m     68\u001b[0m \u001b[38;5;28;01mreturn\u001b[39;00m batch_elements\n",
      "\u001b[0;31mTypeError\u001b[0m: 'MixupCallback' object is not callable"
     ]
    }
   ],
   "source": [
    "config = Config('../configs/config.yaml')\n",
    "config\n",
    "\n",
    "config[\"data_preprocessing\"][\"name\"] = \"absent\"\n",
    "if config[\"data_preprocessing\"][\"name\"] != \"absent\":\n",
    "        config[\"data\"][\"cache_dir\"] = config[\"data_preprocessing\"][\"name\"]\n",
    "        \n",
    "        prepro_function = get_preprocessing(config[\"data_preprocessing\"][\"name\"])\n",
    "\n",
    "datamodule = get_datamodule_from_config(config['datasets'], config['data'])\n",
    "dataloader = datamodule.train_dataloader()\n",
    "dataloader_valid = datamodule.val_dataloader()\n",
    "test_dataloader = datamodule.test_dataloader()\n",
    "test_datasets_ids = [d.dataset.id for i, d in enumerate(test_dataloader)]\n",
    "\n",
    "#taille des datasets\n",
    "print(f\"Train dataset size: {len(dataloader.dataset)}\")\n",
    "print(f\"Valid dataset size: {len(dataloader_valid.dataset)}\")\n",
    "print(f\"Test datasets ids: {test_datasets_ids}\")\n",
    "\n",
    "if config[\"data_preprocessing\"][\"name\"] != \"absent\":\n",
    "        datamodule.set_data_pipeline_hook(prepro_function, position=DataHookPosition.POST_RESIZE_PRE_CACHE)\n",
    "mixup = MixupCallback(mixup_alpha=0.3)\n",
    "datamodule.set_data_pipeline_hook(mixup, position=DataHookPosition.POST_RESIZE_POST_CACHE)\n",
    "datamodule.train.composer\n",
    "datamodule.train.plot(0)\n",
    "      \n",
    "\n",
    "\n"
   ]
  }
 ],
 "metadata": {
  "kernelspec": {
   "display_name": "DL",
   "language": "python",
   "name": "python3"
  },
  "language_info": {
   "codemirror_mode": {
    "name": "ipython",
    "version": 3
   },
   "file_extension": ".py",
   "mimetype": "text/x-python",
   "name": "python",
   "nbconvert_exporter": "python",
   "pygments_lexer": "ipython3",
   "version": "3.12.4"
  }
 },
 "nbformat": 4,
 "nbformat_minor": 2
}
